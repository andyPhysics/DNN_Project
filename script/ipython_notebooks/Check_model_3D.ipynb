{
 "cells": [
  {
   "cell_type": "markdown",
   "metadata": {},
   "source": [
    "## Analysis of model\n",
    "\n",
    "Here I produce the plots that were necessary for this analysis. It takes quite some time to run but it shows the histogram of the error and also the zenith distribution. It also produces predicted values using the model that was best up till now. "
   ]
  },
  {
   "cell_type": "code",
   "execution_count": 1,
   "metadata": {},
   "outputs": [],
   "source": [
    "import numpy as np"
   ]
  },
  {
   "cell_type": "code",
   "execution_count": 2,
   "metadata": {},
   "outputs": [],
   "source": [
    "import pandas as pd\n",
    "import sys,os"
   ]
  },
  {
   "cell_type": "code",
   "execution_count": 3,
   "metadata": {},
   "outputs": [],
   "source": [
    "def load_files(batch):\n",
    "    images = []\n",
    "    labels = []\n",
    "    for i in batch:\n",
    "        print('Loading File: ' + i)\n",
    "        x = np.load(i,allow_pickle=True).item()\n",
    "        keys = x.keys()\n",
    "        for key in keys:\n",
    "            images.append(x[key][0])\n",
    "            labels.append(x[key][1])\n",
    "    return np.array(images),np.array(labels)\n",
    "\n",
    "def get_feature(labels,feature):\n",
    "    feature_values = []\n",
    "    for i in labels:\n",
    "        feature_values.append(i[feature])\n",
    "    feature_values = np.array(feature_values)\n",
    "    return feature_values\n",
    "\n",
    "def get_cos_values(zenith,azimuth):\n",
    "    cos1 = []\n",
    "    cos2 = []\n",
    "    cos3 = []\n",
    "    for i,j in zip(zenith,azimuth):\n",
    "        cos1.append(np.sin(i) * np.cos(j))\n",
    "        cos2.append(np.sin(i) * np.sin(j))\n",
    "        cos3.append(np.cos(i))\n",
    "    return np.array(cos1),np.array(cos2),np.array(cos3)"
   ]
  },
  {
   "cell_type": "code",
   "execution_count": 4,
   "metadata": {},
   "outputs": [],
   "source": [
    "output_best = 'gpu_test_3D.h5'\n",
    "file_path = '/fs/scratch/PAS1495/amedina/'\n",
    "y = os.listdir(file_path+'processed_3D')\n",
    "file_names = []\n",
    "\n",
    "for i in y:\n",
    "    file_names.append(file_path+'processed_3D/'+i)\n",
    "\n",
    "file_names_batched = list(np.array_split(file_names,5))"
   ]
  },
  {
   "cell_type": "code",
   "execution_count": 5,
   "metadata": {},
   "outputs": [
    {
     "name": "stdout",
     "output_type": "stream",
     "text": [
      "Loading File: /fs/scratch/PAS1495/amedina/processed_3D/images_2437.npy\n",
      "Loading File: /fs/scratch/PAS1495/amedina/processed_3D/images_2128.npy\n",
      "Loading File: /fs/scratch/PAS1495/amedina/processed_3D/images_2922.npy\n",
      "Loading File: /fs/scratch/PAS1495/amedina/processed_3D/images_3648.npy\n",
      "Loading File: /fs/scratch/PAS1495/amedina/processed_3D/images_4774.npy\n",
      "Loading File: /fs/scratch/PAS1495/amedina/processed_3D/images_67.npy\n",
      "Loading File: /fs/scratch/PAS1495/amedina/processed_3D/images_3786.npy\n",
      "Loading File: /fs/scratch/PAS1495/amedina/processed_3D/images_1949.npy\n",
      "Loading File: /fs/scratch/PAS1495/amedina/processed_3D/images_4297.npy\n",
      "Loading File: /fs/scratch/PAS1495/amedina/processed_3D/images_5086.npy\n",
      "Loading File: /fs/scratch/PAS1495/amedina/processed_3D/images_1870.npy\n",
      "Loading File: /fs/scratch/PAS1495/amedina/processed_3D/images_218.npy\n",
      "Loading File: /fs/scratch/PAS1495/amedina/processed_3D/images_99.npy\n",
      "Loading File: /fs/scratch/PAS1495/amedina/processed_3D/images_1982.npy\n",
      "Loading File: /fs/scratch/PAS1495/amedina/processed_3D/images_2192.npy\n",
      "Loading File: /fs/scratch/PAS1495/amedina/processed_3D/images_1936.npy\n",
      "Loading File: /fs/scratch/PAS1495/amedina/processed_3D/images_2427.npy\n",
      "Loading File: /fs/scratch/PAS1495/amedina/processed_3D/images_281.npy\n",
      "Loading File: /fs/scratch/PAS1495/amedina/processed_3D/images_840.npy\n",
      "Loading File: /fs/scratch/PAS1495/amedina/processed_3D/images_2811.npy\n",
      "Loading File: /fs/scratch/PAS1495/amedina/processed_3D/images_3475.npy\n",
      "Loading File: /fs/scratch/PAS1495/amedina/processed_3D/images_979.npy\n",
      "Loading File: /fs/scratch/PAS1495/amedina/processed_3D/images_4152.npy\n",
      "Loading File: /fs/scratch/PAS1495/amedina/processed_3D/images_1650.npy\n",
      "Loading File: /fs/scratch/PAS1495/amedina/processed_3D/images_7413.npy\n",
      "Loading File: /fs/scratch/PAS1495/amedina/processed_3D/images_6546.npy\n",
      "Loading File: /fs/scratch/PAS1495/amedina/processed_3D/images_3507.npy\n",
      "Loading File: /fs/scratch/PAS1495/amedina/processed_3D/images_6129.npy\n",
      "Loading File: /fs/scratch/PAS1495/amedina/processed_3D/images_4804.npy\n",
      "Loading File: /fs/scratch/PAS1495/amedina/processed_3D/images_7733.npy\n",
      "Loading File: /fs/scratch/PAS1495/amedina/processed_3D/images_4922.npy\n",
      "Loading File: /fs/scratch/PAS1495/amedina/processed_3D/images_2141.npy\n",
      "Loading File: /fs/scratch/PAS1495/amedina/processed_3D/images_3712.npy\n",
      "Loading File: /fs/scratch/PAS1495/amedina/processed_3D/images_2194.npy\n",
      "Loading File: /fs/scratch/PAS1495/amedina/processed_3D/images_1920.npy\n",
      "Loading File: /fs/scratch/PAS1495/amedina/processed_3D/images_7973.npy\n",
      "Loading File: /fs/scratch/PAS1495/amedina/processed_3D/images_178.npy\n",
      "Loading File: /fs/scratch/PAS1495/amedina/processed_3D/images_7945.npy\n",
      "Loading File: /fs/scratch/PAS1495/amedina/processed_3D/images_72.npy\n",
      "Loading File: /fs/scratch/PAS1495/amedina/processed_3D/images_5482.npy\n",
      "Loading File: /fs/scratch/PAS1495/amedina/processed_3D/images_6627.npy\n",
      "Loading File: /fs/scratch/PAS1495/amedina/processed_3D/images_6070.npy\n",
      "Loading File: /fs/scratch/PAS1495/amedina/processed_3D/images_892.npy\n",
      "Loading File: /fs/scratch/PAS1495/amedina/processed_3D/images_4933.npy\n",
      "Loading File: /fs/scratch/PAS1495/amedina/processed_3D/images_6382.npy\n",
      "Loading File: /fs/scratch/PAS1495/amedina/processed_3D/images_6857.npy\n",
      "Loading File: /fs/scratch/PAS1495/amedina/processed_3D/images_7377.npy\n",
      "Loading File: /fs/scratch/PAS1495/amedina/processed_3D/images_4594.npy\n",
      "Loading File: /fs/scratch/PAS1495/amedina/processed_3D/images_3817.npy\n",
      "Loading File: /fs/scratch/PAS1495/amedina/processed_3D/images_7306.npy\n",
      "Loading File: /fs/scratch/PAS1495/amedina/processed_3D/images_4289.npy\n",
      "Loading File: /fs/scratch/PAS1495/amedina/processed_3D/images_6612.npy\n",
      "Loading File: /fs/scratch/PAS1495/amedina/processed_3D/images_5771.npy\n",
      "Loading File: /fs/scratch/PAS1495/amedina/processed_3D/images_4863.npy\n",
      "Loading File: /fs/scratch/PAS1495/amedina/processed_3D/images_2717.npy\n",
      "Loading File: /fs/scratch/PAS1495/amedina/processed_3D/images_5449.npy\n",
      "Loading File: /fs/scratch/PAS1495/amedina/processed_3D/images_7221.npy\n",
      "Loading File: /fs/scratch/PAS1495/amedina/processed_3D/images_5271.npy\n",
      "Loading File: /fs/scratch/PAS1495/amedina/processed_3D/images_7065.npy\n",
      "Loading File: /fs/scratch/PAS1495/amedina/processed_3D/images_3627.npy\n",
      "Loading File: /fs/scratch/PAS1495/amedina/processed_3D/images_3286.npy\n",
      "Loading File: /fs/scratch/PAS1495/amedina/processed_3D/images_2740.npy\n",
      "Loading File: /fs/scratch/PAS1495/amedina/processed_3D/images_2558.npy\n",
      "Loading File: /fs/scratch/PAS1495/amedina/processed_3D/images_2457.npy\n",
      "Loading File: /fs/scratch/PAS1495/amedina/processed_3D/images_7467.npy\n",
      "Loading File: /fs/scratch/PAS1495/amedina/processed_3D/images_5584.npy\n",
      "Loading File: /fs/scratch/PAS1495/amedina/processed_3D/images_6713.npy\n",
      "Loading File: /fs/scratch/PAS1495/amedina/processed_3D/images_7743.npy\n",
      "Loading File: /fs/scratch/PAS1495/amedina/processed_3D/images_5553.npy\n",
      "Loading File: /fs/scratch/PAS1495/amedina/processed_3D/images_4020.npy\n",
      "Loading File: /fs/scratch/PAS1495/amedina/processed_3D/images_934.npy\n",
      "Loading File: /fs/scratch/PAS1495/amedina/processed_3D/images_6168.npy\n",
      "Loading File: /fs/scratch/PAS1495/amedina/processed_3D/images_7896.npy\n",
      "Loading File: /fs/scratch/PAS1495/amedina/processed_3D/images_6269.npy\n",
      "Loading File: /fs/scratch/PAS1495/amedina/processed_3D/images_5122.npy\n",
      "Loading File: /fs/scratch/PAS1495/amedina/processed_3D/images_1215.npy\n",
      "Loading File: /fs/scratch/PAS1495/amedina/processed_3D/images_1767.npy\n",
      "Loading File: /fs/scratch/PAS1495/amedina/processed_3D/images_1707.npy\n",
      "Loading File: /fs/scratch/PAS1495/amedina/processed_3D/images_1822.npy\n",
      "Loading File: /fs/scratch/PAS1495/amedina/processed_3D/images_3692.npy\n",
      "Loading File: /fs/scratch/PAS1495/amedina/processed_3D/images_4509.npy\n",
      "Loading File: /fs/scratch/PAS1495/amedina/processed_3D/images_3345.npy\n",
      "Loading File: /fs/scratch/PAS1495/amedina/processed_3D/images_772.npy\n",
      "Loading File: /fs/scratch/PAS1495/amedina/processed_3D/images_3163.npy\n",
      "Loading File: /fs/scratch/PAS1495/amedina/processed_3D/images_1860.npy\n",
      "Loading File: /fs/scratch/PAS1495/amedina/processed_3D/images_620.npy\n",
      "Loading File: /fs/scratch/PAS1495/amedina/processed_3D/images_2431.npy\n",
      "Loading File: /fs/scratch/PAS1495/amedina/processed_3D/images_6427.npy\n",
      "Loading File: /fs/scratch/PAS1495/amedina/processed_3D/images_2452.npy\n",
      "Loading File: /fs/scratch/PAS1495/amedina/processed_3D/images_2330.npy\n",
      "Loading File: /fs/scratch/PAS1495/amedina/processed_3D/images_1756.npy\n",
      "Loading File: /fs/scratch/PAS1495/amedina/processed_3D/images_6465.npy\n",
      "Loading File: /fs/scratch/PAS1495/amedina/processed_3D/images_6090.npy\n",
      "Loading File: /fs/scratch/PAS1495/amedina/processed_3D/images_4686.npy\n",
      "Loading File: /fs/scratch/PAS1495/amedina/processed_3D/images_5561.npy\n",
      "Loading File: /fs/scratch/PAS1495/amedina/processed_3D/images_2722.npy\n",
      "Loading File: /fs/scratch/PAS1495/amedina/processed_3D/images_3024.npy\n",
      "Loading File: /fs/scratch/PAS1495/amedina/processed_3D/images_3976.npy\n",
      "Loading File: /fs/scratch/PAS1495/amedina/processed_3D/images_2743.npy\n",
      "Loading File: /fs/scratch/PAS1495/amedina/processed_3D/images_795.npy\n",
      "Loading File: /fs/scratch/PAS1495/amedina/processed_3D/images_6917.npy\n",
      "Loading File: /fs/scratch/PAS1495/amedina/processed_3D/images_7759.npy\n",
      "Loading File: /fs/scratch/PAS1495/amedina/processed_3D/images_2176.npy\n",
      "Loading File: /fs/scratch/PAS1495/amedina/processed_3D/images_1336.npy\n",
      "Loading File: /fs/scratch/PAS1495/amedina/processed_3D/images_6672.npy\n",
      "Loading File: /fs/scratch/PAS1495/amedina/processed_3D/images_4878.npy\n",
      "Loading File: /fs/scratch/PAS1495/amedina/processed_3D/images_677.npy\n",
      "Loading File: /fs/scratch/PAS1495/amedina/processed_3D/images_7014.npy\n",
      "Loading File: /fs/scratch/PAS1495/amedina/processed_3D/images_7229.npy\n",
      "Loading File: /fs/scratch/PAS1495/amedina/processed_3D/images_1512.npy\n",
      "Loading File: /fs/scratch/PAS1495/amedina/processed_3D/images_4873.npy\n",
      "Loading File: /fs/scratch/PAS1495/amedina/processed_3D/images_1796.npy\n",
      "Loading File: /fs/scratch/PAS1495/amedina/processed_3D/images_4575.npy\n",
      "Loading File: /fs/scratch/PAS1495/amedina/processed_3D/images_3335.npy\n",
      "Loading File: /fs/scratch/PAS1495/amedina/processed_3D/images_7095.npy\n",
      "Loading File: /fs/scratch/PAS1495/amedina/processed_3D/images_5975.npy\n"
     ]
    },
    {
     "name": "stdout",
     "output_type": "stream",
     "text": [
      "Loading File: /fs/scratch/PAS1495/amedina/processed_3D/images_6439.npy\n",
      "Loading File: /fs/scratch/PAS1495/amedina/processed_3D/images_850.npy\n",
      "Loading File: /fs/scratch/PAS1495/amedina/processed_3D/images_4874.npy\n",
      "Loading File: /fs/scratch/PAS1495/amedina/processed_3D/images_6824.npy\n",
      "Loading File: /fs/scratch/PAS1495/amedina/processed_3D/images_1093.npy\n",
      "Loading File: /fs/scratch/PAS1495/amedina/processed_3D/images_799.npy\n",
      "Loading File: /fs/scratch/PAS1495/amedina/processed_3D/images_3502.npy\n",
      "Loading File: /fs/scratch/PAS1495/amedina/processed_3D/images_1783.npy\n",
      "Loading File: /fs/scratch/PAS1495/amedina/processed_3D/images_3864.npy\n",
      "Loading File: /fs/scratch/PAS1495/amedina/processed_3D/images_682.npy\n",
      "Loading File: /fs/scratch/PAS1495/amedina/processed_3D/images_345.npy\n",
      "Loading File: /fs/scratch/PAS1495/amedina/processed_3D/images_5411.npy\n",
      "Loading File: /fs/scratch/PAS1495/amedina/processed_3D/images_5650.npy\n",
      "Loading File: /fs/scratch/PAS1495/amedina/processed_3D/images_340.npy\n",
      "Loading File: /fs/scratch/PAS1495/amedina/processed_3D/images_2524.npy\n",
      "Loading File: /fs/scratch/PAS1495/amedina/processed_3D/images_3603.npy\n",
      "Loading File: /fs/scratch/PAS1495/amedina/processed_3D/images_1708.npy\n",
      "Loading File: /fs/scratch/PAS1495/amedina/processed_3D/images_929.npy\n",
      "Loading File: /fs/scratch/PAS1495/amedina/processed_3D/images_285.npy\n",
      "Loading File: /fs/scratch/PAS1495/amedina/processed_3D/images_2824.npy\n",
      "Loading File: /fs/scratch/PAS1495/amedina/processed_3D/images_6958.npy\n",
      "Loading File: /fs/scratch/PAS1495/amedina/processed_3D/images_2803.npy\n",
      "Loading File: /fs/scratch/PAS1495/amedina/processed_3D/images_4865.npy\n",
      "Loading File: /fs/scratch/PAS1495/amedina/processed_3D/images_557.npy\n",
      "Loading File: /fs/scratch/PAS1495/amedina/processed_3D/images_5135.npy\n",
      "Loading File: /fs/scratch/PAS1495/amedina/processed_3D/images_2189.npy\n",
      "Loading File: /fs/scratch/PAS1495/amedina/processed_3D/images_1845.npy\n",
      "Loading File: /fs/scratch/PAS1495/amedina/processed_3D/images_7418.npy\n",
      "Loading File: /fs/scratch/PAS1495/amedina/processed_3D/images_5200.npy\n",
      "Loading File: /fs/scratch/PAS1495/amedina/processed_3D/images_6167.npy\n",
      "Loading File: /fs/scratch/PAS1495/amedina/processed_3D/images_222.npy\n",
      "Loading File: /fs/scratch/PAS1495/amedina/processed_3D/images_3073.npy\n",
      "Loading File: /fs/scratch/PAS1495/amedina/processed_3D/images_2744.npy\n",
      "Loading File: /fs/scratch/PAS1495/amedina/processed_3D/images_6133.npy\n",
      "Loading File: /fs/scratch/PAS1495/amedina/processed_3D/images_7461.npy\n",
      "Loading File: /fs/scratch/PAS1495/amedina/processed_3D/images_4259.npy\n",
      "Loading File: /fs/scratch/PAS1495/amedina/processed_3D/images_1823.npy\n",
      "Loading File: /fs/scratch/PAS1495/amedina/processed_3D/images_1279.npy\n",
      "Loading File: /fs/scratch/PAS1495/amedina/processed_3D/images_4272.npy\n",
      "Loading File: /fs/scratch/PAS1495/amedina/processed_3D/images_765.npy\n",
      "Loading File: /fs/scratch/PAS1495/amedina/processed_3D/images_6973.npy\n",
      "Loading File: /fs/scratch/PAS1495/amedina/processed_3D/images_3735.npy\n",
      "Loading File: /fs/scratch/PAS1495/amedina/processed_3D/images_741.npy\n",
      "Loading File: /fs/scratch/PAS1495/amedina/processed_3D/images_5440.npy\n",
      "Loading File: /fs/scratch/PAS1495/amedina/processed_3D/images_4967.npy\n",
      "Loading File: /fs/scratch/PAS1495/amedina/processed_3D/images_7675.npy\n",
      "Loading File: /fs/scratch/PAS1495/amedina/processed_3D/images_446.npy\n",
      "Loading File: /fs/scratch/PAS1495/amedina/processed_3D/images_4389.npy\n",
      "Loading File: /fs/scratch/PAS1495/amedina/processed_3D/images_1142.npy\n",
      "Loading File: /fs/scratch/PAS1495/amedina/processed_3D/images_5338.npy\n",
      "Loading File: /fs/scratch/PAS1495/amedina/processed_3D/images_5379.npy\n",
      "Loading File: /fs/scratch/PAS1495/amedina/processed_3D/images_1981.npy\n",
      "Loading File: /fs/scratch/PAS1495/amedina/processed_3D/images_5006.npy\n",
      "Loading File: /fs/scratch/PAS1495/amedina/processed_3D/images_7453.npy\n",
      "Loading File: /fs/scratch/PAS1495/amedina/processed_3D/images_5192.npy\n",
      "Loading File: /fs/scratch/PAS1495/amedina/processed_3D/images_855.npy\n",
      "Loading File: /fs/scratch/PAS1495/amedina/processed_3D/images_1489.npy\n",
      "Loading File: /fs/scratch/PAS1495/amedina/processed_3D/images_7211.npy\n",
      "Loading File: /fs/scratch/PAS1495/amedina/processed_3D/images_265.npy\n",
      "Loading File: /fs/scratch/PAS1495/amedina/processed_3D/images_6106.npy\n",
      "Loading File: /fs/scratch/PAS1495/amedina/processed_3D/images_4997.npy\n",
      "Loading File: /fs/scratch/PAS1495/amedina/processed_3D/images_7255.npy\n",
      "Loading File: /fs/scratch/PAS1495/amedina/processed_3D/images_7164.npy\n",
      "Loading File: /fs/scratch/PAS1495/amedina/processed_3D/images_7594.npy\n",
      "Loading File: /fs/scratch/PAS1495/amedina/processed_3D/images_277.npy\n",
      "Loading File: /fs/scratch/PAS1495/amedina/processed_3D/images_5180.npy\n",
      "Loading File: /fs/scratch/PAS1495/amedina/processed_3D/images_4537.npy\n",
      "Loading File: /fs/scratch/PAS1495/amedina/processed_3D/images_4805.npy\n",
      "Loading File: /fs/scratch/PAS1495/amedina/processed_3D/images_4354.npy\n",
      "Loading File: /fs/scratch/PAS1495/amedina/processed_3D/images_1791.npy\n",
      "Loading File: /fs/scratch/PAS1495/amedina/processed_3D/images_7685.npy\n",
      "Loading File: /fs/scratch/PAS1495/amedina/processed_3D/images_4762.npy\n",
      "Loading File: /fs/scratch/PAS1495/amedina/processed_3D/images_724.npy\n",
      "Loading File: /fs/scratch/PAS1495/amedina/processed_3D/images_1573.npy\n",
      "Loading File: /fs/scratch/PAS1495/amedina/processed_3D/images_2473.npy\n",
      "Loading File: /fs/scratch/PAS1495/amedina/processed_3D/images_4827.npy\n",
      "Loading File: /fs/scratch/PAS1495/amedina/processed_3D/images_6299.npy\n",
      "Loading File: /fs/scratch/PAS1495/amedina/processed_3D/images_5562.npy\n",
      "Loading File: /fs/scratch/PAS1495/amedina/processed_3D/images_4838.npy\n",
      "Loading File: /fs/scratch/PAS1495/amedina/processed_3D/images_2391.npy\n",
      "Loading File: /fs/scratch/PAS1495/amedina/processed_3D/images_7257.npy\n",
      "Loading File: /fs/scratch/PAS1495/amedina/processed_3D/images_576.npy\n",
      "Loading File: /fs/scratch/PAS1495/amedina/processed_3D/images_5330.npy\n",
      "Loading File: /fs/scratch/PAS1495/amedina/processed_3D/images_3632.npy\n",
      "Loading File: /fs/scratch/PAS1495/amedina/processed_3D/images_4167.npy\n",
      "Loading File: /fs/scratch/PAS1495/amedina/processed_3D/images_1456.npy\n",
      "Loading File: /fs/scratch/PAS1495/amedina/processed_3D/images_3091.npy\n",
      "Loading File: /fs/scratch/PAS1495/amedina/processed_3D/images_6062.npy\n",
      "Loading File: /fs/scratch/PAS1495/amedina/processed_3D/images_2696.npy\n",
      "Loading File: /fs/scratch/PAS1495/amedina/processed_3D/images_6145.npy\n",
      "Loading File: /fs/scratch/PAS1495/amedina/processed_3D/images_3728.npy\n",
      "Loading File: /fs/scratch/PAS1495/amedina/processed_3D/images_3141.npy\n",
      "Loading File: /fs/scratch/PAS1495/amedina/processed_3D/images_2977.npy\n",
      "Loading File: /fs/scratch/PAS1495/amedina/processed_3D/images_7581.npy\n",
      "Loading File: /fs/scratch/PAS1495/amedina/processed_3D/images_2156.npy\n",
      "Loading File: /fs/scratch/PAS1495/amedina/processed_3D/images_592.npy\n",
      "Loading File: /fs/scratch/PAS1495/amedina/processed_3D/images_3635.npy\n",
      "Loading File: /fs/scratch/PAS1495/amedina/processed_3D/images_472.npy\n",
      "Loading File: /fs/scratch/PAS1495/amedina/processed_3D/images_3.npy\n",
      "Loading File: /fs/scratch/PAS1495/amedina/processed_3D/images_5646.npy\n",
      "Loading File: /fs/scratch/PAS1495/amedina/processed_3D/images_4376.npy\n",
      "Loading File: /fs/scratch/PAS1495/amedina/processed_3D/images_3858.npy\n",
      "Loading File: /fs/scratch/PAS1495/amedina/processed_3D/images_1968.npy\n",
      "Loading File: /fs/scratch/PAS1495/amedina/processed_3D/images_2068.npy\n",
      "Loading File: /fs/scratch/PAS1495/amedina/processed_3D/images_4976.npy\n",
      "Loading File: /fs/scratch/PAS1495/amedina/processed_3D/images_6951.npy\n",
      "Loading File: /fs/scratch/PAS1495/amedina/processed_3D/images_6645.npy\n",
      "Loading File: /fs/scratch/PAS1495/amedina/processed_3D/images_7273.npy\n",
      "Loading File: /fs/scratch/PAS1495/amedina/processed_3D/images_5684.npy\n",
      "Loading File: /fs/scratch/PAS1495/amedina/processed_3D/images_5832.npy\n",
      "Loading File: /fs/scratch/PAS1495/amedina/processed_3D/images_5836.npy\n",
      "Loading File: /fs/scratch/PAS1495/amedina/processed_3D/images_1496.npy\n",
      "Loading File: /fs/scratch/PAS1495/amedina/processed_3D/images_6557.npy\n",
      "Loading File: /fs/scratch/PAS1495/amedina/processed_3D/images_5060.npy\n",
      "Loading File: /fs/scratch/PAS1495/amedina/processed_3D/images_4189.npy\n",
      "Loading File: /fs/scratch/PAS1495/amedina/processed_3D/images_7438.npy\n"
     ]
    },
    {
     "name": "stdout",
     "output_type": "stream",
     "text": [
      "Loading File: /fs/scratch/PAS1495/amedina/processed_3D/images_404.npy\n",
      "Loading File: /fs/scratch/PAS1495/amedina/processed_3D/images_7026.npy\n",
      "Loading File: /fs/scratch/PAS1495/amedina/processed_3D/images_5651.npy\n",
      "Loading File: /fs/scratch/PAS1495/amedina/processed_3D/images_6286.npy\n",
      "Loading File: /fs/scratch/PAS1495/amedina/processed_3D/images_2372.npy\n",
      "Loading File: /fs/scratch/PAS1495/amedina/processed_3D/images_6347.npy\n",
      "Loading File: /fs/scratch/PAS1495/amedina/processed_3D/images_90.npy\n",
      "Loading File: /fs/scratch/PAS1495/amedina/processed_3D/images_2707.npy\n",
      "Loading File: /fs/scratch/PAS1495/amedina/processed_3D/images_7740.npy\n",
      "Loading File: /fs/scratch/PAS1495/amedina/processed_3D/images_6915.npy\n",
      "Loading File: /fs/scratch/PAS1495/amedina/processed_3D/images_3510.npy\n",
      "Loading File: /fs/scratch/PAS1495/amedina/processed_3D/images_4754.npy\n",
      "Loading File: /fs/scratch/PAS1495/amedina/processed_3D/images_3752.npy\n",
      "Loading File: /fs/scratch/PAS1495/amedina/processed_3D/images_1214.npy\n",
      "Loading File: /fs/scratch/PAS1495/amedina/processed_3D/images_6484.npy\n",
      "Loading File: /fs/scratch/PAS1495/amedina/processed_3D/images_257.npy\n",
      "Loading File: /fs/scratch/PAS1495/amedina/processed_3D/images_1473.npy\n",
      "Loading File: /fs/scratch/PAS1495/amedina/processed_3D/images_2876.npy\n",
      "Loading File: /fs/scratch/PAS1495/amedina/processed_3D/images_6529.npy\n",
      "Loading File: /fs/scratch/PAS1495/amedina/processed_3D/images_2893.npy\n",
      "Loading File: /fs/scratch/PAS1495/amedina/processed_3D/images_630.npy\n",
      "Loading File: /fs/scratch/PAS1495/amedina/processed_3D/images_3443.npy\n",
      "Loading File: /fs/scratch/PAS1495/amedina/processed_3D/images_2646.npy\n",
      "Loading File: /fs/scratch/PAS1495/amedina/processed_3D/images_4701.npy\n",
      "Loading File: /fs/scratch/PAS1495/amedina/processed_3D/images_7780.npy\n",
      "Loading File: /fs/scratch/PAS1495/amedina/processed_3D/images_1375.npy\n",
      "Loading File: /fs/scratch/PAS1495/amedina/processed_3D/images_4214.npy\n",
      "Loading File: /fs/scratch/PAS1495/amedina/processed_3D/images_5593.npy\n",
      "Loading File: /fs/scratch/PAS1495/amedina/processed_3D/images_1013.npy\n",
      "Loading File: /fs/scratch/PAS1495/amedina/processed_3D/images_184.npy\n",
      "Loading File: /fs/scratch/PAS1495/amedina/processed_3D/images_2171.npy\n",
      "Loading File: /fs/scratch/PAS1495/amedina/processed_3D/images_3722.npy\n",
      "Loading File: /fs/scratch/PAS1495/amedina/processed_3D/images_3149.npy\n",
      "Loading File: /fs/scratch/PAS1495/amedina/processed_3D/images_4521.npy\n",
      "Loading File: /fs/scratch/PAS1495/amedina/processed_3D/images_7799.npy\n",
      "Loading File: /fs/scratch/PAS1495/amedina/processed_3D/images_4302.npy\n",
      "Loading File: /fs/scratch/PAS1495/amedina/processed_3D/images_5747.npy\n",
      "Loading File: /fs/scratch/PAS1495/amedina/processed_3D/images_4131.npy\n",
      "Loading File: /fs/scratch/PAS1495/amedina/processed_3D/images_2980.npy\n",
      "Loading File: /fs/scratch/PAS1495/amedina/processed_3D/images_2798.npy\n",
      "Loading File: /fs/scratch/PAS1495/amedina/processed_3D/images_7288.npy\n",
      "Loading File: /fs/scratch/PAS1495/amedina/processed_3D/images_2041.npy\n",
      "Loading File: /fs/scratch/PAS1495/amedina/processed_3D/images_3291.npy\n",
      "Loading File: /fs/scratch/PAS1495/amedina/processed_3D/images_5159.npy\n",
      "Loading File: /fs/scratch/PAS1495/amedina/processed_3D/images_5627.npy\n",
      "Loading File: /fs/scratch/PAS1495/amedina/processed_3D/images_6318.npy\n",
      "Loading File: /fs/scratch/PAS1495/amedina/processed_3D/images_3669.npy\n",
      "Loading File: /fs/scratch/PAS1495/amedina/processed_3D/images_1254.npy\n",
      "Loading File: /fs/scratch/PAS1495/amedina/processed_3D/images_7366.npy\n",
      "Loading File: /fs/scratch/PAS1495/amedina/processed_3D/images_782.npy\n",
      "Loading File: /fs/scratch/PAS1495/amedina/processed_3D/images_3388.npy\n",
      "Loading File: /fs/scratch/PAS1495/amedina/processed_3D/images_1364.npy\n",
      "Loading File: /fs/scratch/PAS1495/amedina/processed_3D/images_3045.npy\n",
      "Loading File: /fs/scratch/PAS1495/amedina/processed_3D/images_1625.npy\n",
      "Loading File: /fs/scratch/PAS1495/amedina/processed_3D/images_7147.npy\n",
      "Loading File: /fs/scratch/PAS1495/amedina/processed_3D/images_6614.npy\n",
      "Loading File: /fs/scratch/PAS1495/amedina/processed_3D/images_328.npy\n",
      "Loading File: /fs/scratch/PAS1495/amedina/processed_3D/images_7132.npy\n",
      "Loading File: /fs/scratch/PAS1495/amedina/processed_3D/images_4949.npy\n",
      "Loading File: /fs/scratch/PAS1495/amedina/processed_3D/images_2565.npy\n",
      "Loading File: /fs/scratch/PAS1495/amedina/processed_3D/images_258.npy\n",
      "Loading File: /fs/scratch/PAS1495/amedina/processed_3D/images_5215.npy\n",
      "Loading File: /fs/scratch/PAS1495/amedina/processed_3D/images_5941.npy\n",
      "Loading File: /fs/scratch/PAS1495/amedina/processed_3D/images_431.npy\n",
      "Loading File: /fs/scratch/PAS1495/amedina/processed_3D/images_3187.npy\n",
      "Loading File: /fs/scratch/PAS1495/amedina/processed_3D/images_5113.npy\n",
      "Loading File: /fs/scratch/PAS1495/amedina/processed_3D/images_7368.npy\n",
      "Loading File: /fs/scratch/PAS1495/amedina/processed_3D/images_1424.npy\n",
      "Loading File: /fs/scratch/PAS1495/amedina/processed_3D/images_1499.npy\n",
      "Loading File: /fs/scratch/PAS1495/amedina/processed_3D/images_1232.npy\n",
      "Loading File: /fs/scratch/PAS1495/amedina/processed_3D/images_657.npy\n",
      "Loading File: /fs/scratch/PAS1495/amedina/processed_3D/images_5622.npy\n",
      "Loading File: /fs/scratch/PAS1495/amedina/processed_3D/images_6357.npy\n",
      "Loading File: /fs/scratch/PAS1495/amedina/processed_3D/images_7138.npy\n",
      "Loading File: /fs/scratch/PAS1495/amedina/processed_3D/images_3385.npy\n",
      "Loading File: /fs/scratch/PAS1495/amedina/processed_3D/images_513.npy\n",
      "Loading File: /fs/scratch/PAS1495/amedina/processed_3D/images_1298.npy\n",
      "Loading File: /fs/scratch/PAS1495/amedina/processed_3D/images_1174.npy\n",
      "Loading File: /fs/scratch/PAS1495/amedina/processed_3D/images_1303.npy\n",
      "Loading File: /fs/scratch/PAS1495/amedina/processed_3D/images_3541.npy\n",
      "Loading File: /fs/scratch/PAS1495/amedina/processed_3D/images_3472.npy\n",
      "Loading File: /fs/scratch/PAS1495/amedina/processed_3D/images_2035.npy\n",
      "Loading File: /fs/scratch/PAS1495/amedina/processed_3D/images_7410.npy\n",
      "Loading File: /fs/scratch/PAS1495/amedina/processed_3D/images_7131.npy\n",
      "Loading File: /fs/scratch/PAS1495/amedina/processed_3D/images_18.npy\n",
      "Loading File: /fs/scratch/PAS1495/amedina/processed_3D/images_5569.npy\n",
      "Loading File: /fs/scratch/PAS1495/amedina/processed_3D/images_2875.npy\n",
      "Loading File: /fs/scratch/PAS1495/amedina/processed_3D/images_2327.npy\n",
      "Loading File: /fs/scratch/PAS1495/amedina/processed_3D/images_6019.npy\n",
      "Loading File: /fs/scratch/PAS1495/amedina/processed_3D/images_3928.npy\n",
      "Loading File: /fs/scratch/PAS1495/amedina/processed_3D/images_3992.npy\n",
      "Loading File: /fs/scratch/PAS1495/amedina/processed_3D/images_371.npy\n",
      "Loading File: /fs/scratch/PAS1495/amedina/processed_3D/images_5156.npy\n",
      "Loading File: /fs/scratch/PAS1495/amedina/processed_3D/images_748.npy\n",
      "Loading File: /fs/scratch/PAS1495/amedina/processed_3D/images_1239.npy\n",
      "Loading File: /fs/scratch/PAS1495/amedina/processed_3D/images_3282.npy\n",
      "Loading File: /fs/scratch/PAS1495/amedina/processed_3D/images_639.npy\n",
      "Loading File: /fs/scratch/PAS1495/amedina/processed_3D/images_7184.npy\n",
      "Loading File: /fs/scratch/PAS1495/amedina/processed_3D/images_2508.npy\n",
      "Loading File: /fs/scratch/PAS1495/amedina/processed_3D/images_7412.npy\n",
      "Loading File: /fs/scratch/PAS1495/amedina/processed_3D/images_7570.npy\n",
      "Loading File: /fs/scratch/PAS1495/amedina/processed_3D/images_736.npy\n",
      "Loading File: /fs/scratch/PAS1495/amedina/processed_3D/images_5929.npy\n",
      "Loading File: /fs/scratch/PAS1495/amedina/processed_3D/images_2860.npy\n",
      "Loading File: /fs/scratch/PAS1495/amedina/processed_3D/images_7058.npy\n",
      "Loading File: /fs/scratch/PAS1495/amedina/processed_3D/images_6734.npy\n",
      "Loading File: /fs/scratch/PAS1495/amedina/processed_3D/images_2998.npy\n",
      "Loading File: /fs/scratch/PAS1495/amedina/processed_3D/images_1725.npy\n",
      "Loading File: /fs/scratch/PAS1495/amedina/processed_3D/images_1338.npy\n",
      "Loading File: /fs/scratch/PAS1495/amedina/processed_3D/images_3375.npy\n",
      "Loading File: /fs/scratch/PAS1495/amedina/processed_3D/images_7348.npy\n",
      "Loading File: /fs/scratch/PAS1495/amedina/processed_3D/images_1431.npy\n",
      "Loading File: /fs/scratch/PAS1495/amedina/processed_3D/images_3109.npy\n",
      "Loading File: /fs/scratch/PAS1495/amedina/processed_3D/images_7055.npy\n",
      "Loading File: /fs/scratch/PAS1495/amedina/processed_3D/images_6011.npy\n",
      "Loading File: /fs/scratch/PAS1495/amedina/processed_3D/images_3531.npy\n"
     ]
    },
    {
     "name": "stdout",
     "output_type": "stream",
     "text": [
      "Loading File: /fs/scratch/PAS1495/amedina/processed_3D/images_5508.npy\n",
      "Loading File: /fs/scratch/PAS1495/amedina/processed_3D/images_4836.npy\n",
      "Loading File: /fs/scratch/PAS1495/amedina/processed_3D/images_1785.npy\n",
      "Loading File: /fs/scratch/PAS1495/amedina/processed_3D/images_1263.npy\n",
      "Loading File: /fs/scratch/PAS1495/amedina/processed_3D/images_5265.npy\n",
      "Loading File: /fs/scratch/PAS1495/amedina/processed_3D/images_7627.npy\n",
      "Loading File: /fs/scratch/PAS1495/amedina/processed_3D/images_2033.npy\n",
      "Loading File: /fs/scratch/PAS1495/amedina/processed_3D/images_3643.npy\n",
      "Loading File: /fs/scratch/PAS1495/amedina/processed_3D/images_7701.npy\n",
      "Loading File: /fs/scratch/PAS1495/amedina/processed_3D/images_7772.npy\n",
      "Loading File: /fs/scratch/PAS1495/amedina/processed_3D/images_1072.npy\n",
      "Loading File: /fs/scratch/PAS1495/amedina/processed_3D/images_4851.npy\n",
      "Loading File: /fs/scratch/PAS1495/amedina/processed_3D/images_4680.npy\n",
      "Loading File: /fs/scratch/PAS1495/amedina/processed_3D/images_5480.npy\n",
      "Loading File: /fs/scratch/PAS1495/amedina/processed_3D/images_2159.npy\n",
      "Loading File: /fs/scratch/PAS1495/amedina/processed_3D/images_1241.npy\n",
      "Loading File: /fs/scratch/PAS1495/amedina/processed_3D/images_6024.npy\n",
      "Loading File: /fs/scratch/PAS1495/amedina/processed_3D/images_7580.npy\n",
      "Loading File: /fs/scratch/PAS1495/amedina/processed_3D/images_1888.npy\n",
      "Loading File: /fs/scratch/PAS1495/amedina/processed_3D/images_909.npy\n",
      "Loading File: /fs/scratch/PAS1495/amedina/processed_3D/images_7101.npy\n",
      "Loading File: /fs/scratch/PAS1495/amedina/processed_3D/images_7105.npy\n",
      "Loading File: /fs/scratch/PAS1495/amedina/processed_3D/images_4184.npy\n",
      "Loading File: /fs/scratch/PAS1495/amedina/processed_3D/images_2961.npy\n",
      "Loading File: /fs/scratch/PAS1495/amedina/processed_3D/images_4987.npy\n",
      "Loading File: /fs/scratch/PAS1495/amedina/processed_3D/images_2757.npy\n",
      "Loading File: /fs/scratch/PAS1495/amedina/processed_3D/images_5429.npy\n",
      "Loading File: /fs/scratch/PAS1495/amedina/processed_3D/images_1416.npy\n",
      "Loading File: /fs/scratch/PAS1495/amedina/processed_3D/images_1601.npy\n",
      "Loading File: /fs/scratch/PAS1495/amedina/processed_3D/images_1685.npy\n",
      "Loading File: /fs/scratch/PAS1495/amedina/processed_3D/images_560.npy\n",
      "Loading File: /fs/scratch/PAS1495/amedina/processed_3D/images_1311.npy\n",
      "Loading File: /fs/scratch/PAS1495/amedina/processed_3D/images_3680.npy\n",
      "Loading File: /fs/scratch/PAS1495/amedina/processed_3D/images_5183.npy\n",
      "Loading File: /fs/scratch/PAS1495/amedina/processed_3D/images_7084.npy\n",
      "Loading File: /fs/scratch/PAS1495/amedina/processed_3D/images_2014.npy\n",
      "Loading File: /fs/scratch/PAS1495/amedina/processed_3D/images_5810.npy\n",
      "Loading File: /fs/scratch/PAS1495/amedina/processed_3D/images_7874.npy\n",
      "Loading File: /fs/scratch/PAS1495/amedina/processed_3D/images_4704.npy\n",
      "Loading File: /fs/scratch/PAS1495/amedina/processed_3D/images_7793.npy\n",
      "Loading File: /fs/scratch/PAS1495/amedina/processed_3D/images_1668.npy\n",
      "Loading File: /fs/scratch/PAS1495/amedina/processed_3D/images_5782.npy\n",
      "Loading File: /fs/scratch/PAS1495/amedina/processed_3D/images_4204.npy\n",
      "Loading File: /fs/scratch/PAS1495/amedina/processed_3D/images_4235.npy\n",
      "Loading File: /fs/scratch/PAS1495/amedina/processed_3D/images_2098.npy\n",
      "Loading File: /fs/scratch/PAS1495/amedina/processed_3D/images_2792.npy\n",
      "Loading File: /fs/scratch/PAS1495/amedina/processed_3D/images_380.npy\n",
      "Loading File: /fs/scratch/PAS1495/amedina/processed_3D/images_7871.npy\n",
      "Loading File: /fs/scratch/PAS1495/amedina/processed_3D/images_5907.npy\n",
      "Loading File: /fs/scratch/PAS1495/amedina/processed_3D/images_3316.npy\n",
      "Loading File: /fs/scratch/PAS1495/amedina/processed_3D/images_6063.npy\n",
      "Loading File: /fs/scratch/PAS1495/amedina/processed_3D/images_6435.npy\n"
     ]
    }
   ],
   "source": [
    "images,labels = load_files(file_names_batched[4][0:400])\n",
    "\n",
    "images = images[:,:,:,:,4:7]\n",
    "\n",
    "zenith_values = get_feature(labels,1)\n",
    "azimuth_values = get_feature(labels,2)\n",
    "\n",
    "cos1,cos2,cos3 = get_cos_values(zenith_values,azimuth_values)\n",
    "\n",
    "cos_values = np.array(list(zip(cos1,cos2,cos3)))"
   ]
  },
  {
   "cell_type": "code",
   "execution_count": 6,
   "metadata": {},
   "outputs": [
    {
     "name": "stderr",
     "output_type": "stream",
     "text": [
      "Using TensorFlow backend.\n"
     ]
    }
   ],
   "source": [
    "from keras.models import load_model\n",
    "import tensorflow as tf\n",
    "from keras import backend as K"
   ]
  },
  {
   "cell_type": "code",
   "execution_count": 7,
   "metadata": {},
   "outputs": [],
   "source": [
    "def predict_images(model_name,images):\n",
    "    model = load_model(model_name,custom_objects={'loss_space_angle':loss_space_angle})\n",
    "    predicted_cos_values = model.predict(images)\n",
    "    return predicted_cos_values\n",
    "\n",
    "def loss_space_angle(y_true,y_pred):\n",
    "    subtraction = tf.math.subtract(y_true,y_pred)\n",
    "    y = tf.matrix_diag_part(K.dot(subtraction,K.transpose(subtraction)))\n",
    "    loss = tf.math.reduce_mean(y)\n",
    "    return loss"
   ]
  },
  {
   "cell_type": "code",
   "execution_count": 8,
   "metadata": {},
   "outputs": [
    {
     "name": "stdout",
     "output_type": "stream",
     "text": [
      "WARNING:tensorflow:From /users/PAS1495/amedina/.local/lib/python2.7/site-packages/tensorflow/python/framework/op_def_library.py:263: colocate_with (from tensorflow.python.framework.ops) is deprecated and will be removed in a future version.\n",
      "Instructions for updating:\n",
      "Colocations handled automatically by placer.\n",
      "WARNING:tensorflow:From /users/PAS1495/amedina/.local/lib/python2.7/site-packages/keras/backend/tensorflow_backend.py:3445: calling dropout (from tensorflow.python.ops.nn_ops) with keep_prob is deprecated and will be removed in a future version.\n",
      "Instructions for updating:\n",
      "Please use `rate` instead of `keep_prob`. Rate should be set to `rate = 1 - keep_prob`.\n"
     ]
    }
   ],
   "source": [
    "cos_values_1 = predict_images('/users/PAS1495/amedina/work/DNN_Project/script/Network/'+output_best,images)"
   ]
  },
  {
   "cell_type": "code",
   "execution_count": 9,
   "metadata": {},
   "outputs": [
    {
     "name": "stdout",
     "output_type": "stream",
     "text": [
      "[[-0.71914345  0.22052287  0.46176386]\n",
      " [-0.9761854   0.21177253 -0.0942958 ]\n",
      " [-0.71914345  0.22052287  0.46176386]\n",
      " ...\n",
      " [ 0.8064206   0.0505615   0.5170899 ]\n",
      " [-0.7760674   0.08297237  0.5413181 ]\n",
      " [ 0.04603047 -0.0594669   0.96895915]]\n"
     ]
    }
   ],
   "source": [
    "print(cos_values_1)\n",
    "cos_values_1_1 = zip(*cos_values_1)[0]\n",
    "cos_values_1_2 = zip(*cos_values_1)[1]\n",
    "cos_values_1_3 = zip(*cos_values_1)[2]"
   ]
  },
  {
   "cell_type": "code",
   "execution_count": 10,
   "metadata": {},
   "outputs": [
    {
     "name": "stdout",
     "output_type": "stream",
     "text": [
      "[[-0.66142248  0.23064659  0.71366831]\n",
      " [-0.99534583  0.09353695 -0.02318439]\n",
      " [-0.66142248  0.23064659  0.71366831]\n",
      " ...\n",
      " [ 0.70190784  0.15879426  0.69434125]\n",
      " [-0.79391953  0.02498577  0.60750925]\n",
      " [ 0.0765991  -0.1099467   0.99098148]]\n"
     ]
    }
   ],
   "source": [
    "print(cos_values)\n",
    "cos_values_1=zip(*cos_values)[0]\n",
    "cos_values_2=zip(*cos_values)[1]\n",
    "cos_values_3=zip(*cos_values)[2]"
   ]
  },
  {
   "cell_type": "code",
   "execution_count": 11,
   "metadata": {},
   "outputs": [],
   "source": [
    "import matplotlib.pylab as plt\n",
    "import matplotlib\n",
    "\n",
    "def plot_value(figure_number,x,y):\n",
    "    plt.figure(figure_number)\n",
    "    plt.hist2d(x,y,\n",
    "               bins=100,\n",
    "               norm=matplotlib.colors.LogNorm())\n",
    "    #plt.xscale('log')\n",
    "    plt.colorbar()\n",
    "    plt.xlabel('Energy (GeV)')\n",
    "    plt.ylabel('Zenith Error (Rad)')"
   ]
  },
  {
   "cell_type": "markdown",
   "metadata": {},
   "source": [
    "## Zenith Distribution"
   ]
  },
  {
   "cell_type": "code",
   "execution_count": 12,
   "metadata": {},
   "outputs": [
    {
     "data": {
      "text/plain": [
       "<matplotlib.legend.Legend at 0x2b1aa8aad690>"
      ]
     },
     "execution_count": 12,
     "metadata": {},
     "output_type": "execute_result"
    },
    {
     "data": {
      "image/png": "[encoded data removed]",
      "text/plain": [
       "<Figure size 432x288 with 1 Axes>"
      ]
     },
     "metadata": {},
     "output_type": "display_data"
    }
   ],
   "source": [
    "plt.figure(5)\n",
    "plt.hist(cos_values_1,bins=100,label='Predicted',edgecolor='blue', facecolor=\"None\")\n",
    "plt.hist(cos_values_1_1,bins=100,label='True',edgecolor='red', facecolor=\"None\")\n",
    "plt.xlabel('sin(zenith)cos(azimuth)')\n",
    "plt.ylabel('Count')\n",
    "plt.legend()"
   ]
  },
  {
   "cell_type": "code",
   "execution_count": 13,
   "metadata": {},
   "outputs": [
    {
     "data": {
      "text/plain": [
       "<matplotlib.legend.Legend at 0x2b1aaf9c9b90>"
      ]
     },
     "execution_count": 13,
     "metadata": {},
     "output_type": "execute_result"
    },
    {
     "data": {
      "image/png": "[encoded data removed]",
      "text/plain": [
       "<Figure size 432x288 with 1 Axes>"
      ]
     },
     "metadata": {},
     "output_type": "display_data"
    }
   ],
   "source": [
    "plt.figure(5)\n",
    "plt.hist(cos_values_2,bins=100,label='Predicted',edgecolor='blue', facecolor=\"None\")\n",
    "plt.hist(cos_values_1_2,bins=100,label='True',edgecolor='red', facecolor=\"None\")\n",
    "plt.xlabel('sin(zenith)sin(azimuth)')\n",
    "plt.ylabel('Count')\n",
    "plt.legend()"
   ]
  },
  {
   "cell_type": "code",
   "execution_count": 14,
   "metadata": {},
   "outputs": [
    {
     "data": {
      "text/plain": [
       "<matplotlib.legend.Legend at 0x2b1aafc8e490>"
      ]
     },
     "execution_count": 14,
     "metadata": {},
     "output_type": "execute_result"
    },
    {
     "data": {
      "image/png": "[encoded data removed]",
      "text/plain": [
       "<Figure size 432x288 with 1 Axes>"
      ]
     },
     "metadata": {},
     "output_type": "display_data"
    }
   ],
   "source": [
    "plt.figure(5)\n",
    "plt.hist(cos_values_3,bins=100,label='Predicted',edgecolor='blue', facecolor=\"None\")\n",
    "plt.hist(cos_values_1_3,bins=100,label='True',edgecolor='red', facecolor=\"None\")\n",
    "plt.xlabel('cos(zenith)')\n",
    "plt.ylabel('Count')\n",
    "plt.legend()"
   ]
  },
  {
   "cell_type": "code",
   "execution_count": 19,
   "metadata": {},
   "outputs": [],
   "source": [
    "cos_new = []\n",
    "for i in cos_values_1_3:\n",
    "    if i < -1.0:\n",
    "        continue\n",
    "    elif i > 1.0:\n",
    "        continue\n",
    "    else:\n",
    "        cos_new.append(i)\n",
    "zenith = np.arccos(cos_new)   "
   ]
  },
  {
   "cell_type": "code",
   "execution_count": 20,
   "metadata": {},
   "outputs": [
    {
     "data": {
      "text/plain": [
       "<matplotlib.legend.Legend at 0x2b1aaf9c9d90>"
      ]
     },
     "execution_count": 20,
     "metadata": {},
     "output_type": "execute_result"
    },
    {
     "data": {
      "image/png": "[encoded data removed]",
      "text/plain": [
       "<Figure size 432x288 with 1 Axes>"
      ]
     },
     "metadata": {},
     "output_type": "display_data"
    }
   ],
   "source": [
    "plt.figure(5)\n",
    "plt.hist(zenith,bins=100,label='Predicted',edgecolor='blue', facecolor=\"None\")\n",
    "plt.hist(zenith_values,bins=100,label='True',edgecolor='red', facecolor=\"None\")\n",
    "plt.xlabel('Zenith')\n",
    "plt.ylabel('Count')\n",
    "plt.legend()"
   ]
  },
  {
   "cell_type": "code",
   "execution_count": 47,
   "metadata": {},
   "outputs": [],
   "source": [
    "def azimuth(sincos,sinsin):\n",
    "    values = []\n",
    "    for i,j in zip(sinsin,sincos):\n",
    "        if i > 0:\n",
    "            if j > 0:\n",
    "                values.append(np.arctan(i/j))\n",
    "            if j < 0:\n",
    "                values.append(-np.arctan(i/j)+np.pi)\n",
    "        if i < 0:\n",
    "            if j > 0:\n",
    "                values.append(np.arctan(i/j)+2.0*np.pi)\n",
    "            if j < 0:\n",
    "                values.append(-np.arctan(i/j)+np.pi)\n",
    "    return values"
   ]
  },
  {
   "cell_type": "code",
   "execution_count": 48,
   "metadata": {},
   "outputs": [],
   "source": [
    "azimuth_predicted = azimuth(list(cos_values_1_1),list(cos_values_1_2))"
   ]
  },
  {
   "cell_type": "code",
   "execution_count": 49,
   "metadata": {},
   "outputs": [
    {
     "data": {
      "text/plain": [
       "<matplotlib.legend.Legend at 0x2b1ab10a8a10>"
      ]
     },
     "execution_count": 49,
     "metadata": {},
     "output_type": "execute_result"
    },
    {
     "data": {
      "image/png": "[encoded data removed]",
      "text/plain": [
       "<Figure size 432x288 with 1 Axes>"
      ]
     },
     "metadata": {},
     "output_type": "display_data"
    }
   ],
   "source": [
    "plt.figure(5)\n",
    "plt.hist(azimuth_predicted,bins=100,label='Predicted',edgecolor='blue', facecolor=\"None\")\n",
    "plt.hist(azimuth_values,bins=100,label='True',edgecolor='red', facecolor=\"None\")\n",
    "plt.xlabel('Azimuth')\n",
    "plt.ylabel('Count')\n",
    "plt.legend()"
   ]
  },
  {
   "cell_type": "code",
   "execution_count": null,
   "metadata": {},
   "outputs": [],
   "source": []
  }
 ],
 "metadata": {
  "kernelspec": {
   "display_name": "Python 2.7 (Conda 5.2) [python/2.7-conda5.2]",
   "language": "python",
   "name": "sys_python27conda"
  },
  "language_info": {
   "codemirror_mode": {
    "name": "ipython",
    "version": 2
   },
   "file_extension": ".py",
   "mimetype": "text/x-python",
   "name": "python",
   "nbconvert_exporter": "python",
   "pygments_lexer": "ipython2",
   "version": "2.7.15"
  }
 },
 "nbformat": 4,
 "nbformat_minor": 2
}
