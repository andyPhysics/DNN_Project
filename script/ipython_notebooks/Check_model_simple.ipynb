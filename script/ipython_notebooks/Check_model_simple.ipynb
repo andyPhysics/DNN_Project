{
 "cells": [
  {
   "cell_type": "markdown",
   "metadata": {},
   "source": [
    "## Analysis of model\n",
    "\n",
    "Here I produce the plots that were necessary for this analysis. It takes quite some time to run but it shows the histogram of the error and also the zenith distribution. It also produces predicted values using the model that was best up till now. "
   ]
  },
  {
   "cell_type": "code",
   "execution_count": 1,
   "metadata": {},
   "outputs": [],
   "source": [
    "import numpy as np"
   ]
  },
  {
   "cell_type": "code",
   "execution_count": 2,
   "metadata": {},
   "outputs": [],
   "source": [
    "import pandas as pd\n",
    "import sys,os"
   ]
  },
  {
   "cell_type": "code",
   "execution_count": 3,
   "metadata": {},
   "outputs": [],
   "source": [
    "def load_files(batch):\n",
    "    images = []\n",
    "    labels = []\n",
    "    for i in batch:\n",
    "        print('Loading File: ' + i)\n",
    "        x = np.load(i,allow_pickle=True).item()\n",
    "        keys = x.keys()\n",
    "        for key in keys:\n",
    "            images.append(x[key][0])\n",
    "            labels.append(x[key][1])\n",
    "    return np.array(images),np.array(labels)\n",
    "\n",
    "def get_feature(labels,feature):\n",
    "    feature_values = []\n",
    "    for i in labels:\n",
    "        feature_values.append(i[feature])\n",
    "    feature_values = np.array(feature_values)\n",
    "    return feature_values\n",
    "\n",
    "def get_cos_values(zenith,azimuth):\n",
    "    cos1 = []\n",
    "    cos2 = []\n",
    "    cos3 = []\n",
    "    for i,j in zip(zenith,azimuth):\n",
    "        cos1.append(np.sin(i) * np.cos(j))\n",
    "        cos2.append(np.sin(i) * np.sin(j))\n",
    "        cos3.append(np.cos(i))\n",
    "    return np.array(cos1),np.array(cos2),np.array(cos3)"
   ]
  },
  {
   "cell_type": "code",
   "execution_count": 4,
   "metadata": {},
   "outputs": [],
   "source": [
    "output_best = 'SWNN_1.h5'\n",
    "file_path = '/fs/scratch/PAS1495/amedina/'\n",
    "y = os.listdir(file_path+'processed_3D')\n",
    "file_names = []\n",
    "\n",
    "for i in y:\n",
    "    file_names.append(file_path+'processed_3D/'+i)\n",
    "\n",
    "file_names_batched = list(np.array_split(file_names,4))"
   ]
  },
  {
   "cell_type": "code",
   "execution_count": 5,
   "metadata": {},
   "outputs": [
    {
     "ename": "IndexError",
     "evalue": "list index out of range",
     "output_type": "error",
     "traceback": [
      "\u001b[0;31m\u001b[0m",
      "\u001b[0;31mIndexError\u001b[0mTraceback (most recent call last)",
      "\u001b[0;32m<ipython-input-5-e5038cf2aa43>\u001b[0m in \u001b[0;36m<module>\u001b[0;34m()\u001b[0m\n\u001b[0;32m----> 1\u001b[0;31m \u001b[0mimages\u001b[0m\u001b[0;34m,\u001b[0m\u001b[0mlabels\u001b[0m \u001b[0;34m=\u001b[0m \u001b[0mload_files\u001b[0m\u001b[0;34m(\u001b[0m\u001b[0mfile_names_batched\u001b[0m\u001b[0;34m[\u001b[0m\u001b[0;36m4\u001b[0m\u001b[0;34m]\u001b[0m\u001b[0;34m[\u001b[0m\u001b[0;36m0\u001b[0m\u001b[0;34m:\u001b[0m\u001b[0;36m400\u001b[0m\u001b[0;34m]\u001b[0m\u001b[0;34m)\u001b[0m\u001b[0;34m\u001b[0m\u001b[0m\n\u001b[0m",
      "\u001b[0;31mIndexError\u001b[0m: list index out of range"
     ]
    }
   ],
   "source": [
    "images,labels = load_files(file_names_batched[4][0:400])"
   ]
  },
  {
   "cell_type": "code",
   "execution_count": null,
   "metadata": {},
   "outputs": [],
   "source": [
    "images1 = images[:,:,:,:,[0,7]]\n",
    "\n",
    "zenith_values = get_feature(labels,1)\n",
    "azimuth_values = get_feature(labels,2)\n",
    "\n",
    "zenith_check = list(zip(images1,zenith_values,azimuth_values))\n",
    "new_images = []\n",
    "new_zenith_values = []\n",
    "new_azimuth_values = []\n",
    "for i in zenith_check:\n",
    "    #if i[1] > 2:\n",
    "    new_images.append(i[0])\n",
    "    new_zenith_values.append(i[1])\n",
    "    new_azimuth_values.append(i[2])\n",
    "\n",
    "new_images = np.array(new_images)\n",
    "\n",
    "cos1,cos2,cos3=get_cos_values(new_zenith_values,new_azimuth_values)\n",
    "\n",
    "cos_values = np.array(list(zip(cos1,cos2,cos3)))"
   ]
  },
  {
   "cell_type": "code",
   "execution_count": null,
   "metadata": {},
   "outputs": [],
   "source": [
    "from keras.models import load_model\n",
    "import tensorflow as tf\n",
    "from keras import backend as K"
   ]
  },
  {
   "cell_type": "code",
   "execution_count": null,
   "metadata": {},
   "outputs": [],
   "source": [
    "def predict_images(model_name,images):\n",
    "    model = load_model(model_name,custom_objects={'loss_space_angle':loss_space_angle})\n",
    "    predicted_cos_values = model.predict(images)\n",
    "    return predicted_cos_values\n",
    "\n",
    "def loss_space_angle(y_true,y_pred):\n",
    "    subtraction = tf.math.subtract(y_true,y_pred)\n",
    "    y = tf.matrix_diag_part(K.dot(subtraction,K.transpose(subtraction)))\n",
    "    loss = tf.math.reduce_mean(y)\n",
    "    return loss"
   ]
  },
  {
   "cell_type": "code",
   "execution_count": null,
   "metadata": {},
   "outputs": [],
   "source": [
    "cnn_model = load_model('/users/PAS1495/amedina/work/DNN_Project/script/Network/cnn_model_1.h5',custom_objects={'loss_space_angle':loss_space_angle})\n",
    "model = load_model('/users/PAS1495/amedina/work/DNN_Project/script/Network/'+output_best,custom_objects={'cnn_model':cnn_model,'loss_space_angle':loss_space_angle})\n",
    "cos_values_pred = model.predict(new_images)"
   ]
  },
  {
   "cell_type": "code",
   "execution_count": null,
   "metadata": {},
   "outputs": [],
   "source": [
    "cos_values_1_1 = [(i*2.0 - 1) for i in list(zip(*cos_values_pred)[0])]\n",
    "cos_values_1_2 = [ (i*2.0 -1) for i in list(zip(*cos_values_pred)[1])]\n",
    "cos_values_1_3 = [(i*2.0-1) for i in list(zip(*cos_values_pred)[2])]"
   ]
  },
  {
   "cell_type": "code",
   "execution_count": null,
   "metadata": {},
   "outputs": [],
   "source": [
    "print(cos_values)\n",
    "cos_values_1=zip(*cos_values)[0]\n",
    "cos_values_2=zip(*cos_values)[1]\n",
    "cos_values_3=zip(*cos_values)[2]"
   ]
  },
  {
   "cell_type": "code",
   "execution_count": null,
   "metadata": {},
   "outputs": [],
   "source": [
    "import matplotlib.pylab as plt\n",
    "import matplotlib\n",
    "\n",
    "def plot_value(figure_number,x,y):\n",
    "    plt.figure(figure_number)\n",
    "    plt.hist2d(x,y,\n",
    "               bins=100,\n",
    "               norm=matplotlib.colors.LogNorm())\n",
    "    #plt.xscale('log')\n",
    "    plt.colorbar()\n",
    "    plt.xlabel('Energy (GeV)')\n",
    "    plt.ylabel('Zenith Error (Rad)')"
   ]
  },
  {
   "cell_type": "markdown",
   "metadata": {},
   "source": [
    "## Zenith Distribution"
   ]
  },
  {
   "cell_type": "code",
   "execution_count": null,
   "metadata": {},
   "outputs": [],
   "source": [
    "plt.figure(5)\n",
    "plt.hist(cos_values_1,bins=100,label='Predicted',edgecolor='blue', facecolor=\"None\")\n",
    "plt.hist(cos_values_1_1,bins=100,label='True',edgecolor='red', facecolor=\"None\")\n",
    "plt.xlabel('sin(zenith)cos(azimuth)')\n",
    "plt.ylabel('Count')\n",
    "plt.legend()"
   ]
  },
  {
   "cell_type": "code",
   "execution_count": null,
   "metadata": {},
   "outputs": [],
   "source": [
    "plt.figure(5)\n",
    "plt.hist(cos_values_2,bins=100,label='Predicted',edgecolor='blue', facecolor=\"None\")\n",
    "plt.hist(cos_values_1_2,bins=100,label='True',edgecolor='red', facecolor=\"None\")\n",
    "plt.xlabel('sin(zenith)sin(azimuth)')\n",
    "plt.ylabel('Count')\n",
    "plt.legend()"
   ]
  },
  {
   "cell_type": "code",
   "execution_count": null,
   "metadata": {},
   "outputs": [],
   "source": [
    "plt.figure(5)\n",
    "plt.hist(cos_values_3,bins=100,label='Predicted',edgecolor='blue', facecolor=\"None\")\n",
    "plt.hist(cos_values_1_3,bins=100,label='True',edgecolor='red', facecolor=\"None\")\n",
    "plt.xlabel('cos(zenith)')\n",
    "plt.ylabel('Count')\n",
    "plt.legend()"
   ]
  },
  {
   "cell_type": "code",
   "execution_count": null,
   "metadata": {},
   "outputs": [],
   "source": [
    "cos_new = []\n",
    "for i in cos_values_1_3:\n",
    "    if i < -1.0:\n",
    "        continue\n",
    "    elif i > 1.0:\n",
    "        continue\n",
    "    else:\n",
    "        cos_new.append(i)\n",
    "zenith = np.arccos(cos_new)   "
   ]
  },
  {
   "cell_type": "code",
   "execution_count": null,
   "metadata": {},
   "outputs": [],
   "source": [
    "plt.figure(5)\n",
    "plt.hist(zenith,bins=1000,label='Predicted',edgecolor='blue', facecolor=\"None\")\n",
    "plt.hist(new_zenith_values,bins=1000,label='True',edgecolor='red', facecolor=\"None\")\n",
    "plt.xlabel('Zenith')\n",
    "plt.ylabel('Count')\n",
    "plt.legend()"
   ]
  },
  {
   "cell_type": "code",
   "execution_count": null,
   "metadata": {},
   "outputs": [],
   "source": [
    "weird = []\n",
    "for i in zip(zenith,new_zenith_values):\n",
    "    if abs(i[1]-i[0]) > 0.5:\n",
    "        #print(i)\n",
    "        #print(i[1]-i[0])\n",
    "        weird.append(i)\n",
    "list1,list2 = zip(*weird)\n",
    "list_converted = []\n",
    "for i in list2:\n",
    "    list_converted.append(i*180/np.pi)\n",
    "plt.hist(list_converted,bins=1000)\n",
    "plt.show()"
   ]
  },
  {
   "cell_type": "code",
   "execution_count": null,
   "metadata": {},
   "outputs": [],
   "source": [
    "def azimuth(sincos,sinsin):\n",
    "    values = []\n",
    "    for i,j in zip(sinsin,sincos):\n",
    "        if i > 0:\n",
    "            if j > 0:\n",
    "                values.append(np.arctan(i/j))\n",
    "            if j < 0:\n",
    "                values.append(-np.arctan(i/j)+np.pi)\n",
    "        if i < 0:\n",
    "            if j > 0:\n",
    "                values.append(np.arctan(i/j)+2.0*np.pi)\n",
    "            if j < 0:\n",
    "                values.append(-np.arctan(i/j)+np.pi)\n",
    "    return values"
   ]
  },
  {
   "cell_type": "code",
   "execution_count": null,
   "metadata": {},
   "outputs": [],
   "source": [
    "azimuth_predicted = azimuth(list(cos_values_1_1),list(cos_values_1_2))"
   ]
  },
  {
   "cell_type": "code",
   "execution_count": null,
   "metadata": {},
   "outputs": [],
   "source": [
    "plt.figure(5)\n",
    "plt.hist(azimuth_predicted,bins=100,label='Predicted',edgecolor='blue', facecolor=\"None\")\n",
    "plt.hist(new_azimuth_values,bins=100,label='True',edgecolor='red', facecolor=\"None\")\n",
    "plt.xlabel('Azimuth')\n",
    "plt.ylabel('Count')\n",
    "plt.legend()"
   ]
  },
  {
   "cell_type": "code",
   "execution_count": null,
   "metadata": {},
   "outputs": [],
   "source": [
    "from sklearn.metrics import mean_squared_error\n",
    "a1=np.histogram(azimuth_predicted,bins=100)[0]\n",
    "a2=np.histogram(azimuth_values,bins=100)[0]\n",
    "mse = mean_squared_error(a1,a2)\n",
    "print(mse**0.5)"
   ]
  },
  {
   "cell_type": "code",
   "execution_count": null,
   "metadata": {},
   "outputs": [],
   "source": [
    "b1,bins=np.histogram(zenith,bins=100)\n",
    "b2,bins2=np.histogram(new_zenith_values,bins=100)\n",
    "mse_search = []\n",
    "i = len(b1)-1\n",
    "while i > -1:\n",
    "    mse1 = mean_squared_error(b1[i:len(b1)],b2[i:len(b2)])\n",
    "    mse_search.append(mse1)\n",
    "    i-=1\n",
    "plt.plot(bins[1:len(bins)],mse_search[::-1])\n",
    "plt.show()\n",
    "print(zip(bins[1:len(bins)],mse_search[::-1]))"
   ]
  },
  {
   "cell_type": "code",
   "execution_count": null,
   "metadata": {},
   "outputs": [],
   "source": [
    "def space_angle_error(variable1,variable2):\n",
    "    x = []\n",
    "    for i,j in zip(variable1,variable2):\n",
    "        magnitude1 = (i[0]**2.0+i[1]**2.0+i[2]**2.0)**0.5\n",
    "        magnitude2 = (j[0]**2.0+j[1]**2.0+j[2]**2.0)**0.5\n",
    "        dot_product = (i[0]*j[0]+i[1]*j[1]+i[2]*j[2])\n",
    "        error = np.arccos(dot_product/(magnitude1*magnitude2))\n",
    "        x.append(error)\n",
    "    return x,magnitude1,magnitude2"
   ]
  },
  {
   "cell_type": "code",
   "execution_count": null,
   "metadata": {},
   "outputs": [],
   "source": [
    "value1 = zip(cos_values_1,cos_values_2,cos_values_3)\n",
    "value2 = zip(cos_values_1_1,cos_values_1_2,cos_values_1_3)\n",
    "error,mag1,mag2 = space_angle_error(value1,value2)\n",
    "print(mag1)"
   ]
  },
  {
   "cell_type": "code",
   "execution_count": null,
   "metadata": {},
   "outputs": [],
   "source": [
    "plt.figure(5)\n",
    "plt.hist(error,bins=100,edgecolor='blue', facecolor=\"None\")\n",
    "plt.xlabel('Space Angle Error')\n",
    "plt.ylabel('Count')\n",
    "plt.legend()"
   ]
  },
  {
   "cell_type": "code",
   "execution_count": null,
   "metadata": {},
   "outputs": [],
   "source": [
    "mean = np.mean(error)\n",
    "print(mean)\n",
    "median = np.median(error)\n",
    "print(median)\n",
    "percentile = np.percentile(error,95)\n",
    "print(percentile)\n",
    "percentile2 = np.percentile(error,75)\n",
    "print(percentile2)"
   ]
  },
  {
   "cell_type": "code",
   "execution_count": null,
   "metadata": {},
   "outputs": [],
   "source": [
    "0.136*(180.0/np.pi)"
   ]
  },
  {
   "cell_type": "code",
   "execution_count": null,
   "metadata": {},
   "outputs": [],
   "source": []
  }
 ],
 "metadata": {
  "kernelspec": {
   "display_name": "Python 2.7 (Conda 5.2) [python/2.7-conda5.2]",
   "language": "python",
   "name": "sys_python27conda"
  },
  "language_info": {
   "codemirror_mode": {
    "name": "ipython",
    "version": 2
   },
   "file_extension": ".py",
   "mimetype": "text/x-python",
   "name": "python",
   "nbconvert_exporter": "python",
   "pygments_lexer": "ipython2",
   "version": "2.7.15"
  }
 },
 "nbformat": 4,
 "nbformat_minor": 2
}
