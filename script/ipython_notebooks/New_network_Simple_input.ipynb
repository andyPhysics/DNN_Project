{
 "cells": [
  {
   "cell_type": "code",
   "execution_count": 1,
   "metadata": {},
   "outputs": [],
   "source": [
    "import numpy as np\n",
    "import pandas as pd\n",
    "import sys,os\n",
    "\n",
    "def load_files(batch):\n",
    "    images = []\n",
    "    labels = []\n",
    "    for i in batch:\n",
    "        print('Loading File: ' + i)\n",
    "        x = np.load(i,encoding = 'latin1',allow_pickle=True).item()\n",
    "        keys = x.keys()\n",
    "        for key in keys:\n",
    "            images.append(x[key][0])\n",
    "            labels.append(x[key][1])\n",
    "    return np.array(images),np.array(labels)\n",
    "\n",
    "def get_feature(labels,feature):\n",
    "    feature_values = []\n",
    "    for i in labels:\n",
    "        feature_values.append(i[feature])\n",
    "    feature_values = np.array(feature_values)\n",
    "    return feature_values\n",
    "\n",
    "def get_cos_values(zenith,azimuth):\n",
    "    cos1 = []\n",
    "    cos2 = []\n",
    "    cos3 = []\n",
    "    for i,j in zip(zenith,azimuth):\n",
    "        cos1.append(np.sin(i) * np.cos(j))\n",
    "        cos2.append(np.sin(i) * np.sin(j))\n",
    "        cos3.append(np.cos(i))\n",
    "    return np.array(cos1),np.array(cos2),np.array(cos3)"
   ]
  },
  {
   "cell_type": "code",
   "execution_count": 2,
   "metadata": {},
   "outputs": [],
   "source": [
    "file_path = '/fs/scratch/PAS1495/amedina/'\n",
    "y = os.listdir(file_path+'processed_simple')\n",
    "\n",
    "file_names = []\n",
    "\n",
    "for i in y:\n",
    "    file_names.append(file_path+'processed_simple/'+i)\n",
    "\n",
    "file_names_batched = list(np.array_split(file_names,300))"
   ]
  },
  {
   "cell_type": "code",
   "execution_count": 3,
   "metadata": {
    "scrolled": true
   },
   "outputs": [
    {
     "name": "stdout",
     "output_type": "stream",
     "text": [
      "Loading File: /fs/scratch/PAS1495/amedina/processed_simple/images_5958.npy\n",
      "Loading File: /fs/scratch/PAS1495/amedina/processed_simple/images_207.npy\n",
      "Loading File: /fs/scratch/PAS1495/amedina/processed_simple/images_5774.npy\n",
      "Loading File: /fs/scratch/PAS1495/amedina/processed_simple/images_5256.npy\n",
      "Loading File: /fs/scratch/PAS1495/amedina/processed_simple/images_4768.npy\n",
      "Loading File: /fs/scratch/PAS1495/amedina/processed_simple/images_2519.npy\n",
      "Loading File: /fs/scratch/PAS1495/amedina/processed_simple/images_4632.npy\n",
      "Loading File: /fs/scratch/PAS1495/amedina/processed_simple/images_5356.npy\n",
      "Loading File: /fs/scratch/PAS1495/amedina/processed_simple/images_4155.npy\n",
      "Loading File: /fs/scratch/PAS1495/amedina/processed_simple/images_5633.npy\n",
      "Loading File: /fs/scratch/PAS1495/amedina/processed_simple/images_4163.npy\n",
      "Loading File: /fs/scratch/PAS1495/amedina/processed_simple/images_7039.npy\n",
      "Loading File: /fs/scratch/PAS1495/amedina/processed_simple/images_6819.npy\n",
      "Loading File: /fs/scratch/PAS1495/amedina/processed_simple/images_3831.npy\n",
      "Loading File: /fs/scratch/PAS1495/amedina/processed_simple/images_2088.npy\n",
      "Loading File: /fs/scratch/PAS1495/amedina/processed_simple/images_1612.npy\n",
      "Loading File: /fs/scratch/PAS1495/amedina/processed_simple/images_7526.npy\n",
      "Loading File: /fs/scratch/PAS1495/amedina/processed_simple/images_3090.npy\n",
      "Loading File: /fs/scratch/PAS1495/amedina/processed_simple/images_2302.npy\n",
      "Loading File: /fs/scratch/PAS1495/amedina/processed_simple/images_678.npy\n",
      "Loading File: /fs/scratch/PAS1495/amedina/processed_simple/images_3597.npy\n",
      "Loading File: /fs/scratch/PAS1495/amedina/processed_simple/images_6632.npy\n",
      "Loading File: /fs/scratch/PAS1495/amedina/processed_simple/images_2323.npy\n",
      "Loading File: /fs/scratch/PAS1495/amedina/processed_simple/images_3310.npy\n",
      "Loading File: /fs/scratch/PAS1495/amedina/processed_simple/images_7225.npy\n",
      "Loading File: /fs/scratch/PAS1495/amedina/processed_simple/images_6125.npy\n",
      "Loading File: /fs/scratch/PAS1495/amedina/processed_simple/images_6204.npy\n"
     ]
    }
   ],
   "source": [
    "images1,labels = load_files(file_names_batched[0])"
   ]
  },
  {
   "cell_type": "code",
   "execution_count": 4,
   "metadata": {},
   "outputs": [],
   "source": [
    "images = images1[:,:,:,:]\n",
    "#images = images1\n",
    "\n",
    "\n",
    "zenith_values = get_feature(labels,1)\n",
    "azimuth_values = get_feature(labels,2)\n",
    "\n",
    "zenith_direction = []\n",
    "\n",
    "for i in zenith_values:\n",
    "    if i < np.pi/2.0:\n",
    "        zenith_direction.append(-1)\n",
    "    if i >= np.pi/2.0:\n",
    "        zenith_direction.append(1)\n",
    "\n",
    "cos1,cos2,cos3 = get_cos_values(zenith_values,azimuth_values)"
   ]
  },
  {
   "cell_type": "code",
   "execution_count": 5,
   "metadata": {},
   "outputs": [
    {
     "name": "stderr",
     "output_type": "stream",
     "text": [
      "Using TensorFlow backend.\n"
     ]
    }
   ],
   "source": [
    "import tensorflow as tf\n",
    "\n",
    "import keras\n",
    "from keras.models import Sequential,load_model, Model\n",
    "from keras.layers import Dense, Dropout, Flatten, Input,InputLayer, Concatenate\n",
    "from keras.layers import SeparableConv2D, MaxPooling2D , GaussianNoise,BatchNormalization\n",
    "from keras import backend as K\n",
    "from sklearn.model_selection import train_test_split,KFold\n",
    "from keras.layers import LeakyReLU,GaussianDropout,Lambda,UpSampling1D, LSTM\n",
    "from keras import regularizers"
   ]
  },
  {
   "cell_type": "code",
   "execution_count": 7,
   "metadata": {},
   "outputs": [
    {
     "name": "stdout",
     "output_type": "stream",
     "text": [
      "[[0.60534236 0.01458017 0.44281103 1.        ]\n",
      " [0.12694781 0.79961908 0.64512226 0.        ]\n",
      " [0.82456251 0.27577657 0.80721822 0.        ]\n",
      " ...\n",
      " [0.05406233 0.32880662 0.64775798 0.        ]\n",
      " [0.33655306 0.92165617 0.7132866  0.        ]\n",
      " [0.69700136 0.94558757 0.38756254 1.        ]]\n"
     ]
    }
   ],
   "source": [
    "cos_values = np.array(list(zip(cos1,cos2,cos3,zenith_direction)))\n",
    "cos_values1 = np.zeros([len(cos_values),len(cos_values[0])])\n",
    "for i in range(len(cos_values)):\n",
    "    for j in range(len(cos_values[0])):\n",
    "        cos_values1[i][j]=(cos_values[i][j] + 1.0)/2.0\n",
    "print(cos_values1)"
   ]
  },
  {
   "cell_type": "code",
   "execution_count": 16,
   "metadata": {},
   "outputs": [],
   "source": [
    "def get_data(images,values):\n",
    "    x_train, x_test , y_train , y_test = train_test_split(np.array(images),values,test_size = 0.1 , random_state=42)\n",
    "    return x_train,x_test,y_train,y_test\n",
    "\n",
    "x_train,x_test,y_train,y_test = get_data(images,cos_values1)"
   ]
  },
  {
   "cell_type": "code",
   "execution_count": null,
   "metadata": {},
   "outputs": [],
   "source": []
  },
  {
   "cell_type": "code",
   "execution_count": 17,
   "metadata": {},
   "outputs": [],
   "source": [
    "def loss_space_angle(y_true,y_pred):\n",
    "    y_true1 = y_true*2.0-1.0\n",
    "    y_pred1 = y_pred*2.0-1.0\n",
    "    subtraction = tf.math.subtract(y_true1,y_pred1)\n",
    "    y = tf.matrix_diag_part(K.dot(subtraction,K.transpose(subtraction)))\n",
    "    loss = tf.math.reduce_mean(y)\n",
    "    return loss\n"
   ]
  },
  {
   "cell_type": "code",
   "execution_count": 18,
   "metadata": {
    "scrolled": true
   },
   "outputs": [
    {
     "name": "stdout",
     "output_type": "stream",
     "text": [
      "__________________________________________________________________________________________________\n",
      "Layer (type)                    Output Shape         Param #     Connected to                     \n",
      "==================================================================================================\n",
      "input_3 (InputLayer)            (None, 9, 60, 86)    0                                            \n",
      "__________________________________________________________________________________________________\n",
      "leaky_re_lu_6 (LeakyReLU)       (None, 9, 60, 86)    0           input_3[0][0]                    \n",
      "__________________________________________________________________________________________________\n",
      "max_pooling2d_4 (MaxPooling2D)  (None, 9, 30, 43)    0           leaky_re_lu_6[0][0]              \n",
      "__________________________________________________________________________________________________\n",
      "separable_conv2d_4 (SeparableCo (None, 32, 30, 43)   401         max_pooling2d_4[0][0]            \n",
      "__________________________________________________________________________________________________\n",
      "leaky_re_lu_7 (LeakyReLU)       (None, 32, 30, 43)   0           separable_conv2d_4[0][0]         \n",
      "__________________________________________________________________________________________________\n",
      "max_pooling2d_5 (MaxPooling2D)  (None, 32, 15, 22)   0           leaky_re_lu_7[0][0]              \n",
      "__________________________________________________________________________________________________\n",
      "separable_conv2d_5 (SeparableCo (None, 32, 15, 22)   1344        max_pooling2d_5[0][0]            \n",
      "__________________________________________________________________________________________________\n",
      "leaky_re_lu_8 (LeakyReLU)       (None, 32, 15, 22)   0           separable_conv2d_5[0][0]         \n",
      "__________________________________________________________________________________________________\n",
      "max_pooling2d_6 (MaxPooling2D)  (None, 32, 8, 11)    0           leaky_re_lu_8[0][0]              \n",
      "__________________________________________________________________________________________________\n",
      "separable_conv2d_6 (SeparableCo (None, 32, 8, 11)    1344        max_pooling2d_6[0][0]            \n",
      "__________________________________________________________________________________________________\n",
      "flatten_7 (Flatten)             (None, 46440)        0           input_3[0][0]                    \n",
      "__________________________________________________________________________________________________\n",
      "flatten_8 (Flatten)             (None, 2816)         0           separable_conv2d_6[0][0]         \n",
      "__________________________________________________________________________________________________\n",
      "flatten_9 (Flatten)             (None, 11610)        0           max_pooling2d_4[0][0]            \n",
      "__________________________________________________________________________________________________\n",
      "flatten_10 (Flatten)            (None, 10560)        0           max_pooling2d_5[0][0]            \n",
      "__________________________________________________________________________________________________\n",
      "flatten_11 (Flatten)            (None, 2816)         0           max_pooling2d_6[0][0]            \n",
      "__________________________________________________________________________________________________\n",
      "concatenate_3 (Concatenate)     (None, 74242)        0           flatten_7[0][0]                  \n",
      "                                                                 flatten_8[0][0]                  \n",
      "                                                                 flatten_9[0][0]                  \n",
      "                                                                 flatten_10[0][0]                 \n",
      "                                                                 flatten_11[0][0]                 \n",
      "==================================================================================================\n",
      "Total params: 3,089\n",
      "Trainable params: 3,089\n",
      "Non-trainable params: 0\n",
      "__________________________________________________________________________________________________\n",
      "None\n"
     ]
    }
   ],
   "source": [
    "number_features = 9\n",
    "\n",
    "img_heights,img_rows = 60,86\n",
    "\n",
    "kernel = 3\n",
    "kernel2 = 2\n",
    "\n",
    "model1_input = Input(shape=(number_features,img_heights,img_rows))\n",
    "\n",
    "model1 = LeakyReLU(alpha = 0.01)(model1_input)\n",
    "output1 = MaxPooling2D(kernel2,padding='same',data_format='channels_first')(model1)\n",
    "model1 = SeparableConv2D(32,kernel,padding='same',kernel_regularizer=regularizers.l2(0.01),data_format='channels_first')(output1)\n",
    "\n",
    "model1 = LeakyReLU(alpha = 0.01)(model1)\n",
    "output2 = MaxPooling2D(kernel2,padding='same',data_format='channels_first')(model1)\n",
    "model1 = SeparableConv2D(32,kernel,padding='same',kernel_regularizer=regularizers.l2(0.01),data_format='channels_first')(output2)\n",
    "\n",
    "model1 = LeakyReLU(alpha = 0.01)(model1)\n",
    "output3 = MaxPooling2D(kernel2,padding='same',data_format='channels_first')(model1)\n",
    "model1 = SeparableConv2D(32,kernel,padding='same',kernel_regularizer=regularizers.l2(0.01),data_format='channels_first')(output3)\n",
    "\n",
    "cnn_model1 = Flatten()(model1_input)\n",
    "cnn_model2 = Flatten()(model1)\n",
    "cnn_model3 = Flatten()(output1)\n",
    "cnn_model4 = Flatten()(output2)\n",
    "cnn_model5 = Flatten()(output3)\n",
    "cnn_model = Concatenate(axis=-1)([cnn_model1,\n",
    "                                cnn_model2,\n",
    "                                cnn_model3,\n",
    "                                cnn_model4,\n",
    "                                cnn_model5\n",
    "                                ])\n",
    "\n",
    "\n",
    "cnn_model = Model(inputs=model1_input,outputs=cnn_model)\n",
    "opt = keras.optimizers.Adam(lr=0.0001, beta_1=0.9, beta_2=0.999, epsilon=1e-8, decay=1e-5, amsgrad=False)\n",
    "cnn_model.compile(optimizer=opt , loss = loss_space_angle)\n",
    "\n",
    "print(cnn_model.summary())"
   ]
  },
  {
   "cell_type": "code",
   "execution_count": 19,
   "metadata": {
    "scrolled": true
   },
   "outputs": [
    {
     "name": "stdout",
     "output_type": "stream",
     "text": [
      "__________________________________________________________________________________________________\n",
      "Layer (type)                    Output Shape         Param #     Connected to                     \n",
      "==================================================================================================\n",
      "input_4 (InputLayer)            (None, 9, 60, 86)    0                                            \n",
      "__________________________________________________________________________________________________\n",
      "lambda_2 (Lambda)               (None, 74242)        0           input_4[0][0]                    \n",
      "__________________________________________________________________________________________________\n",
      "dropout_3 (Dropout)             (None, 74242)        0           lambda_2[0][0]                   \n",
      "__________________________________________________________________________________________________\n",
      "dense_4 (Dense)                 (None, 512)          38012416    dropout_3[0][0]                  \n",
      "__________________________________________________________________________________________________\n",
      "leaky_re_lu_9 (LeakyReLU)       (None, 512)          0           dense_4[0][0]                    \n",
      "__________________________________________________________________________________________________\n",
      "dropout_4 (Dropout)             (None, 512)          0           leaky_re_lu_9[0][0]              \n",
      "__________________________________________________________________________________________________\n",
      "dense_5 (Dense)                 (None, 512)          262656      dropout_4[0][0]                  \n",
      "__________________________________________________________________________________________________\n",
      "leaky_re_lu_10 (LeakyReLU)      (None, 512)          0           dense_5[0][0]                    \n",
      "__________________________________________________________________________________________________\n",
      "flatten_12 (Flatten)            (None, 46440)        0           input_4[0][0]                    \n",
      "__________________________________________________________________________________________________\n",
      "concatenate_4 (Concatenate)     (None, 46952)        0           leaky_re_lu_10[0][0]             \n",
      "                                                                 flatten_12[0][0]                 \n",
      "__________________________________________________________________________________________________\n",
      "dense_6 (Dense)                 (None, 4)            187812      concatenate_4[0][0]              \n",
      "==================================================================================================\n",
      "Total params: 38,462,884\n",
      "Trainable params: 38,462,884\n",
      "Non-trainable params: 0\n",
      "__________________________________________________________________________________________________\n",
      "None\n"
     ]
    }
   ],
   "source": [
    "input_new = Input(shape=(number_features,img_heights,img_rows))\n",
    "\n",
    "output = Lambda(lambda x: cnn_model(x))(input_new)\n",
    "\n",
    "model = Dropout(0.5)(output)\n",
    "model = Dense(512)(model)\n",
    "model = LeakyReLU(alpha = 0.01)(model)\n",
    "model = Dropout(0.5)(model)\n",
    "model = Dense(512)(model)\n",
    "model = LeakyReLU(alpha = 0.01)(model)\n",
    "\n",
    "input_new_prime = Flatten()(input_new)\n",
    "model = Concatenate(axis=-1)([model, input_new_prime])\n",
    "\n",
    "predictions = Dense(4)(model)\n",
    "\n",
    "model = Model(inputs=input_new,outputs=predictions)\n",
    "opt = keras.optimizers.Adam(lr=0.0001, beta_1=0.9, beta_2=0.999, epsilon=1e-8, decay=1e-5, amsgrad=False)\n",
    "model.compile(optimizer=opt , loss = loss_space_angle)\n",
    "\n",
    "print(model.summary())\n",
    "    "
   ]
  },
  {
   "cell_type": "code",
   "execution_count": null,
   "metadata": {},
   "outputs": [],
   "source": []
  },
  {
   "cell_type": "code",
   "execution_count": 20,
   "metadata": {},
   "outputs": [
    {
     "data": {
      "text/plain": [
       "(979, 60, 86)"
      ]
     },
     "execution_count": 20,
     "metadata": {},
     "output_type": "execute_result"
    }
   ],
   "source": [
    "#keras.utils.plot_model(cnn_model, to_file='cnn_model.png', show_shapes=False, show_layer_names=True, rankdir='TB')\n",
    "#keras.utils.plot_model(model, to_file='model.png', show_shapes=False, show_layer_names=True, rankdir='TB')\n",
    "np.array(zip(*x_train)[0]).shape\n"
   ]
  },
  {
   "cell_type": "code",
   "execution_count": 21,
   "metadata": {
    "scrolled": true
   },
   "outputs": [
    {
     "name": "stdout",
     "output_type": "stream",
     "text": [
      "Train on 979 samples, validate on 109 samples\n",
      "Epoch 1/40\n",
      "979/979 [==============================] - 3s 3ms/step - loss: 3.1321 - val_loss: 1.8578\n",
      "Epoch 2/40\n",
      "979/979 [==============================] - 2s 2ms/step - loss: 1.6778 - val_loss: 1.5649\n",
      "Epoch 3/40\n",
      "979/979 [==============================] - 2s 2ms/step - loss: 1.2776 - val_loss: 1.3459\n",
      "Epoch 4/40\n",
      "979/979 [==============================] - 2s 2ms/step - loss: 0.9980 - val_loss: 1.2112\n",
      "Epoch 5/40\n",
      "979/979 [==============================] - 2s 2ms/step - loss: 0.7865 - val_loss: 1.0475\n",
      "Epoch 6/40\n",
      "979/979 [==============================] - 2s 2ms/step - loss: 0.6274 - val_loss: 0.8934\n",
      "Epoch 7/40\n",
      "979/979 [==============================] - 2s 2ms/step - loss: 0.4824 - val_loss: 0.7769\n",
      "Epoch 8/40\n",
      "979/979 [==============================] - 2s 2ms/step - loss: 0.3634 - val_loss: 0.6406\n",
      "Epoch 9/40\n",
      "979/979 [==============================] - 2s 2ms/step - loss: 0.2858 - val_loss: 0.5754\n",
      "Epoch 10/40\n",
      "979/979 [==============================] - 2s 2ms/step - loss: 0.2254 - val_loss: 0.4795\n",
      "Epoch 11/40\n",
      "979/979 [==============================] - 2s 2ms/step - loss: 0.1817 - val_loss: 0.4155\n",
      "Epoch 12/40\n",
      "979/979 [==============================] - 2s 2ms/step - loss: 0.1457 - val_loss: 0.3633\n",
      "Epoch 13/40\n",
      "979/979 [==============================] - 2s 2ms/step - loss: 0.1176 - val_loss: 0.3226\n",
      "Epoch 14/40\n",
      "979/979 [==============================] - 2s 2ms/step - loss: 0.0996 - val_loss: 0.2823\n",
      "Epoch 15/40\n",
      "979/979 [==============================] - 2s 2ms/step - loss: 0.0815 - val_loss: 0.2764\n",
      "Epoch 16/40\n",
      "979/979 [==============================] - 2s 2ms/step - loss: 0.0727 - val_loss: 0.2432\n",
      "Epoch 17/40\n",
      "979/979 [==============================] - 2s 2ms/step - loss: 0.0636 - val_loss: 0.2164\n",
      "Epoch 18/40\n",
      "979/979 [==============================] - 2s 2ms/step - loss: 0.0562 - val_loss: 0.1980\n",
      "Epoch 19/40\n",
      "979/979 [==============================] - 2s 2ms/step - loss: 0.0506 - val_loss: 0.1899\n",
      "Epoch 20/40\n",
      "979/979 [==============================] - 2s 2ms/step - loss: 0.0469 - val_loss: 0.1761\n",
      "Epoch 21/40\n",
      "979/979 [==============================] - 2s 2ms/step - loss: 0.0405 - val_loss: 0.1647\n",
      "Epoch 22/40\n",
      "979/979 [==============================] - 2s 2ms/step - loss: 0.0372 - val_loss: 0.1646\n",
      "Epoch 23/40\n",
      "979/979 [==============================] - 2s 2ms/step - loss: 0.0346 - val_loss: 0.1479\n",
      "Epoch 24/40\n",
      "979/979 [==============================] - 2s 2ms/step - loss: 0.0299 - val_loss: 0.1475\n",
      "Epoch 25/40\n",
      "979/979 [==============================] - 2s 2ms/step - loss: 0.0290 - val_loss: 0.1495\n",
      "Epoch 26/40\n",
      "979/979 [==============================] - 2s 2ms/step - loss: 0.0274 - val_loss: 0.1422\n",
      "Epoch 27/40\n",
      "979/979 [==============================] - 2s 2ms/step - loss: 0.0274 - val_loss: 0.1465\n",
      "Epoch 28/40\n",
      "979/979 [==============================] - 2s 2ms/step - loss: 0.0250 - val_loss: 0.1400\n",
      "Epoch 29/40\n",
      "979/979 [==============================] - 2s 2ms/step - loss: 0.0237 - val_loss: 0.1328\n",
      "Epoch 30/40\n",
      "979/979 [==============================] - 2s 2ms/step - loss: 0.0230 - val_loss: 0.1335\n",
      "Epoch 31/40\n",
      "979/979 [==============================] - 2s 2ms/step - loss: 0.0220 - val_loss: 0.1375\n",
      "Epoch 32/40\n",
      "979/979 [==============================] - 2s 2ms/step - loss: 0.0206 - val_loss: 0.1351\n",
      "Epoch 33/40\n",
      "979/979 [==============================] - 2s 2ms/step - loss: 0.0197 - val_loss: 0.1294\n",
      "Epoch 34/40\n",
      "979/979 [==============================] - 2s 2ms/step - loss: 0.0199 - val_loss: 0.1253\n",
      "Epoch 35/40\n",
      "979/979 [==============================] - 2s 2ms/step - loss: 0.0193 - val_loss: 0.1346\n",
      "Epoch 36/40\n",
      "979/979 [==============================] - 2s 2ms/step - loss: 0.0188 - val_loss: 0.1298\n",
      "Epoch 37/40\n",
      "979/979 [==============================] - 2s 2ms/step - loss: 0.0177 - val_loss: 0.1266\n",
      "Epoch 38/40\n",
      "979/979 [==============================] - 2s 2ms/step - loss: 0.0165 - val_loss: 0.1274\n",
      "Epoch 39/40\n",
      "979/979 [==============================] - 2s 2ms/step - loss: 0.0163 - val_loss: 0.1263\n",
      "Epoch 40/40\n",
      "979/979 [==============================] - 2s 2ms/step - loss: 0.0158 - val_loss: 0.1277\n"
     ]
    }
   ],
   "source": [
    "history1 = []\n",
    "history2 = []\n",
    "batch_size = 128\n",
    "epochs=40\n",
    "\n",
    "\n",
    "history=model.fit(x_train, y_train,\n",
    "                      batch_size=batch_size,\n",
    "                      epochs=epochs,\n",
    "                      verbose=1,\n",
    "                      validation_data=(x_test, y_test))\n",
    "history_dict = history.history\n",
    "history1.append(history_dict['loss'])\n",
    "history2.append(history_dict['val_loss'])\n"
   ]
  },
  {
   "cell_type": "code",
   "execution_count": 14,
   "metadata": {},
   "outputs": [],
   "source": [
    "#import matplotlib.pyplot as plt\n",
    "#history_dict = history.history\n",
    "#print(history_dict.keys())\n",
    "#loss_values = history_dict['loss']\n",
    "#val_loss_values = history_dict['val_loss']\n",
    "\n",
    "#epochs = range(1, len(loss_values)+1)\n",
    "\n",
    "#start = 2\n",
    "\n",
    "#plt.plot(epochs[start:len(epochs)],loss_values[start:len(loss_values)],'bo',label='Training loss')\n",
    "#plt.plot(epochs[start:len(epochs)],val_loss_values[start:len(val_loss_values)],'b',label='Validation loss')\n",
    "#plt.title('Training and validation loss')\n",
    "#plt.xlabel('Epochs')\n",
    "#plt.ylabel('Loss')\n",
    "#plt.legend()\n",
    "\n",
    "#plt.show()"
   ]
  },
  {
   "cell_type": "code",
   "execution_count": 17,
   "metadata": {},
   "outputs": [
    {
     "data": {
      "image/png": "[encoded data removed]",
      "text/plain": [
       "<Figure size 432x288 with 1 Axes>"
      ]
     },
     "metadata": {},
     "output_type": "display_data"
    }
   ],
   "source": [
    "import matplotlib.pyplot as plt\n",
    "labels = ['128']\n",
    "count = 0\n",
    "count1 = 0\n",
    "epochs = range(1, len(history1[0])+1)\n",
    "plt.figure()\n",
    "for i in history1:\n",
    "    plt.plot(epochs,i,label = labels[count])\n",
    "    count+=1\n",
    "for j in history2:\n",
    "    plt.plot(epochs,j,label=labels[count1])\n",
    "    count1+=1\n",
    "plt.legend()\n",
    "plt.show()"
   ]
  },
  {
   "cell_type": "code",
   "execution_count": 16,
   "metadata": {},
   "outputs": [],
   "source": [
    "#plt.savefig('figure.png')"
   ]
  }
 ],
 "metadata": {
  "kernelspec": {
   "display_name": "Python 2.7 (Conda 5.2) [python/2.7-conda5.2]",
   "language": "python",
   "name": "sys_python27conda"
  },
  "language_info": {
   "codemirror_mode": {
    "name": "ipython",
    "version": 2
   },
   "file_extension": ".py",
   "mimetype": "text/x-python",
   "name": "python",
   "nbconvert_exporter": "python",
   "pygments_lexer": "ipython2",
   "version": "2.7.15"
  }
 },
 "nbformat": 4,
 "nbformat_minor": 2
}
