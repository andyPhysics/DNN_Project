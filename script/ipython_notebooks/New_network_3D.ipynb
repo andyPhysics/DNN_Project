{
 "cells": [
  {
   "cell_type": "code",
   "execution_count": 1,
   "metadata": {},
   "outputs": [],
   "source": [
    "import numpy as np\n",
    "import pandas as pd\n",
    "import sys,os\n",
    "\n",
    "def load_files(batch):\n",
    "    images = []\n",
    "    labels = []\n",
    "    for i in batch:\n",
    "        print('Loading File: ' + i)\n",
    "        x = np.load(i,encoding = 'latin1',allow_pickle=True).item()\n",
    "        keys = x.keys()\n",
    "        for key in keys:\n",
    "            images.append(x[key][0])\n",
    "            labels.append(x[key][1])\n",
    "    return np.array(images),np.array(labels)\n",
    "\n",
    "def get_feature(labels,feature):\n",
    "    feature_values = []\n",
    "    for i in labels:\n",
    "        feature_values.append(i[feature])\n",
    "    feature_values = np.array(feature_values)\n",
    "    return feature_values\n",
    "\n",
    "def get_cos_values(zenith,azimuth):\n",
    "    cos1 = []\n",
    "    cos2 = []\n",
    "    cos3 = []\n",
    "    for i,j in zip(zenith,azimuth):\n",
    "        cos1.append(np.sin(i) * np.cos(j))\n",
    "        cos2.append(np.sin(i) * np.sin(j))\n",
    "        cos3.append(np.cos(i))\n",
    "    return np.array(cos1),np.array(cos2),np.array(cos3)"
   ]
  },
  {
   "cell_type": "code",
   "execution_count": 2,
   "metadata": {},
   "outputs": [],
   "source": [
    "file_path = '/fs/scratch/PAS1495/amedina/'\n",
    "y = os.listdir(file_path+'processed_3D')\n",
    "\n",
    "file_names = []\n",
    "\n",
    "for i in y:\n",
    "    file_names.append(file_path+'processed_3D/'+i)\n",
    "\n",
    "file_names_batched = list(np.array_split(file_names,60))"
   ]
  },
  {
   "cell_type": "code",
   "execution_count": 3,
   "metadata": {
    "scrolled": true
   },
   "outputs": [
    {
     "name": "stdout",
     "output_type": "stream",
     "text": [
      "Loading File: /fs/scratch/PAS1495/amedina/processed_3D/images_5958.npy\n",
      "Loading File: /fs/scratch/PAS1495/amedina/processed_3D/images_207.npy\n",
      "Loading File: /fs/scratch/PAS1495/amedina/processed_3D/images_5774.npy\n",
      "Loading File: /fs/scratch/PAS1495/amedina/processed_3D/images_5256.npy\n",
      "Loading File: /fs/scratch/PAS1495/amedina/processed_3D/images_4768.npy\n",
      "Loading File: /fs/scratch/PAS1495/amedina/processed_3D/images_2519.npy\n",
      "Loading File: /fs/scratch/PAS1495/amedina/processed_3D/images_4632.npy\n",
      "Loading File: /fs/scratch/PAS1495/amedina/processed_3D/images_5356.npy\n",
      "Loading File: /fs/scratch/PAS1495/amedina/processed_3D/images_4155.npy\n",
      "Loading File: /fs/scratch/PAS1495/amedina/processed_3D/images_5633.npy\n",
      "Loading File: /fs/scratch/PAS1495/amedina/processed_3D/images_4163.npy\n",
      "Loading File: /fs/scratch/PAS1495/amedina/processed_3D/images_7039.npy\n",
      "Loading File: /fs/scratch/PAS1495/amedina/processed_3D/images_6819.npy\n",
      "Loading File: /fs/scratch/PAS1495/amedina/processed_3D/images_3831.npy\n",
      "Loading File: /fs/scratch/PAS1495/amedina/processed_3D/images_2088.npy\n",
      "Loading File: /fs/scratch/PAS1495/amedina/processed_3D/images_1612.npy\n",
      "Loading File: /fs/scratch/PAS1495/amedina/processed_3D/images_7526.npy\n",
      "Loading File: /fs/scratch/PAS1495/amedina/processed_3D/images_3090.npy\n",
      "Loading File: /fs/scratch/PAS1495/amedina/processed_3D/images_2302.npy\n",
      "Loading File: /fs/scratch/PAS1495/amedina/processed_3D/images_678.npy\n",
      "Loading File: /fs/scratch/PAS1495/amedina/processed_3D/images_3597.npy\n",
      "Loading File: /fs/scratch/PAS1495/amedina/processed_3D/images_6632.npy\n",
      "Loading File: /fs/scratch/PAS1495/amedina/processed_3D/images_2323.npy\n",
      "Loading File: /fs/scratch/PAS1495/amedina/processed_3D/images_3310.npy\n",
      "Loading File: /fs/scratch/PAS1495/amedina/processed_3D/images_7225.npy\n",
      "Loading File: /fs/scratch/PAS1495/amedina/processed_3D/images_6125.npy\n",
      "Loading File: /fs/scratch/PAS1495/amedina/processed_3D/images_6204.npy\n",
      "Loading File: /fs/scratch/PAS1495/amedina/processed_3D/images_5461.npy\n",
      "Loading File: /fs/scratch/PAS1495/amedina/processed_3D/images_2849.npy\n",
      "Loading File: /fs/scratch/PAS1495/amedina/processed_3D/images_5670.npy\n",
      "Loading File: /fs/scratch/PAS1495/amedina/processed_3D/images_2795.npy\n",
      "Loading File: /fs/scratch/PAS1495/amedina/processed_3D/images_1759.npy\n",
      "Loading File: /fs/scratch/PAS1495/amedina/processed_3D/images_7515.npy\n",
      "Loading File: /fs/scratch/PAS1495/amedina/processed_3D/images_7499.npy\n",
      "Loading File: /fs/scratch/PAS1495/amedina/processed_3D/images_4298.npy\n",
      "Loading File: /fs/scratch/PAS1495/amedina/processed_3D/images_7796.npy\n",
      "Loading File: /fs/scratch/PAS1495/amedina/processed_3D/images_5445.npy\n",
      "Loading File: /fs/scratch/PAS1495/amedina/processed_3D/images_2514.npy\n",
      "Loading File: /fs/scratch/PAS1495/amedina/processed_3D/images_2037.npy\n",
      "Loading File: /fs/scratch/PAS1495/amedina/processed_3D/images_1946.npy\n",
      "Loading File: /fs/scratch/PAS1495/amedina/processed_3D/images_3542.npy\n",
      "Loading File: /fs/scratch/PAS1495/amedina/processed_3D/images_7698.npy\n",
      "Loading File: /fs/scratch/PAS1495/amedina/processed_3D/images_1461.npy\n",
      "Loading File: /fs/scratch/PAS1495/amedina/processed_3D/images_1017.npy\n",
      "Loading File: /fs/scratch/PAS1495/amedina/processed_3D/images_1281.npy\n",
      "Loading File: /fs/scratch/PAS1495/amedina/processed_3D/images_3392.npy\n",
      "Loading File: /fs/scratch/PAS1495/amedina/processed_3D/images_2069.npy\n",
      "Loading File: /fs/scratch/PAS1495/amedina/processed_3D/images_2440.npy\n",
      "Loading File: /fs/scratch/PAS1495/amedina/processed_3D/images_6503.npy\n",
      "Loading File: /fs/scratch/PAS1495/amedina/processed_3D/images_7726.npy\n",
      "Loading File: /fs/scratch/PAS1495/amedina/processed_3D/images_6037.npy\n",
      "Loading File: /fs/scratch/PAS1495/amedina/processed_3D/images_1450.npy\n",
      "Loading File: /fs/scratch/PAS1495/amedina/processed_3D/images_7286.npy\n",
      "Loading File: /fs/scratch/PAS1495/amedina/processed_3D/images_4330.npy\n",
      "Loading File: /fs/scratch/PAS1495/amedina/processed_3D/images_2825.npy\n",
      "Loading File: /fs/scratch/PAS1495/amedina/processed_3D/images_5223.npy\n",
      "Loading File: /fs/scratch/PAS1495/amedina/processed_3D/images_1304.npy\n",
      "Loading File: /fs/scratch/PAS1495/amedina/processed_3D/images_2830.npy\n",
      "Loading File: /fs/scratch/PAS1495/amedina/processed_3D/images_9.npy\n",
      "Loading File: /fs/scratch/PAS1495/amedina/processed_3D/images_860.npy\n",
      "Loading File: /fs/scratch/PAS1495/amedina/processed_3D/images_5818.npy\n",
      "Loading File: /fs/scratch/PAS1495/amedina/processed_3D/images_5042.npy\n",
      "Loading File: /fs/scratch/PAS1495/amedina/processed_3D/images_4550.npy\n",
      "Loading File: /fs/scratch/PAS1495/amedina/processed_3D/images_4116.npy\n",
      "Loading File: /fs/scratch/PAS1495/amedina/processed_3D/images_3783.npy\n",
      "Loading File: /fs/scratch/PAS1495/amedina/processed_3D/images_2441.npy\n",
      "Loading File: /fs/scratch/PAS1495/amedina/processed_3D/images_44.npy\n",
      "Loading File: /fs/scratch/PAS1495/amedina/processed_3D/images_5605.npy\n",
      "Loading File: /fs/scratch/PAS1495/amedina/processed_3D/images_1242.npy\n",
      "Loading File: /fs/scratch/PAS1495/amedina/processed_3D/images_5748.npy\n",
      "Loading File: /fs/scratch/PAS1495/amedina/processed_3D/images_6122.npy\n",
      "Loading File: /fs/scratch/PAS1495/amedina/processed_3D/images_5792.npy\n",
      "Loading File: /fs/scratch/PAS1495/amedina/processed_3D/images_6619.npy\n",
      "Loading File: /fs/scratch/PAS1495/amedina/processed_3D/images_2894.npy\n",
      "Loading File: /fs/scratch/PAS1495/amedina/processed_3D/images_3241.npy\n",
      "Loading File: /fs/scratch/PAS1495/amedina/processed_3D/images_7851.npy\n",
      "Loading File: /fs/scratch/PAS1495/amedina/processed_3D/images_529.npy\n",
      "Loading File: /fs/scratch/PAS1495/amedina/processed_3D/images_5555.npy\n",
      "Loading File: /fs/scratch/PAS1495/amedina/processed_3D/images_4278.npy\n",
      "Loading File: /fs/scratch/PAS1495/amedina/processed_3D/images_5815.npy\n",
      "Loading File: /fs/scratch/PAS1495/amedina/processed_3D/images_2677.npy\n",
      "Loading File: /fs/scratch/PAS1495/amedina/processed_3D/images_5539.npy\n",
      "Loading File: /fs/scratch/PAS1495/amedina/processed_3D/images_4657.npy\n",
      "Loading File: /fs/scratch/PAS1495/amedina/processed_3D/images_3331.npy\n",
      "Loading File: /fs/scratch/PAS1495/amedina/processed_3D/images_2698.npy\n",
      "Loading File: /fs/scratch/PAS1495/amedina/processed_3D/images_4748.npy\n",
      "Loading File: /fs/scratch/PAS1495/amedina/processed_3D/images_1417.npy\n",
      "Loading File: /fs/scratch/PAS1495/amedina/processed_3D/images_2912.npy\n",
      "Loading File: /fs/scratch/PAS1495/amedina/processed_3D/images_4487.npy\n",
      "Loading File: /fs/scratch/PAS1495/amedina/processed_3D/images_7426.npy\n",
      "Loading File: /fs/scratch/PAS1495/amedina/processed_3D/images_6464.npy\n",
      "Loading File: /fs/scratch/PAS1495/amedina/processed_3D/images_4341.npy\n",
      "Loading File: /fs/scratch/PAS1495/amedina/processed_3D/images_5699.npy\n",
      "Loading File: /fs/scratch/PAS1495/amedina/processed_3D/images_2981.npy\n",
      "Loading File: /fs/scratch/PAS1495/amedina/processed_3D/images_2042.npy\n",
      "Loading File: /fs/scratch/PAS1495/amedina/processed_3D/images_3211.npy\n",
      "Loading File: /fs/scratch/PAS1495/amedina/processed_3D/images_7978.npy\n",
      "Loading File: /fs/scratch/PAS1495/amedina/processed_3D/images_5138.npy\n",
      "Loading File: /fs/scratch/PAS1495/amedina/processed_3D/images_2465.npy\n",
      "Loading File: /fs/scratch/PAS1495/amedina/processed_3D/images_7519.npy\n",
      "Loading File: /fs/scratch/PAS1495/amedina/processed_3D/images_6806.npy\n",
      "Loading File: /fs/scratch/PAS1495/amedina/processed_3D/images_7399.npy\n",
      "Loading File: /fs/scratch/PAS1495/amedina/processed_3D/images_4673.npy\n",
      "Loading File: /fs/scratch/PAS1495/amedina/processed_3D/images_594.npy\n",
      "Loading File: /fs/scratch/PAS1495/amedina/processed_3D/images_1435.npy\n",
      "Loading File: /fs/scratch/PAS1495/amedina/processed_3D/images_276.npy\n",
      "Loading File: /fs/scratch/PAS1495/amedina/processed_3D/images_6571.npy\n",
      "Loading File: /fs/scratch/PAS1495/amedina/processed_3D/images_4006.npy\n",
      "Loading File: /fs/scratch/PAS1495/amedina/processed_3D/images_6707.npy\n",
      "Loading File: /fs/scratch/PAS1495/amedina/processed_3D/images_7038.npy\n",
      "Loading File: /fs/scratch/PAS1495/amedina/processed_3D/images_3927.npy\n",
      "Loading File: /fs/scratch/PAS1495/amedina/processed_3D/images_5011.npy\n",
      "Loading File: /fs/scratch/PAS1495/amedina/processed_3D/images_719.npy\n",
      "Loading File: /fs/scratch/PAS1495/amedina/processed_3D/images_1538.npy\n",
      "Loading File: /fs/scratch/PAS1495/amedina/processed_3D/images_496.npy\n",
      "Loading File: /fs/scratch/PAS1495/amedina/processed_3D/images_6844.npy\n",
      "Loading File: /fs/scratch/PAS1495/amedina/processed_3D/images_2295.npy\n"
     ]
    },
    {
     "name": "stdout",
     "output_type": "stream",
     "text": [
      "Loading File: /fs/scratch/PAS1495/amedina/processed_3D/images_7850.npy\n",
      "Loading File: /fs/scratch/PAS1495/amedina/processed_3D/images_5971.npy\n",
      "Loading File: /fs/scratch/PAS1495/amedina/processed_3D/images_1227.npy\n",
      "Loading File: /fs/scratch/PAS1495/amedina/processed_3D/images_4001.npy\n",
      "Loading File: /fs/scratch/PAS1495/amedina/processed_3D/images_4573.npy\n",
      "Loading File: /fs/scratch/PAS1495/amedina/processed_3D/images_2758.npy\n",
      "Loading File: /fs/scratch/PAS1495/amedina/processed_3D/images_6983.npy\n",
      "Loading File: /fs/scratch/PAS1495/amedina/processed_3D/images_3617.npy\n",
      "Loading File: /fs/scratch/PAS1495/amedina/processed_3D/images_6790.npy\n",
      "Loading File: /fs/scratch/PAS1495/amedina/processed_3D/images_4963.npy\n",
      "Loading File: /fs/scratch/PAS1495/amedina/processed_3D/images_705.npy\n",
      "Loading File: /fs/scratch/PAS1495/amedina/processed_3D/images_7135.npy\n",
      "Loading File: /fs/scratch/PAS1495/amedina/processed_3D/images_1638.npy\n",
      "Loading File: /fs/scratch/PAS1495/amedina/processed_3D/images_1216.npy\n",
      "Loading File: /fs/scratch/PAS1495/amedina/processed_3D/images_1911.npy\n",
      "Loading File: /fs/scratch/PAS1495/amedina/processed_3D/images_5626.npy\n",
      "Loading File: /fs/scratch/PAS1495/amedina/processed_3D/images_671.npy\n"
     ]
    }
   ],
   "source": [
    "images1,labels = load_files(file_names_batched[0])"
   ]
  },
  {
   "cell_type": "code",
   "execution_count": 4,
   "metadata": {},
   "outputs": [
    {
     "name": "stdout",
     "output_type": "stream",
     "text": [
      "(5637, 60, 10, 19, 2)\n"
     ]
    }
   ],
   "source": [
    "images = images1[:,:,:,:,[0,7]]\n",
    "\n",
    "\n",
    "zenith_values = get_feature(labels,1)\n",
    "azimuth_values = get_feature(labels,2)\n",
    "\n",
    "cos1,cos2,cos3 = get_cos_values(zenith_values,azimuth_values)\n",
    "\n",
    "print(images.shape)"
   ]
  },
  {
   "cell_type": "code",
   "execution_count": 5,
   "metadata": {},
   "outputs": [
    {
     "name": "stderr",
     "output_type": "stream",
     "text": [
      "Using TensorFlow backend.\n"
     ]
    }
   ],
   "source": [
    "import tensorflow as tf\n",
    "\n",
    "import keras\n",
    "from keras.models import Sequential,load_model, Model\n",
    "from keras.layers import Dense, Dropout, Flatten, Input,InputLayer, Concatenate\n",
    "from keras.layers import Conv3D, MaxPooling3D , GaussianNoise,BatchNormalization\n",
    "from keras import backend as K\n",
    "from sklearn.model_selection import train_test_split,KFold\n",
    "from keras.layers import LeakyReLU,SpatialDropout3D,GaussianDropout,Lambda,UpSampling1D\n",
    "from keras import regularizers"
   ]
  },
  {
   "cell_type": "code",
   "execution_count": 6,
   "metadata": {},
   "outputs": [],
   "source": [
    "cos_values = np.array(list(zip(cos1,cos2,cos3)))\n",
    "cos_values1 = np.zeros([len(cos_values),len(cos_values[0])])\n",
    "for i in range(len(cos_values)):\n",
    "    for j in range(len(cos_values[0])):\n",
    "        cos_values1[i][j]=(cos_values[i][j] + 1.0)/2.0"
   ]
  },
  {
   "cell_type": "code",
   "execution_count": 7,
   "metadata": {},
   "outputs": [],
   "source": [
    "def get_data(images,values):\n",
    "    x_train, x_test , y_train , y_test = train_test_split(images,values,test_size = 0.1 , random_state=42)\n",
    "    return x_train,x_test,y_train,y_test\n",
    "\n",
    "x_train,x_test,y_train,y_test = get_data(images,cos_values1)"
   ]
  },
  {
   "cell_type": "code",
   "execution_count": 8,
   "metadata": {},
   "outputs": [],
   "source": [
    "def loss_space_angle(y_true,y_pred):\n",
    "    y_true1 = y_true*2.0-1.0\n",
    "    y_pred1 = y_pred*2.0-1.0\n",
    "    subtraction = tf.math.subtract(y_true1,y_pred1)\n",
    "    y = tf.matrix_diag_part(K.dot(subtraction,K.transpose(subtraction)))\n",
    "    loss = tf.math.reduce_mean(y)\n",
    "    return loss\n"
   ]
  },
  {
   "cell_type": "code",
   "execution_count": 9,
   "metadata": {
    "scrolled": true
   },
   "outputs": [
    {
     "name": "stderr",
     "output_type": "stream",
     "text": [
      "WARNING: Logging before flag parsing goes to stderr.\n",
      "W0805 14:53:20.908092 47511200458048 deprecation_wrapper.py:119] From /users/PAS1495/amedina/.local/lib/python2.7/site-packages/keras/backend/tensorflow_backend.py:74: The name tf.get_default_graph is deprecated. Please use tf.compat.v1.get_default_graph instead.\n",
      "\n",
      "W0805 14:53:20.921596 47511200458048 deprecation_wrapper.py:119] From /users/PAS1495/amedina/.local/lib/python2.7/site-packages/keras/backend/tensorflow_backend.py:517: The name tf.placeholder is deprecated. Please use tf.compat.v1.placeholder instead.\n",
      "\n",
      "W0805 14:53:20.926548 47511200458048 deprecation_wrapper.py:119] From /users/PAS1495/amedina/.local/lib/python2.7/site-packages/keras/backend/tensorflow_backend.py:4138: The name tf.random_uniform is deprecated. Please use tf.random.uniform instead.\n",
      "\n",
      "W0805 14:53:20.995657 47511200458048 deprecation_wrapper.py:119] From /users/PAS1495/amedina/.local/lib/python2.7/site-packages/keras/optimizers.py:790: The name tf.train.Optimizer is deprecated. Please use tf.compat.v1.train.Optimizer instead.\n",
      "\n"
     ]
    },
    {
     "name": "stdout",
     "output_type": "stream",
     "text": [
      "__________________________________________________________________________________________________\n",
      "Layer (type)                    Output Shape         Param #     Connected to                     \n",
      "==================================================================================================\n",
      "input_1 (InputLayer)            (None, 60, 10, 19, 2 0                                            \n",
      "__________________________________________________________________________________________________\n",
      "leaky_re_lu_1 (LeakyReLU)       (None, 60, 10, 19, 2 0           input_1[0][0]                    \n",
      "__________________________________________________________________________________________________\n",
      "max_pooling3d_1 (MaxPooling3D)  (None, 30, 5, 10, 2) 0           leaky_re_lu_1[0][0]              \n",
      "__________________________________________________________________________________________________\n",
      "conv3d_1 (Conv3D)               (None, 30, 5, 10, 32 1760        max_pooling3d_1[0][0]            \n",
      "__________________________________________________________________________________________________\n",
      "leaky_re_lu_2 (LeakyReLU)       (None, 30, 5, 10, 32 0           conv3d_1[0][0]                   \n",
      "__________________________________________________________________________________________________\n",
      "max_pooling3d_2 (MaxPooling3D)  (None, 15, 3, 5, 32) 0           leaky_re_lu_2[0][0]              \n",
      "__________________________________________________________________________________________________\n",
      "conv3d_2 (Conv3D)               (None, 15, 3, 5, 32) 27680       max_pooling3d_2[0][0]            \n",
      "__________________________________________________________________________________________________\n",
      "leaky_re_lu_3 (LeakyReLU)       (None, 15, 3, 5, 32) 0           conv3d_2[0][0]                   \n",
      "__________________________________________________________________________________________________\n",
      "max_pooling3d_3 (MaxPooling3D)  (None, 8, 2, 3, 32)  0           leaky_re_lu_3[0][0]              \n",
      "__________________________________________________________________________________________________\n",
      "conv3d_3 (Conv3D)               (None, 8, 2, 3, 32)  27680       max_pooling3d_3[0][0]            \n",
      "__________________________________________________________________________________________________\n",
      "flatten_1 (Flatten)             (None, 22800)        0           input_1[0][0]                    \n",
      "__________________________________________________________________________________________________\n",
      "flatten_2 (Flatten)             (None, 1536)         0           conv3d_3[0][0]                   \n",
      "__________________________________________________________________________________________________\n",
      "flatten_3 (Flatten)             (None, 3000)         0           max_pooling3d_1[0][0]            \n",
      "__________________________________________________________________________________________________\n",
      "flatten_4 (Flatten)             (None, 7200)         0           max_pooling3d_2[0][0]            \n",
      "__________________________________________________________________________________________________\n",
      "flatten_5 (Flatten)             (None, 1536)         0           max_pooling3d_3[0][0]            \n",
      "__________________________________________________________________________________________________\n",
      "concatenate_1 (Concatenate)     (None, 36072)        0           flatten_1[0][0]                  \n",
      "                                                                 flatten_2[0][0]                  \n",
      "                                                                 flatten_3[0][0]                  \n",
      "                                                                 flatten_4[0][0]                  \n",
      "                                                                 flatten_5[0][0]                  \n",
      "==================================================================================================\n",
      "Total params: 57,120\n",
      "Trainable params: 57,120\n",
      "Non-trainable params: 0\n",
      "__________________________________________________________________________________________________\n",
      "None\n"
     ]
    }
   ],
   "source": [
    "number_features = 2\n",
    "\n",
    "img_heights,img_rows, img_cols = 60,10,19\n",
    "input_shape = (img_rows, img_cols)\n",
    "\n",
    "kernel = 3\n",
    "kernel2 = 2\n",
    "\n",
    "model1_input = Input(shape=(img_heights,img_rows,img_cols,number_features))\n",
    "\n",
    "model1 = LeakyReLU(alpha = 0.01)(model1_input)\n",
    "output1 = MaxPooling3D(kernel2,padding='same')(model1)\n",
    "model1 = Conv3D(32,kernel,padding='same',kernel_regularizer=regularizers.l2(0.01))(output1)\n",
    "\n",
    "model1 = LeakyReLU(alpha = 0.01)(model1)\n",
    "output2 = MaxPooling3D(kernel2,padding='same')(model1)\n",
    "model1 = Conv3D(32,kernel,padding='same',kernel_regularizer=regularizers.l2(0.01))(output2)\n",
    "\n",
    "model1 = LeakyReLU(alpha = 0.01)(model1)\n",
    "output3 = MaxPooling3D(kernel2,padding='same')(model1)\n",
    "model1 = Conv3D(32,kernel,padding='same',kernel_regularizer=regularizers.l2(0.01))(output3)\n",
    "\n",
    "cnn_model1 = Flatten()(model1_input)\n",
    "cnn_model2 = Flatten()(model1)\n",
    "cnn_model3 = Flatten()(output1)\n",
    "cnn_model4 = Flatten()(output2)\n",
    "cnn_model5 = Flatten()(output3)\n",
    "cnn_model = Concatenate(axis=-1)([cnn_model1,\n",
    "                                cnn_model2,\n",
    "                                cnn_model3,\n",
    "                                cnn_model4,\n",
    "                                cnn_model5\n",
    "                                ])\n",
    "\n",
    "cnn_model = Model(inputs=model1_input,outputs=cnn_model)\n",
    "opt = keras.optimizers.Adam(lr=0.0001, beta_1=0.9, beta_2=0.999, epsilon=1e-8, decay=1e-5, amsgrad=False)\n",
    "cnn_model.compile(optimizer=opt , loss = loss_space_angle)\n",
    "\n",
    "print(cnn_model.summary())"
   ]
  },
  {
   "cell_type": "code",
   "execution_count": 10,
   "metadata": {},
   "outputs": [
    {
     "name": "stderr",
     "output_type": "stream",
     "text": [
      "W0805 14:53:21.170094 47511200458048 deprecation_wrapper.py:119] From /users/PAS1495/amedina/.local/lib/python2.7/site-packages/keras/backend/tensorflow_backend.py:133: The name tf.placeholder_with_default is deprecated. Please use tf.compat.v1.placeholder_with_default instead.\n",
      "\n",
      "W0805 14:53:21.176040 47511200458048 deprecation.py:506] From /users/PAS1495/amedina/.local/lib/python2.7/site-packages/keras/backend/tensorflow_backend.py:3445: calling dropout (from tensorflow.python.ops.nn_ops) with keep_prob is deprecated and will be removed in a future version.\n",
      "Instructions for updating:\n",
      "Please use `rate` instead of `keep_prob`. Rate should be set to `rate = 1 - keep_prob`.\n"
     ]
    }
   ],
   "source": [
    "input_new = Input(shape=(img_heights,img_rows,img_cols,number_features))\n",
    "\n",
    "output = Lambda(lambda x: cnn_model(x))(input_new)\n",
    "\n",
    "model = Dropout(0.5)(output)\n",
    "model = Dense(512)(model)\n",
    "model = LeakyReLU(alpha = 0.01)(model)\n",
    "model = Dropout(0.5)(model)\n",
    "model = Dense(512)(model)\n",
    "model = LeakyReLU(alpha = 0.01)(model)\n",
    "\n",
    "input_new_prime = Flatten()(input_new)\n",
    "model = Concatenate(axis=-1)([model, input_new_prime])\n",
    "\n",
    "predictions = Dense(3)(model)\n",
    "\n",
    "model = Model(inputs=input_new,outputs=predictions)\n",
    "opt = keras.optimizers.Adam(lr=0.0001, beta_1=0.9, beta_2=0.999, epsilon=1e-8, decay=1e-5, amsgrad=False)\n",
    "model.compile(optimizer=opt , loss = loss_space_angle)\n",
    "    "
   ]
  },
  {
   "cell_type": "code",
   "execution_count": 11,
   "metadata": {},
   "outputs": [],
   "source": [
    "#keras.utils.plot_model(cnn_model, to_file='cnn_model.png', show_shapes=False, show_layer_names=True, rankdir='TB')\n",
    "#keras.utils.plot_model(model, to_file='model.png', show_shapes=False, show_layer_names=True, rankdir='TB')"
   ]
  },
  {
   "cell_type": "code",
   "execution_count": 12,
   "metadata": {
    "scrolled": true
   },
   "outputs": [
    {
     "name": "stderr",
     "output_type": "stream",
     "text": [
      "W0805 14:53:21.264204 47511200458048 deprecation_wrapper.py:119] From /users/PAS1495/amedina/.local/lib/python2.7/site-packages/keras/backend/tensorflow_backend.py:174: The name tf.get_default_session is deprecated. Please use tf.compat.v1.get_default_session instead.\n",
      "\n"
     ]
    },
    {
     "name": "stdout",
     "output_type": "stream",
     "text": [
      "Train on 5073 samples, validate on 564 samples\n",
      "Epoch 1/40\n",
      "5073/5073 [==============================] - 6s 1ms/step - loss: 1.4932 - val_loss: 0.9512\n",
      "Epoch 2/40\n",
      "5073/5073 [==============================] - 5s 1ms/step - loss: 0.8125 - val_loss: 0.7390\n",
      "Epoch 3/40\n",
      "4352/5073 [========================>.....] - ETA: 0s - loss: 0.6622"
     ]
    },
    {
     "ename": "KeyboardInterrupt",
     "evalue": "",
     "output_type": "error",
     "traceback": [
      "\u001b[0;31m\u001b[0m",
      "\u001b[0;31mKeyboardInterrupt\u001b[0mTraceback (most recent call last)",
      "\u001b[0;32m<ipython-input-12-7a7359d6d4d2>\u001b[0m in \u001b[0;36m<module>\u001b[0;34m()\u001b[0m\n\u001b[1;32m     15\u001b[0m                       \u001b[0mepochs\u001b[0m\u001b[0;34m=\u001b[0m\u001b[0mepochs\u001b[0m\u001b[0;34m,\u001b[0m\u001b[0;34m\u001b[0m\u001b[0m\n\u001b[1;32m     16\u001b[0m                       \u001b[0mverbose\u001b[0m\u001b[0;34m=\u001b[0m\u001b[0;36m1\u001b[0m\u001b[0;34m,\u001b[0m\u001b[0;34m\u001b[0m\u001b[0m\n\u001b[0;32m---> 17\u001b[0;31m                       validation_data=(x_test, y_test))\n\u001b[0m\u001b[1;32m     18\u001b[0m     \u001b[0mhistory_dict\u001b[0m \u001b[0;34m=\u001b[0m \u001b[0mhistory\u001b[0m\u001b[0;34m.\u001b[0m\u001b[0mhistory\u001b[0m\u001b[0;34m\u001b[0m\u001b[0m\n\u001b[1;32m     19\u001b[0m     \u001b[0mhistory1\u001b[0m\u001b[0;34m.\u001b[0m\u001b[0mappend\u001b[0m\u001b[0;34m(\u001b[0m\u001b[0mhistory_dict\u001b[0m\u001b[0;34m[\u001b[0m\u001b[0;34m'loss'\u001b[0m\u001b[0;34m]\u001b[0m\u001b[0;34m)\u001b[0m\u001b[0;34m\u001b[0m\u001b[0m\n",
      "\u001b[0;32m/users/PAS1495/amedina/.local/lib/python2.7/site-packages/keras/engine/training.pyc\u001b[0m in \u001b[0;36mfit\u001b[0;34m(self, x, y, batch_size, epochs, verbose, callbacks, validation_split, validation_data, shuffle, class_weight, sample_weight, initial_epoch, steps_per_epoch, validation_steps, **kwargs)\u001b[0m\n\u001b[1;32m   1037\u001b[0m                                         \u001b[0minitial_epoch\u001b[0m\u001b[0;34m=\u001b[0m\u001b[0minitial_epoch\u001b[0m\u001b[0;34m,\u001b[0m\u001b[0;34m\u001b[0m\u001b[0m\n\u001b[1;32m   1038\u001b[0m                                         \u001b[0msteps_per_epoch\u001b[0m\u001b[0;34m=\u001b[0m\u001b[0msteps_per_epoch\u001b[0m\u001b[0;34m,\u001b[0m\u001b[0;34m\u001b[0m\u001b[0m\n\u001b[0;32m-> 1039\u001b[0;31m                                         validation_steps=validation_steps)\n\u001b[0m\u001b[1;32m   1040\u001b[0m \u001b[0;34m\u001b[0m\u001b[0m\n\u001b[1;32m   1041\u001b[0m     def evaluate(self, x=None, y=None,\n",
      "\u001b[0;32m/users/PAS1495/amedina/.local/lib/python2.7/site-packages/keras/engine/training_arrays.pyc\u001b[0m in \u001b[0;36mfit_loop\u001b[0;34m(model, f, ins, out_labels, batch_size, epochs, verbose, callbacks, val_f, val_ins, shuffle, callback_metrics, initial_epoch, steps_per_epoch, validation_steps)\u001b[0m\n\u001b[1;32m    197\u001b[0m                     \u001b[0mins_batch\u001b[0m\u001b[0;34m[\u001b[0m\u001b[0mi\u001b[0m\u001b[0;34m]\u001b[0m \u001b[0;34m=\u001b[0m \u001b[0mins_batch\u001b[0m\u001b[0;34m[\u001b[0m\u001b[0mi\u001b[0m\u001b[0;34m]\u001b[0m\u001b[0;34m.\u001b[0m\u001b[0mtoarray\u001b[0m\u001b[0;34m(\u001b[0m\u001b[0;34m)\u001b[0m\u001b[0;34m\u001b[0m\u001b[0m\n\u001b[1;32m    198\u001b[0m \u001b[0;34m\u001b[0m\u001b[0m\n\u001b[0;32m--> 199\u001b[0;31m                 \u001b[0mouts\u001b[0m \u001b[0;34m=\u001b[0m \u001b[0mf\u001b[0m\u001b[0;34m(\u001b[0m\u001b[0mins_batch\u001b[0m\u001b[0;34m)\u001b[0m\u001b[0;34m\u001b[0m\u001b[0m\n\u001b[0m\u001b[1;32m    200\u001b[0m                 \u001b[0mouts\u001b[0m \u001b[0;34m=\u001b[0m \u001b[0mto_list\u001b[0m\u001b[0;34m(\u001b[0m\u001b[0mouts\u001b[0m\u001b[0;34m)\u001b[0m\u001b[0;34m\u001b[0m\u001b[0m\n\u001b[1;32m    201\u001b[0m                 \u001b[0;32mfor\u001b[0m \u001b[0ml\u001b[0m\u001b[0;34m,\u001b[0m \u001b[0mo\u001b[0m \u001b[0;32min\u001b[0m \u001b[0mzip\u001b[0m\u001b[0;34m(\u001b[0m\u001b[0mout_labels\u001b[0m\u001b[0;34m,\u001b[0m \u001b[0mouts\u001b[0m\u001b[0;34m)\u001b[0m\u001b[0;34m:\u001b[0m\u001b[0;34m\u001b[0m\u001b[0m\n",
      "\u001b[0;32m/users/PAS1495/amedina/.local/lib/python2.7/site-packages/keras/backend/tensorflow_backend.pyc\u001b[0m in \u001b[0;36m__call__\u001b[0;34m(self, inputs)\u001b[0m\n\u001b[1;32m   2713\u001b[0m                 \u001b[0;32mreturn\u001b[0m \u001b[0mself\u001b[0m\u001b[0;34m.\u001b[0m\u001b[0m_legacy_call\u001b[0m\u001b[0;34m(\u001b[0m\u001b[0minputs\u001b[0m\u001b[0;34m)\u001b[0m\u001b[0;34m\u001b[0m\u001b[0m\n\u001b[1;32m   2714\u001b[0m \u001b[0;34m\u001b[0m\u001b[0m\n\u001b[0;32m-> 2715\u001b[0;31m             \u001b[0;32mreturn\u001b[0m \u001b[0mself\u001b[0m\u001b[0;34m.\u001b[0m\u001b[0m_call\u001b[0m\u001b[0;34m(\u001b[0m\u001b[0minputs\u001b[0m\u001b[0;34m)\u001b[0m\u001b[0;34m\u001b[0m\u001b[0m\n\u001b[0m\u001b[1;32m   2716\u001b[0m         \u001b[0;32melse\u001b[0m\u001b[0;34m:\u001b[0m\u001b[0;34m\u001b[0m\u001b[0m\n\u001b[1;32m   2717\u001b[0m             \u001b[0;32mif\u001b[0m \u001b[0mpy_any\u001b[0m\u001b[0;34m(\u001b[0m\u001b[0mis_tensor\u001b[0m\u001b[0;34m(\u001b[0m\u001b[0mx\u001b[0m\u001b[0;34m)\u001b[0m \u001b[0;32mfor\u001b[0m \u001b[0mx\u001b[0m \u001b[0;32min\u001b[0m \u001b[0minputs\u001b[0m\u001b[0;34m)\u001b[0m\u001b[0;34m:\u001b[0m\u001b[0;34m\u001b[0m\u001b[0m\n",
      "\u001b[0;32m/users/PAS1495/amedina/.local/lib/python2.7/site-packages/keras/backend/tensorflow_backend.pyc\u001b[0m in \u001b[0;36m_call\u001b[0;34m(self, inputs)\u001b[0m\n\u001b[1;32m   2673\u001b[0m             \u001b[0mfetched\u001b[0m \u001b[0;34m=\u001b[0m \u001b[0mself\u001b[0m\u001b[0;34m.\u001b[0m\u001b[0m_callable_fn\u001b[0m\u001b[0;34m(\u001b[0m\u001b[0;34m*\u001b[0m\u001b[0marray_vals\u001b[0m\u001b[0;34m,\u001b[0m \u001b[0mrun_metadata\u001b[0m\u001b[0;34m=\u001b[0m\u001b[0mself\u001b[0m\u001b[0;34m.\u001b[0m\u001b[0mrun_metadata\u001b[0m\u001b[0;34m)\u001b[0m\u001b[0;34m\u001b[0m\u001b[0m\n\u001b[1;32m   2674\u001b[0m         \u001b[0;32melse\u001b[0m\u001b[0;34m:\u001b[0m\u001b[0;34m\u001b[0m\u001b[0m\n\u001b[0;32m-> 2675\u001b[0;31m             \u001b[0mfetched\u001b[0m \u001b[0;34m=\u001b[0m \u001b[0mself\u001b[0m\u001b[0;34m.\u001b[0m\u001b[0m_callable_fn\u001b[0m\u001b[0;34m(\u001b[0m\u001b[0;34m*\u001b[0m\u001b[0marray_vals\u001b[0m\u001b[0;34m)\u001b[0m\u001b[0;34m\u001b[0m\u001b[0m\n\u001b[0m\u001b[1;32m   2676\u001b[0m         \u001b[0;32mreturn\u001b[0m \u001b[0mfetched\u001b[0m\u001b[0;34m[\u001b[0m\u001b[0;34m:\u001b[0m\u001b[0mlen\u001b[0m\u001b[0;34m(\u001b[0m\u001b[0mself\u001b[0m\u001b[0;34m.\u001b[0m\u001b[0moutputs\u001b[0m\u001b[0;34m)\u001b[0m\u001b[0;34m]\u001b[0m\u001b[0;34m\u001b[0m\u001b[0m\n\u001b[1;32m   2677\u001b[0m \u001b[0;34m\u001b[0m\u001b[0m\n",
      "\u001b[0;32m/users/PAS1495/amedina/.local/lib/python2.7/site-packages/tensorflow/python/client/session.pyc\u001b[0m in \u001b[0;36m__call__\u001b[0;34m(self, *args, **kwargs)\u001b[0m\n\u001b[1;32m   1456\u001b[0m         ret = tf_session.TF_SessionRunCallable(self._session._session,\n\u001b[1;32m   1457\u001b[0m                                                \u001b[0mself\u001b[0m\u001b[0;34m.\u001b[0m\u001b[0m_handle\u001b[0m\u001b[0;34m,\u001b[0m \u001b[0margs\u001b[0m\u001b[0;34m,\u001b[0m\u001b[0;34m\u001b[0m\u001b[0m\n\u001b[0;32m-> 1458\u001b[0;31m                                                run_metadata_ptr)\n\u001b[0m\u001b[1;32m   1459\u001b[0m         \u001b[0;32mif\u001b[0m \u001b[0mrun_metadata\u001b[0m\u001b[0;34m:\u001b[0m\u001b[0;34m\u001b[0m\u001b[0m\n\u001b[1;32m   1460\u001b[0m           \u001b[0mproto_data\u001b[0m \u001b[0;34m=\u001b[0m \u001b[0mtf_session\u001b[0m\u001b[0;34m.\u001b[0m\u001b[0mTF_GetBuffer\u001b[0m\u001b[0;34m(\u001b[0m\u001b[0mrun_metadata_ptr\u001b[0m\u001b[0;34m)\u001b[0m\u001b[0;34m\u001b[0m\u001b[0m\n",
      "\u001b[0;31mKeyboardInterrupt\u001b[0m: "
     ]
    }
   ],
   "source": [
    "history1 = []\n",
    "history2 = []\n",
    "batch_numbers = [128]\n",
    "epochs=40\n",
    "\n",
    "Wsave = model.get_weights()\n",
    "\n",
    "for batch_size in batch_numbers:\n",
    "    with tf.Session(config=tf.ConfigProto(\n",
    "                    device_count={'CPU': 1})) as sess:\n",
    "        K.set_session(sess)\n",
    "        sess.run(tf.global_variables_initializer())\n",
    "        history=model.fit(x_train, y_train,\n",
    "                      batch_size=batch_size,\n",
    "                      epochs=epochs,\n",
    "                      verbose=1,\n",
    "                      validation_data=(x_test, y_test))\n",
    "    history_dict = history.history\n",
    "    history1.append(history_dict['loss'])\n",
    "    history2.append(history_dict['val_loss'])\n",
    "    model.set_weights(Wsave)"
   ]
  },
  {
   "cell_type": "code",
   "execution_count": null,
   "metadata": {},
   "outputs": [],
   "source": [
    "#import matplotlib.pyplot as plt\n",
    "#history_dict = history.history\n",
    "#print(history_dict.keys())\n",
    "#loss_values = history_dict['loss']\n",
    "#val_loss_values = history_dict['val_loss']\n",
    "\n",
    "#epochs = range(1, len(loss_values)+1)\n",
    "\n",
    "#start = 2\n",
    "\n",
    "#plt.plot(epochs[start:len(epochs)],loss_values[start:len(loss_values)],'bo',label='Training loss')\n",
    "#plt.plot(epochs[start:len(epochs)],val_loss_values[start:len(val_loss_values)],'b',label='Validation loss')\n",
    "#plt.title('Training and validation loss')\n",
    "#plt.xlabel('Epochs')\n",
    "#plt.ylabel('Loss')\n",
    "#plt.legend()\n",
    "\n",
    "#plt.show()"
   ]
  },
  {
   "cell_type": "code",
   "execution_count": null,
   "metadata": {},
   "outputs": [],
   "source": [
    "import matplotlib.pyplot as plt\n",
    "labels = ['16','32','64','128','256']\n",
    "count = 0\n",
    "count1 = 0\n",
    "epochs = range(1, len(history1[0])+1)\n",
    "plt.figure()\n",
    "for i in history1:\n",
    "    plt.plot(epochs,i,label = labels[count])\n",
    "    count+=1\n",
    "for j in history2:\n",
    "    plt.plot(epochs,j,label=labels[count1])\n",
    "    count1+=1\n",
    "plt.legend()\n",
    "plt.show()"
   ]
  },
  {
   "cell_type": "code",
   "execution_count": null,
   "metadata": {},
   "outputs": [],
   "source": [
    "#plt.savefig('figure.png')"
   ]
  },
  {
   "cell_type": "code",
   "execution_count": null,
   "metadata": {},
   "outputs": [],
   "source": []
  }
 ],
 "metadata": {
  "kernelspec": {
   "display_name": "Python 2.7 (Conda 5.2) [python/2.7-conda5.2 cuda/9.2.88]",
   "language": "python",
   "name": "sys_python27conda"
  },
  "language_info": {
   "codemirror_mode": {
    "name": "ipython",
    "version": 2
   },
   "file_extension": ".py",
   "mimetype": "text/x-python",
   "name": "python",
   "nbconvert_exporter": "python",
   "pygments_lexer": "ipython2",
   "version": "2.7.15"
  }
 },
 "nbformat": 4,
 "nbformat_minor": 2
}
