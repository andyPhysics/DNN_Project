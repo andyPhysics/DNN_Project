{
 "cells": [
  {
   "cell_type": "code",
   "execution_count": 1,
   "metadata": {},
   "outputs": [],
   "source": [
    "import numpy as np\n",
    "import pandas as pd\n",
    "import sys,os\n",
    "\n",
    "def load_files(batch):\n",
    "    images = []\n",
    "    labels = []\n",
    "    for i in batch:\n",
    "        print('Loading File: ' + i)\n",
    "        x = np.load(i,encoding = 'latin1',allow_pickle=True).item()\n",
    "        keys = x.keys()\n",
    "        for key in keys:\n",
    "            images.append(x[key][0])\n",
    "            labels.append(x[key][1])\n",
    "    return np.array(images),np.array(labels)\n",
    "\n",
    "def get_feature(labels,feature):\n",
    "    feature_values = []\n",
    "    for i in labels:\n",
    "        feature_values.append(i[feature])\n",
    "    feature_values = np.array(feature_values)\n",
    "    return feature_values\n",
    "\n",
    "def get_cos_values(zenith,azimuth):\n",
    "    cos1 = []\n",
    "    cos2 = []\n",
    "    cos3 = []\n",
    "    for i,j in zip(zenith,azimuth):\n",
    "        cos1.append(np.sin(i) * np.cos(j))\n",
    "        cos2.append(np.sin(i) * np.sin(j))\n",
    "        cos3.append(np.cos(i))\n",
    "    return np.array(cos1),np.array(cos2),np.array(cos3)"
   ]
  },
  {
   "cell_type": "code",
   "execution_count": 2,
   "metadata": {},
   "outputs": [],
   "source": [
    "file_path = '/fs/scratch/PAS1495/amedina/'\n",
    "y = os.listdir(file_path+'processed_3D')\n",
    "\n",
    "file_names = []\n",
    "\n",
    "for i in y:\n",
    "    file_names.append(file_path+'processed_3D/'+i)\n",
    "\n",
    "file_names_batched = list(np.array_split(file_names,100))"
   ]
  },
  {
   "cell_type": "code",
   "execution_count": 3,
   "metadata": {
    "scrolled": true
   },
   "outputs": [
    {
     "name": "stdout",
     "output_type": "stream",
     "text": [
      "Loading File: /fs/scratch/PAS1495/amedina/processed_3D/images_5958.npy\n",
      "Loading File: /fs/scratch/PAS1495/amedina/processed_3D/images_207.npy\n",
      "Loading File: /fs/scratch/PAS1495/amedina/processed_3D/images_5774.npy\n",
      "Loading File: /fs/scratch/PAS1495/amedina/processed_3D/images_5256.npy\n",
      "Loading File: /fs/scratch/PAS1495/amedina/processed_3D/images_4768.npy\n",
      "Loading File: /fs/scratch/PAS1495/amedina/processed_3D/images_2519.npy\n",
      "Loading File: /fs/scratch/PAS1495/amedina/processed_3D/images_4632.npy\n",
      "Loading File: /fs/scratch/PAS1495/amedina/processed_3D/images_5356.npy\n",
      "Loading File: /fs/scratch/PAS1495/amedina/processed_3D/images_4155.npy\n",
      "Loading File: /fs/scratch/PAS1495/amedina/processed_3D/images_5633.npy\n",
      "Loading File: /fs/scratch/PAS1495/amedina/processed_3D/images_4163.npy\n",
      "Loading File: /fs/scratch/PAS1495/amedina/processed_3D/images_7039.npy\n",
      "Loading File: /fs/scratch/PAS1495/amedina/processed_3D/images_6819.npy\n",
      "Loading File: /fs/scratch/PAS1495/amedina/processed_3D/images_3831.npy\n",
      "Loading File: /fs/scratch/PAS1495/amedina/processed_3D/images_2088.npy\n",
      "Loading File: /fs/scratch/PAS1495/amedina/processed_3D/images_1612.npy\n",
      "Loading File: /fs/scratch/PAS1495/amedina/processed_3D/images_7526.npy\n",
      "Loading File: /fs/scratch/PAS1495/amedina/processed_3D/images_3090.npy\n",
      "Loading File: /fs/scratch/PAS1495/amedina/processed_3D/images_2302.npy\n",
      "Loading File: /fs/scratch/PAS1495/amedina/processed_3D/images_678.npy\n",
      "Loading File: /fs/scratch/PAS1495/amedina/processed_3D/images_3597.npy\n",
      "Loading File: /fs/scratch/PAS1495/amedina/processed_3D/images_6632.npy\n",
      "Loading File: /fs/scratch/PAS1495/amedina/processed_3D/images_2323.npy\n",
      "Loading File: /fs/scratch/PAS1495/amedina/processed_3D/images_3310.npy\n",
      "Loading File: /fs/scratch/PAS1495/amedina/processed_3D/images_7225.npy\n",
      "Loading File: /fs/scratch/PAS1495/amedina/processed_3D/images_6125.npy\n",
      "Loading File: /fs/scratch/PAS1495/amedina/processed_3D/images_6204.npy\n",
      "Loading File: /fs/scratch/PAS1495/amedina/processed_3D/images_5461.npy\n",
      "Loading File: /fs/scratch/PAS1495/amedina/processed_3D/images_2849.npy\n",
      "Loading File: /fs/scratch/PAS1495/amedina/processed_3D/images_5670.npy\n",
      "Loading File: /fs/scratch/PAS1495/amedina/processed_3D/images_2795.npy\n",
      "Loading File: /fs/scratch/PAS1495/amedina/processed_3D/images_1759.npy\n",
      "Loading File: /fs/scratch/PAS1495/amedina/processed_3D/images_7515.npy\n",
      "Loading File: /fs/scratch/PAS1495/amedina/processed_3D/images_7499.npy\n",
      "Loading File: /fs/scratch/PAS1495/amedina/processed_3D/images_4298.npy\n",
      "Loading File: /fs/scratch/PAS1495/amedina/processed_3D/images_7796.npy\n",
      "Loading File: /fs/scratch/PAS1495/amedina/processed_3D/images_5445.npy\n",
      "Loading File: /fs/scratch/PAS1495/amedina/processed_3D/images_2514.npy\n",
      "Loading File: /fs/scratch/PAS1495/amedina/processed_3D/images_2037.npy\n",
      "Loading File: /fs/scratch/PAS1495/amedina/processed_3D/images_1946.npy\n",
      "Loading File: /fs/scratch/PAS1495/amedina/processed_3D/images_3542.npy\n",
      "Loading File: /fs/scratch/PAS1495/amedina/processed_3D/images_7698.npy\n",
      "Loading File: /fs/scratch/PAS1495/amedina/processed_3D/images_1461.npy\n",
      "Loading File: /fs/scratch/PAS1495/amedina/processed_3D/images_1017.npy\n",
      "Loading File: /fs/scratch/PAS1495/amedina/processed_3D/images_1281.npy\n",
      "Loading File: /fs/scratch/PAS1495/amedina/processed_3D/images_3392.npy\n",
      "Loading File: /fs/scratch/PAS1495/amedina/processed_3D/images_2069.npy\n",
      "Loading File: /fs/scratch/PAS1495/amedina/processed_3D/images_2440.npy\n",
      "Loading File: /fs/scratch/PAS1495/amedina/processed_3D/images_6503.npy\n",
      "Loading File: /fs/scratch/PAS1495/amedina/processed_3D/images_7726.npy\n",
      "Loading File: /fs/scratch/PAS1495/amedina/processed_3D/images_6037.npy\n",
      "Loading File: /fs/scratch/PAS1495/amedina/processed_3D/images_1450.npy\n",
      "Loading File: /fs/scratch/PAS1495/amedina/processed_3D/images_7286.npy\n",
      "Loading File: /fs/scratch/PAS1495/amedina/processed_3D/images_4330.npy\n",
      "Loading File: /fs/scratch/PAS1495/amedina/processed_3D/images_2825.npy\n",
      "Loading File: /fs/scratch/PAS1495/amedina/processed_3D/images_5223.npy\n",
      "Loading File: /fs/scratch/PAS1495/amedina/processed_3D/images_1304.npy\n",
      "Loading File: /fs/scratch/PAS1495/amedina/processed_3D/images_2830.npy\n",
      "Loading File: /fs/scratch/PAS1495/amedina/processed_3D/images_9.npy\n",
      "Loading File: /fs/scratch/PAS1495/amedina/processed_3D/images_860.npy\n",
      "Loading File: /fs/scratch/PAS1495/amedina/processed_3D/images_5818.npy\n",
      "Loading File: /fs/scratch/PAS1495/amedina/processed_3D/images_5042.npy\n",
      "Loading File: /fs/scratch/PAS1495/amedina/processed_3D/images_4550.npy\n",
      "Loading File: /fs/scratch/PAS1495/amedina/processed_3D/images_4116.npy\n",
      "Loading File: /fs/scratch/PAS1495/amedina/processed_3D/images_3783.npy\n",
      "Loading File: /fs/scratch/PAS1495/amedina/processed_3D/images_2441.npy\n",
      "Loading File: /fs/scratch/PAS1495/amedina/processed_3D/images_44.npy\n",
      "Loading File: /fs/scratch/PAS1495/amedina/processed_3D/images_5605.npy\n",
      "Loading File: /fs/scratch/PAS1495/amedina/processed_3D/images_1242.npy\n",
      "Loading File: /fs/scratch/PAS1495/amedina/processed_3D/images_5748.npy\n",
      "Loading File: /fs/scratch/PAS1495/amedina/processed_3D/images_6122.npy\n",
      "Loading File: /fs/scratch/PAS1495/amedina/processed_3D/images_5792.npy\n",
      "Loading File: /fs/scratch/PAS1495/amedina/processed_3D/images_6619.npy\n",
      "Loading File: /fs/scratch/PAS1495/amedina/processed_3D/images_2894.npy\n",
      "Loading File: /fs/scratch/PAS1495/amedina/processed_3D/images_3241.npy\n",
      "Loading File: /fs/scratch/PAS1495/amedina/processed_3D/images_7851.npy\n",
      "Loading File: /fs/scratch/PAS1495/amedina/processed_3D/images_529.npy\n",
      "Loading File: /fs/scratch/PAS1495/amedina/processed_3D/images_5555.npy\n",
      "Loading File: /fs/scratch/PAS1495/amedina/processed_3D/images_4278.npy\n",
      "Loading File: /fs/scratch/PAS1495/amedina/processed_3D/images_5815.npy\n"
     ]
    }
   ],
   "source": [
    "images,labels = load_files(file_names_batched[0])\n",
    "\n",
    "images = images[:,:,:,:,4:7]\n",
    "\n",
    "zenith_values = get_feature(labels,1)\n",
    "azimuth_values = get_feature(labels,2)\n",
    "\n",
    "cos1,cos2,cos3 = get_cos_values(zenith_values,azimuth_values)"
   ]
  },
  {
   "cell_type": "code",
   "execution_count": 4,
   "metadata": {},
   "outputs": [
    {
     "data": {
      "text/plain": [
       "(3303, 60, 10, 19, 3)"
      ]
     },
     "execution_count": 4,
     "metadata": {},
     "output_type": "execute_result"
    }
   ],
   "source": [
    "images.shape"
   ]
  },
  {
   "cell_type": "code",
   "execution_count": 5,
   "metadata": {},
   "outputs": [
    {
     "name": "stderr",
     "output_type": "stream",
     "text": [
      "Using TensorFlow backend.\n"
     ]
    }
   ],
   "source": [
    "import tensorflow as tf\n",
    "\n",
    "import keras\n",
    "from keras.models import Sequential,load_model\n",
    "from keras.layers import Dense, Dropout, Flatten, Input\n",
    "from keras.layers import Conv3D, MaxPooling3D ,BatchNormalization, GlobalAveragePooling3D\n",
    "from keras import backend as K\n",
    "from sklearn.model_selection import train_test_split,KFold\n",
    "from keras.layers import LeakyReLU, PReLU\n",
    "from keras import regularizers"
   ]
  },
  {
   "cell_type": "code",
   "execution_count": 6,
   "metadata": {},
   "outputs": [],
   "source": [
    "cos_values = np.array(list(zip(cos1,cos2,cos3)))"
   ]
  },
  {
   "cell_type": "code",
   "execution_count": 7,
   "metadata": {},
   "outputs": [],
   "source": [
    "def get_data(images,values):\n",
    "    x_train, x_test , y_train , y_test = train_test_split(images,values,test_size = 0.2 , random_state=42)\n",
    "    return x_train,x_test,y_train,y_test\n",
    "\n",
    "x_train,x_test,y_train,y_test = get_data(images,cos_values)"
   ]
  },
  {
   "cell_type": "code",
   "execution_count": 8,
   "metadata": {},
   "outputs": [],
   "source": [
    "def loss_space_angle(y_true,y_pred):\n",
    "    subtraction = tf.math.subtract(y_true,y_pred)\n",
    "    y = tf.matrix_diag_part(K.dot(subtraction,K.transpose(subtraction)))\n",
    "    loss = tf.math.reduce_mean(y)\n",
    "    return loss\n"
   ]
  },
  {
   "cell_type": "code",
   "execution_count": 9,
   "metadata": {},
   "outputs": [
    {
     "name": "stdout",
     "output_type": "stream",
     "text": [
      "WARNING:tensorflow:From /users/PAS1495/amedina/.local/lib/python2.7/site-packages/tensorflow/python/framework/op_def_library.py:263: colocate_with (from tensorflow.python.framework.ops) is deprecated and will be removed in a future version.\n",
      "Instructions for updating:\n",
      "Colocations handled automatically by placer.\n",
      "WARNING:tensorflow:From /users/PAS1495/amedina/.local/lib/python2.7/site-packages/keras/backend/tensorflow_backend.py:3445: calling dropout (from tensorflow.python.ops.nn_ops) with keep_prob is deprecated and will be removed in a future version.\n",
      "Instructions for updating:\n",
      "Please use `rate` instead of `keep_prob`. Rate should be set to `rate = 1 - keep_prob`.\n"
     ]
    }
   ],
   "source": [
    "batch_size = 128\n",
    "epochs=100\n",
    "\n",
    "img_heights,img_rows, img_cols = 60,10,19\n",
    "input_shape = (img_rows, img_cols)\n",
    "\n",
    "kernel = 3\n",
    "kernel2 = 2\n",
    "\n",
    "model = Sequential()\n",
    "model.add(Conv3D(16,kernel,\n",
    "                 input_shape = (img_heights,img_rows,img_cols,3),\n",
    "                 padding='same',\n",
    "                 kernel_regularizer=regularizers.l2(0.01)))\n",
    "                #activity_regularizer=regularizers.l1(0.01)))\n",
    "\n",
    "model.add(LeakyReLU(alpha = 0.01))\n",
    "model.add(MaxPooling3D(kernel2,padding='same'))\n",
    "model.add(Conv3D(32,kernel,padding='same'))\n",
    "model.add(MaxPooling3D(kernel2,padding='same'))\n",
    "model.add(Conv3D(32,kernel,padding='same'))\n",
    "model.add(MaxPooling3D(kernel2,padding='same'))\n",
    "model.add(Conv3D(32,kernel,padding='same'))\n",
    "model.add(MaxPooling3D(kernel2,padding='same'))\n",
    "model.add(Conv3D(32,kernel,padding='same'))\n",
    "\n",
    "model.add(Dropout(rate=1-0.5))\n",
    "\n",
    "model.add(LeakyReLU(alpha = 0.01))\n",
    "model.add(MaxPooling3D(kernel2,padding='same'))\n",
    "model.add(Conv3D(32,kernel,padding='same'))\n",
    "model.add(MaxPooling3D(kernel2,padding='same'))\n",
    "model.add(Conv3D(32,kernel,padding='same'))\n",
    "model.add(MaxPooling3D(kernel2,padding='same'))\n",
    "model.add(Conv3D(32,kernel,padding='same'))\n",
    "model.add(MaxPooling3D(kernel2,padding='same'))\n",
    "model.add(Conv3D(32,kernel,padding='same'))\n",
    "\n",
    "#model.add(GlobalAveragePooling3D())\n",
    "model.add(Flatten())\n",
    "\n",
    "model.add(Dense(16,activation='linear'))\n",
    "model.add(LeakyReLU(alpha = 0.01))\n",
    "model.add(Dense(3))\n",
    "\n",
    "#opt = keras.optimizers.SGD(lr=0.01, decay=1e-6, momentum=.09, nesterov=True)\n",
    "opt = keras.optimizers.Adam(lr=0.001, beta_1=0.9, beta_2=0.999, epsilon=1e-8, decay=1e-6, amsgrad=False)\n",
    "model.compile(optimizer=opt , loss = loss_space_angle)"
   ]
  },
  {
   "cell_type": "code",
   "execution_count": null,
   "metadata": {
    "scrolled": true
   },
   "outputs": [
    {
     "name": "stdout",
     "output_type": "stream",
     "text": [
      "Train on 2642 samples, validate on 661 samples\n",
      "Epoch 1/100\n",
      "2560/2642 [============================>.] - ETA: 1s - loss: 0.8954"
     ]
    }
   ],
   "source": [
    "session_conf = tf.ConfigProto(intra_op_parallelism_threads=8, inter_op_parallelism_threads=8)\n",
    "tf.set_random_seed(1)\n",
    "sess = tf.Session(graph=tf.get_default_graph(), config=session_conf)\n",
    "keras.backend.set_session(sess)\n",
    "\n",
    "history=model.fit(x_train, y_train,\n",
    "                  batch_size=batch_size,\n",
    "                  epochs=epochs,\n",
    "                  verbose=1,\n",
    "                  validation_data=(x_test, y_test))"
   ]
  },
  {
   "cell_type": "code",
   "execution_count": null,
   "metadata": {},
   "outputs": [],
   "source": [
    "import matplotlib.pyplot as plt\n",
    "history_dict = history.history\n",
    "print(history_dict.keys())\n",
    "loss_values = history_dict['loss']\n",
    "val_loss_values = history_dict['val_loss']\n",
    "\n",
    "epochs = range(1, len(loss_values)+1)\n",
    "\n",
    "plt.plot(epochs,loss_values,'bo',label='Training loss')\n",
    "plt.plot(epochs,val_loss_values,'b',label='Validation loss')\n",
    "plt.title('Training and validation loss')\n",
    "plt.xlabel('Epochs')\n",
    "plt.ylabel('Loss')\n",
    "plt.legend()\n",
    "\n",
    "plt.show()"
   ]
  },
  {
   "cell_type": "code",
   "execution_count": null,
   "metadata": {},
   "outputs": [],
   "source": []
  }
 ],
 "metadata": {
  "kernelspec": {
   "display_name": "Python 2.7 (Conda 5.2) [python/2.7-conda5.2]",
   "language": "python",
   "name": "sys_python27conda"
  },
  "language_info": {
   "codemirror_mode": {
    "name": "ipython",
    "version": 2
   },
   "file_extension": ".py",
   "mimetype": "text/x-python",
   "name": "python",
   "nbconvert_exporter": "python",
   "pygments_lexer": "ipython2",
   "version": "2.7.15"
  }
 },
 "nbformat": 4,
 "nbformat_minor": 2
}
