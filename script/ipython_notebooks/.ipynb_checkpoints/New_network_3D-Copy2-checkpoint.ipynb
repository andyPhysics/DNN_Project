{
 "cells": [
  {
   "cell_type": "code",
   "execution_count": 1,
   "metadata": {},
   "outputs": [],
   "source": [
    "import numpy as np\n",
    "import pandas as pd\n",
    "import sys,os\n",
    "\n",
    "def load_files(batch):\n",
    "    images = []\n",
    "    labels = []\n",
    "    for i in batch:\n",
    "        print('Loading File: ' + i)\n",
    "        x = np.load(i,encoding = 'latin1',allow_pickle=True).item()\n",
    "        keys = x.keys()\n",
    "        for key in keys:\n",
    "            images.append(x[key][0])\n",
    "            labels.append(x[key][1])\n",
    "    return np.array(images),np.array(labels)\n",
    "\n",
    "def get_feature(labels,feature):\n",
    "    feature_values = []\n",
    "    for i in labels:\n",
    "        feature_values.append(i[feature])\n",
    "    feature_values = np.array(feature_values)\n",
    "    return feature_values\n",
    "\n",
    "def get_cos_values(zenith,azimuth):\n",
    "    cos1 = []\n",
    "    cos2 = []\n",
    "    cos3 = []\n",
    "    for i,j in zip(zenith,azimuth):\n",
    "        cos1.append(np.sin(i) * np.cos(j))\n",
    "        cos2.append(np.sin(i) * np.sin(j))\n",
    "        cos3.append(np.cos(i))\n",
    "    return np.array(cos1),np.array(cos2),np.array(cos3)"
   ]
  },
  {
   "cell_type": "code",
   "execution_count": 2,
   "metadata": {},
   "outputs": [],
   "source": [
    "file_path = '/fs/scratch/PAS1495/amedina/'\n",
    "y = os.listdir(file_path+'processed_3D')\n",
    "\n",
    "file_names = []\n",
    "\n",
    "for i in y:\n",
    "    file_names.append(file_path+'processed_3D/'+i)\n",
    "\n",
    "file_names_batched = list(np.array_split(file_names,60))"
   ]
  },
  {
   "cell_type": "code",
   "execution_count": 3,
   "metadata": {
    "scrolled": true
   },
   "outputs": [
    {
     "name": "stdout",
     "output_type": "stream",
     "text": [
      "Loading File: /fs/scratch/PAS1495/amedina/processed_3D/images_5958.npy\n",
      "Loading File: /fs/scratch/PAS1495/amedina/processed_3D/images_207.npy\n",
      "Loading File: /fs/scratch/PAS1495/amedina/processed_3D/images_5774.npy\n",
      "Loading File: /fs/scratch/PAS1495/amedina/processed_3D/images_5256.npy\n",
      "Loading File: /fs/scratch/PAS1495/amedina/processed_3D/images_4768.npy\n",
      "Loading File: /fs/scratch/PAS1495/amedina/processed_3D/images_2519.npy\n",
      "Loading File: /fs/scratch/PAS1495/amedina/processed_3D/images_4632.npy\n",
      "Loading File: /fs/scratch/PAS1495/amedina/processed_3D/images_5356.npy\n",
      "Loading File: /fs/scratch/PAS1495/amedina/processed_3D/images_4155.npy\n",
      "Loading File: /fs/scratch/PAS1495/amedina/processed_3D/images_5633.npy\n",
      "Loading File: /fs/scratch/PAS1495/amedina/processed_3D/images_4163.npy\n",
      "Loading File: /fs/scratch/PAS1495/amedina/processed_3D/images_7039.npy\n",
      "Loading File: /fs/scratch/PAS1495/amedina/processed_3D/images_6819.npy\n",
      "Loading File: /fs/scratch/PAS1495/amedina/processed_3D/images_3831.npy\n",
      "Loading File: /fs/scratch/PAS1495/amedina/processed_3D/images_2088.npy\n",
      "Loading File: /fs/scratch/PAS1495/amedina/processed_3D/images_1612.npy\n",
      "Loading File: /fs/scratch/PAS1495/amedina/processed_3D/images_7526.npy\n",
      "Loading File: /fs/scratch/PAS1495/amedina/processed_3D/images_3090.npy\n",
      "Loading File: /fs/scratch/PAS1495/amedina/processed_3D/images_2302.npy\n",
      "Loading File: /fs/scratch/PAS1495/amedina/processed_3D/images_678.npy\n",
      "Loading File: /fs/scratch/PAS1495/amedina/processed_3D/images_3597.npy\n",
      "Loading File: /fs/scratch/PAS1495/amedina/processed_3D/images_6632.npy\n",
      "Loading File: /fs/scratch/PAS1495/amedina/processed_3D/images_2323.npy\n",
      "Loading File: /fs/scratch/PAS1495/amedina/processed_3D/images_3310.npy\n",
      "Loading File: /fs/scratch/PAS1495/amedina/processed_3D/images_7225.npy\n",
      "Loading File: /fs/scratch/PAS1495/amedina/processed_3D/images_6125.npy\n",
      "Loading File: /fs/scratch/PAS1495/amedina/processed_3D/images_6204.npy\n",
      "Loading File: /fs/scratch/PAS1495/amedina/processed_3D/images_5461.npy\n",
      "Loading File: /fs/scratch/PAS1495/amedina/processed_3D/images_2849.npy\n",
      "Loading File: /fs/scratch/PAS1495/amedina/processed_3D/images_5670.npy\n",
      "Loading File: /fs/scratch/PAS1495/amedina/processed_3D/images_2795.npy\n",
      "Loading File: /fs/scratch/PAS1495/amedina/processed_3D/images_1759.npy\n",
      "Loading File: /fs/scratch/PAS1495/amedina/processed_3D/images_7515.npy\n",
      "Loading File: /fs/scratch/PAS1495/amedina/processed_3D/images_7499.npy\n",
      "Loading File: /fs/scratch/PAS1495/amedina/processed_3D/images_4298.npy\n",
      "Loading File: /fs/scratch/PAS1495/amedina/processed_3D/images_7796.npy\n",
      "Loading File: /fs/scratch/PAS1495/amedina/processed_3D/images_5445.npy\n",
      "Loading File: /fs/scratch/PAS1495/amedina/processed_3D/images_2514.npy\n",
      "Loading File: /fs/scratch/PAS1495/amedina/processed_3D/images_2037.npy\n",
      "Loading File: /fs/scratch/PAS1495/amedina/processed_3D/images_1946.npy\n",
      "Loading File: /fs/scratch/PAS1495/amedina/processed_3D/images_3542.npy\n",
      "Loading File: /fs/scratch/PAS1495/amedina/processed_3D/images_7698.npy\n",
      "Loading File: /fs/scratch/PAS1495/amedina/processed_3D/images_1461.npy\n",
      "Loading File: /fs/scratch/PAS1495/amedina/processed_3D/images_1017.npy\n",
      "Loading File: /fs/scratch/PAS1495/amedina/processed_3D/images_1281.npy\n",
      "Loading File: /fs/scratch/PAS1495/amedina/processed_3D/images_3392.npy\n",
      "Loading File: /fs/scratch/PAS1495/amedina/processed_3D/images_2069.npy\n",
      "Loading File: /fs/scratch/PAS1495/amedina/processed_3D/images_2440.npy\n",
      "Loading File: /fs/scratch/PAS1495/amedina/processed_3D/images_6503.npy\n",
      "Loading File: /fs/scratch/PAS1495/amedina/processed_3D/images_7726.npy\n",
      "Loading File: /fs/scratch/PAS1495/amedina/processed_3D/images_6037.npy\n",
      "Loading File: /fs/scratch/PAS1495/amedina/processed_3D/images_1450.npy\n",
      "Loading File: /fs/scratch/PAS1495/amedina/processed_3D/images_7286.npy\n",
      "Loading File: /fs/scratch/PAS1495/amedina/processed_3D/images_4330.npy\n",
      "Loading File: /fs/scratch/PAS1495/amedina/processed_3D/images_2825.npy\n",
      "Loading File: /fs/scratch/PAS1495/amedina/processed_3D/images_5223.npy\n",
      "Loading File: /fs/scratch/PAS1495/amedina/processed_3D/images_1304.npy\n",
      "Loading File: /fs/scratch/PAS1495/amedina/processed_3D/images_2830.npy\n",
      "Loading File: /fs/scratch/PAS1495/amedina/processed_3D/images_9.npy\n",
      "Loading File: /fs/scratch/PAS1495/amedina/processed_3D/images_860.npy\n",
      "Loading File: /fs/scratch/PAS1495/amedina/processed_3D/images_5818.npy\n",
      "Loading File: /fs/scratch/PAS1495/amedina/processed_3D/images_5042.npy\n",
      "Loading File: /fs/scratch/PAS1495/amedina/processed_3D/images_4550.npy\n",
      "Loading File: /fs/scratch/PAS1495/amedina/processed_3D/images_4116.npy\n",
      "Loading File: /fs/scratch/PAS1495/amedina/processed_3D/images_3783.npy\n",
      "Loading File: /fs/scratch/PAS1495/amedina/processed_3D/images_2441.npy\n",
      "Loading File: /fs/scratch/PAS1495/amedina/processed_3D/images_44.npy\n",
      "Loading File: /fs/scratch/PAS1495/amedina/processed_3D/images_5605.npy\n",
      "Loading File: /fs/scratch/PAS1495/amedina/processed_3D/images_1242.npy\n",
      "Loading File: /fs/scratch/PAS1495/amedina/processed_3D/images_5748.npy\n",
      "Loading File: /fs/scratch/PAS1495/amedina/processed_3D/images_6122.npy\n",
      "Loading File: /fs/scratch/PAS1495/amedina/processed_3D/images_5792.npy\n",
      "Loading File: /fs/scratch/PAS1495/amedina/processed_3D/images_6619.npy\n",
      "Loading File: /fs/scratch/PAS1495/amedina/processed_3D/images_2894.npy\n",
      "Loading File: /fs/scratch/PAS1495/amedina/processed_3D/images_3241.npy\n",
      "Loading File: /fs/scratch/PAS1495/amedina/processed_3D/images_7851.npy\n",
      "Loading File: /fs/scratch/PAS1495/amedina/processed_3D/images_529.npy\n",
      "Loading File: /fs/scratch/PAS1495/amedina/processed_3D/images_5555.npy\n",
      "Loading File: /fs/scratch/PAS1495/amedina/processed_3D/images_4278.npy\n",
      "Loading File: /fs/scratch/PAS1495/amedina/processed_3D/images_5815.npy\n",
      "Loading File: /fs/scratch/PAS1495/amedina/processed_3D/images_2677.npy\n",
      "Loading File: /fs/scratch/PAS1495/amedina/processed_3D/images_5539.npy\n",
      "Loading File: /fs/scratch/PAS1495/amedina/processed_3D/images_4657.npy\n",
      "Loading File: /fs/scratch/PAS1495/amedina/processed_3D/images_3331.npy\n",
      "Loading File: /fs/scratch/PAS1495/amedina/processed_3D/images_2698.npy\n",
      "Loading File: /fs/scratch/PAS1495/amedina/processed_3D/images_4748.npy\n",
      "Loading File: /fs/scratch/PAS1495/amedina/processed_3D/images_1417.npy\n",
      "Loading File: /fs/scratch/PAS1495/amedina/processed_3D/images_2912.npy\n",
      "Loading File: /fs/scratch/PAS1495/amedina/processed_3D/images_4487.npy\n",
      "Loading File: /fs/scratch/PAS1495/amedina/processed_3D/images_7426.npy\n",
      "Loading File: /fs/scratch/PAS1495/amedina/processed_3D/images_6464.npy\n",
      "Loading File: /fs/scratch/PAS1495/amedina/processed_3D/images_4341.npy\n",
      "Loading File: /fs/scratch/PAS1495/amedina/processed_3D/images_5699.npy\n",
      "Loading File: /fs/scratch/PAS1495/amedina/processed_3D/images_2981.npy\n",
      "Loading File: /fs/scratch/PAS1495/amedina/processed_3D/images_2042.npy\n",
      "Loading File: /fs/scratch/PAS1495/amedina/processed_3D/images_3211.npy\n",
      "Loading File: /fs/scratch/PAS1495/amedina/processed_3D/images_7978.npy\n",
      "Loading File: /fs/scratch/PAS1495/amedina/processed_3D/images_5138.npy\n",
      "Loading File: /fs/scratch/PAS1495/amedina/processed_3D/images_2465.npy\n",
      "Loading File: /fs/scratch/PAS1495/amedina/processed_3D/images_7519.npy\n",
      "Loading File: /fs/scratch/PAS1495/amedina/processed_3D/images_6806.npy\n",
      "Loading File: /fs/scratch/PAS1495/amedina/processed_3D/images_7399.npy\n",
      "Loading File: /fs/scratch/PAS1495/amedina/processed_3D/images_4673.npy\n",
      "Loading File: /fs/scratch/PAS1495/amedina/processed_3D/images_594.npy\n",
      "Loading File: /fs/scratch/PAS1495/amedina/processed_3D/images_1435.npy\n",
      "Loading File: /fs/scratch/PAS1495/amedina/processed_3D/images_276.npy\n",
      "Loading File: /fs/scratch/PAS1495/amedina/processed_3D/images_6571.npy\n",
      "Loading File: /fs/scratch/PAS1495/amedina/processed_3D/images_4006.npy\n",
      "Loading File: /fs/scratch/PAS1495/amedina/processed_3D/images_6707.npy\n",
      "Loading File: /fs/scratch/PAS1495/amedina/processed_3D/images_7038.npy\n",
      "Loading File: /fs/scratch/PAS1495/amedina/processed_3D/images_3927.npy\n",
      "Loading File: /fs/scratch/PAS1495/amedina/processed_3D/images_5011.npy\n",
      "Loading File: /fs/scratch/PAS1495/amedina/processed_3D/images_719.npy\n",
      "Loading File: /fs/scratch/PAS1495/amedina/processed_3D/images_1538.npy\n",
      "Loading File: /fs/scratch/PAS1495/amedina/processed_3D/images_496.npy\n",
      "Loading File: /fs/scratch/PAS1495/amedina/processed_3D/images_6844.npy\n",
      "Loading File: /fs/scratch/PAS1495/amedina/processed_3D/images_2295.npy\n"
     ]
    },
    {
     "name": "stdout",
     "output_type": "stream",
     "text": [
      "Loading File: /fs/scratch/PAS1495/amedina/processed_3D/images_7850.npy\n",
      "Loading File: /fs/scratch/PAS1495/amedina/processed_3D/images_5971.npy\n",
      "Loading File: /fs/scratch/PAS1495/amedina/processed_3D/images_1227.npy\n",
      "Loading File: /fs/scratch/PAS1495/amedina/processed_3D/images_4001.npy\n",
      "Loading File: /fs/scratch/PAS1495/amedina/processed_3D/images_4573.npy\n",
      "Loading File: /fs/scratch/PAS1495/amedina/processed_3D/images_2758.npy\n",
      "Loading File: /fs/scratch/PAS1495/amedina/processed_3D/images_6983.npy\n",
      "Loading File: /fs/scratch/PAS1495/amedina/processed_3D/images_3617.npy\n",
      "Loading File: /fs/scratch/PAS1495/amedina/processed_3D/images_6790.npy\n",
      "Loading File: /fs/scratch/PAS1495/amedina/processed_3D/images_4963.npy\n",
      "Loading File: /fs/scratch/PAS1495/amedina/processed_3D/images_705.npy\n",
      "Loading File: /fs/scratch/PAS1495/amedina/processed_3D/images_7135.npy\n",
      "Loading File: /fs/scratch/PAS1495/amedina/processed_3D/images_1638.npy\n",
      "Loading File: /fs/scratch/PAS1495/amedina/processed_3D/images_1216.npy\n",
      "Loading File: /fs/scratch/PAS1495/amedina/processed_3D/images_1911.npy\n",
      "Loading File: /fs/scratch/PAS1495/amedina/processed_3D/images_5626.npy\n",
      "Loading File: /fs/scratch/PAS1495/amedina/processed_3D/images_671.npy\n"
     ]
    }
   ],
   "source": [
    "images1,labels = load_files(file_names_batched[0])"
   ]
  },
  {
   "cell_type": "code",
   "execution_count": 4,
   "metadata": {},
   "outputs": [
    {
     "name": "stdout",
     "output_type": "stream",
     "text": [
      "(5637, 60, 10, 19, 2)\n"
     ]
    }
   ],
   "source": [
    "images = images1[:,:,:,:,[0,7]]\n",
    "\n",
    "\n",
    "zenith_values = get_feature(labels,1)\n",
    "azimuth_values = get_feature(labels,2)\n",
    "\n",
    "cos1,cos2,cos3 = get_cos_values(zenith_values,azimuth_values)\n",
    "\n",
    "print(images.shape)"
   ]
  },
  {
   "cell_type": "code",
   "execution_count": 5,
   "metadata": {},
   "outputs": [
    {
     "name": "stderr",
     "output_type": "stream",
     "text": [
      "Using TensorFlow backend.\n"
     ]
    },
    {
     "data": {
      "text/plain": [
       "tensorflow.python.distribute.distribute_lib.StrategyV1"
      ]
     },
     "execution_count": 5,
     "metadata": {},
     "output_type": "execute_result"
    }
   ],
   "source": [
    "import tensorflow as tf\n",
    "\n",
    "import keras\n",
    "from keras.models import Sequential,load_model, Model\n",
    "from keras.layers import Dense, Dropout, Flatten, Input,InputLayer, Concatenate\n",
    "from keras.layers import Conv3D, MaxPooling3D , GaussianNoise,BatchNormalization\n",
    "from keras import backend as K\n",
    "from sklearn.model_selection import train_test_split,KFold\n",
    "from keras.layers import LeakyReLU,SpatialDropout3D,GaussianDropout,Lambda,UpSampling1D\n",
    "from keras import regularizers\n",
    "\n",
    "tf.distribute.Strategy"
   ]
  },
  {
   "cell_type": "code",
   "execution_count": 6,
   "metadata": {},
   "outputs": [],
   "source": [
    "cos_values = np.array(list(zip(cos1,cos2,cos3)))\n",
    "cos_values1 = cos_values * 0.5\n"
   ]
  },
  {
   "cell_type": "code",
   "execution_count": 7,
   "metadata": {},
   "outputs": [],
   "source": [
    "def get_data(images,values):\n",
    "    x_train, x_test , y_train , y_test = train_test_split(images,values,test_size = 0.2 , random_state=42)\n",
    "    return x_train,x_test,y_train,y_test\n",
    "\n",
    "x_train,x_test,y_train,y_test = get_data(images,cos_values1)"
   ]
  },
  {
   "cell_type": "code",
   "execution_count": 8,
   "metadata": {},
   "outputs": [],
   "source": [
    "def loss_space_angle(y_true,y_pred):\n",
    "    y_true1 = y_true/0.5\n",
    "    y_pred1 = y_pred/0.5\n",
    "    subtraction = tf.math.subtract(y_true1,y_pred1)\n",
    "    y = tf.matrix_diag_part(K.dot(subtraction,K.transpose(subtraction)))\n",
    "    loss = tf.math.reduce_mean(y)\n",
    "    return loss\n"
   ]
  },
  {
   "cell_type": "code",
   "execution_count": 9,
   "metadata": {
    "scrolled": true
   },
   "outputs": [
    {
     "name": "stderr",
     "output_type": "stream",
     "text": [
      "WARNING: Logging before flag parsing goes to stderr.\n",
      "W0730 16:42:02.933116 46957112829248 deprecation_wrapper.py:119] From /users/PAS1495/amedina/.local/lib/python2.7/site-packages/keras/backend/tensorflow_backend.py:74: The name tf.get_default_graph is deprecated. Please use tf.compat.v1.get_default_graph instead.\n",
      "\n",
      "W0730 16:42:02.947457 46957112829248 deprecation_wrapper.py:119] From /users/PAS1495/amedina/.local/lib/python2.7/site-packages/keras/backend/tensorflow_backend.py:517: The name tf.placeholder is deprecated. Please use tf.compat.v1.placeholder instead.\n",
      "\n",
      "W0730 16:42:02.952341 46957112829248 deprecation_wrapper.py:119] From /users/PAS1495/amedina/.local/lib/python2.7/site-packages/keras/backend/tensorflow_backend.py:4138: The name tf.random_uniform is deprecated. Please use tf.random.uniform instead.\n",
      "\n",
      "W0730 16:42:03.021821 46957112829248 deprecation_wrapper.py:119] From /users/PAS1495/amedina/.local/lib/python2.7/site-packages/keras/optimizers.py:790: The name tf.train.Optimizer is deprecated. Please use tf.compat.v1.train.Optimizer instead.\n",
      "\n"
     ]
    },
    {
     "name": "stdout",
     "output_type": "stream",
     "text": [
      "__________________________________________________________________________________________________\n",
      "Layer (type)                    Output Shape         Param #     Connected to                     \n",
      "==================================================================================================\n",
      "input_1 (InputLayer)            (None, 60, 10, 19, 2 0                                            \n",
      "__________________________________________________________________________________________________\n",
      "leaky_re_lu_1 (LeakyReLU)       (None, 60, 10, 19, 2 0           input_1[0][0]                    \n",
      "__________________________________________________________________________________________________\n",
      "max_pooling3d_1 (MaxPooling3D)  (None, 30, 5, 10, 2) 0           leaky_re_lu_1[0][0]              \n",
      "__________________________________________________________________________________________________\n",
      "conv3d_1 (Conv3D)               (None, 30, 5, 10, 32 1760        max_pooling3d_1[0][0]            \n",
      "__________________________________________________________________________________________________\n",
      "leaky_re_lu_2 (LeakyReLU)       (None, 30, 5, 10, 32 0           conv3d_1[0][0]                   \n",
      "__________________________________________________________________________________________________\n",
      "max_pooling3d_2 (MaxPooling3D)  (None, 15, 3, 5, 32) 0           leaky_re_lu_2[0][0]              \n",
      "__________________________________________________________________________________________________\n",
      "conv3d_2 (Conv3D)               (None, 15, 3, 5, 32) 27680       max_pooling3d_2[0][0]            \n",
      "__________________________________________________________________________________________________\n",
      "leaky_re_lu_3 (LeakyReLU)       (None, 15, 3, 5, 32) 0           conv3d_2[0][0]                   \n",
      "__________________________________________________________________________________________________\n",
      "max_pooling3d_3 (MaxPooling3D)  (None, 8, 2, 3, 32)  0           leaky_re_lu_3[0][0]              \n",
      "__________________________________________________________________________________________________\n",
      "conv3d_3 (Conv3D)               (None, 8, 2, 3, 32)  27680       max_pooling3d_3[0][0]            \n",
      "__________________________________________________________________________________________________\n",
      "flatten_1 (Flatten)             (None, 22800)        0           input_1[0][0]                    \n",
      "__________________________________________________________________________________________________\n",
      "flatten_2 (Flatten)             (None, 1536)         0           conv3d_3[0][0]                   \n",
      "__________________________________________________________________________________________________\n",
      "flatten_3 (Flatten)             (None, 3000)         0           max_pooling3d_1[0][0]            \n",
      "__________________________________________________________________________________________________\n",
      "flatten_4 (Flatten)             (None, 7200)         0           max_pooling3d_2[0][0]            \n",
      "__________________________________________________________________________________________________\n",
      "flatten_5 (Flatten)             (None, 1536)         0           max_pooling3d_3[0][0]            \n",
      "__________________________________________________________________________________________________\n",
      "concatenate_1 (Concatenate)     (None, 36072)        0           flatten_1[0][0]                  \n",
      "                                                                 flatten_2[0][0]                  \n",
      "                                                                 flatten_3[0][0]                  \n",
      "                                                                 flatten_4[0][0]                  \n",
      "                                                                 flatten_5[0][0]                  \n",
      "==================================================================================================\n",
      "Total params: 57,120\n",
      "Trainable params: 57,120\n",
      "Non-trainable params: 0\n",
      "__________________________________________________________________________________________________\n",
      "None\n"
     ]
    }
   ],
   "source": [
    "batch_size = 128\n",
    "epochs=40\n",
    "number_features = 2\n",
    "\n",
    "img_heights,img_rows, img_cols = 60,10,19\n",
    "input_shape = (img_rows, img_cols)\n",
    "\n",
    "kernel = 3\n",
    "kernel2 = 2\n",
    "\n",
    "model1_input = Input(shape=(img_heights,img_rows,img_cols,number_features))\n",
    "\n",
    "model1 = LeakyReLU(alpha = 0.01)(model1_input)\n",
    "output1 = MaxPooling3D(kernel2,padding='same')(model1)\n",
    "model1 = Conv3D(32,kernel,padding='same',kernel_regularizer=regularizers.l2(0.01))(output1)\n",
    "\n",
    "model1 = LeakyReLU(alpha = 0.01)(model1)\n",
    "output2 = MaxPooling3D(kernel2,padding='same')(model1)\n",
    "model1 = Conv3D(32,kernel,padding='same',kernel_regularizer=regularizers.l2(0.01))(output2)\n",
    "\n",
    "model1 = LeakyReLU(alpha = 0.01)(model1)\n",
    "output3 = MaxPooling3D(kernel2,padding='same')(model1)\n",
    "model1 = Conv3D(32,kernel,padding='same',kernel_regularizer=regularizers.l2(0.01))(output3)\n",
    "\n",
    "cnn_model1 = Flatten()(model1_input)\n",
    "cnn_model2 = Flatten()(model1)\n",
    "cnn_model3 = Flatten()(output1)\n",
    "cnn_model4 = Flatten()(output2)\n",
    "cnn_model5 = Flatten()(output3)\n",
    "cnn_model = Concatenate(axis=-1)([cnn_model1,\n",
    "                                  cnn_model2,\n",
    "                                  cnn_model3,\n",
    "                                  cnn_model4,\n",
    "                                  cnn_model5\n",
    "                                 ])\n",
    "\n",
    "cnn_model = Model(inputs=model1_input,outputs=cnn_model)\n",
    "opt = keras.optimizers.Adam(lr=0.0001, beta_1=0.9, beta_2=0.999, epsilon=1e-8, decay=1e-5, amsgrad=False)\n",
    "cnn_model.compile(optimizer=opt , loss = loss_space_angle)\n",
    "\n",
    "print(cnn_model.summary())"
   ]
  },
  {
   "cell_type": "code",
   "execution_count": 10,
   "metadata": {},
   "outputs": [
    {
     "name": "stderr",
     "output_type": "stream",
     "text": [
      "W0730 16:42:03.194226 46957112829248 deprecation_wrapper.py:119] From /users/PAS1495/amedina/.local/lib/python2.7/site-packages/keras/backend/tensorflow_backend.py:133: The name tf.placeholder_with_default is deprecated. Please use tf.compat.v1.placeholder_with_default instead.\n",
      "\n",
      "W0730 16:42:03.200237 46957112829248 deprecation.py:506] From /users/PAS1495/amedina/.local/lib/python2.7/site-packages/keras/backend/tensorflow_backend.py:3445: calling dropout (from tensorflow.python.ops.nn_ops) with keep_prob is deprecated and will be removed in a future version.\n",
      "Instructions for updating:\n",
      "Please use `rate` instead of `keep_prob`. Rate should be set to `rate = 1 - keep_prob`.\n"
     ]
    },
    {
     "name": "stdout",
     "output_type": "stream",
     "text": [
      "__________________________________________________________________________________________________\n",
      "Layer (type)                    Output Shape         Param #     Connected to                     \n",
      "==================================================================================================\n",
      "input_2 (InputLayer)            (None, 60, 10, 19, 2 0                                            \n",
      "__________________________________________________________________________________________________\n",
      "lambda_1 (Lambda)               (None, 36072)        0           input_2[0][0]                    \n",
      "__________________________________________________________________________________________________\n",
      "dropout_1 (Dropout)             (None, 36072)        0           lambda_1[0][0]                   \n",
      "__________________________________________________________________________________________________\n",
      "dense_1 (Dense)                 (None, 512)          18469376    dropout_1[0][0]                  \n",
      "__________________________________________________________________________________________________\n",
      "leaky_re_lu_4 (LeakyReLU)       (None, 512)          0           dense_1[0][0]                    \n",
      "__________________________________________________________________________________________________\n",
      "dropout_2 (Dropout)             (None, 512)          0           leaky_re_lu_4[0][0]              \n",
      "__________________________________________________________________________________________________\n",
      "dense_2 (Dense)                 (None, 512)          262656      dropout_2[0][0]                  \n",
      "__________________________________________________________________________________________________\n",
      "leaky_re_lu_5 (LeakyReLU)       (None, 512)          0           dense_2[0][0]                    \n",
      "__________________________________________________________________________________________________\n",
      "flatten_6 (Flatten)             (None, 22800)        0           input_2[0][0]                    \n",
      "__________________________________________________________________________________________________\n",
      "concatenate_2 (Concatenate)     (None, 23312)        0           leaky_re_lu_5[0][0]              \n",
      "                                                                 flatten_6[0][0]                  \n",
      "__________________________________________________________________________________________________\n",
      "dense_3 (Dense)                 (None, 3)            69939       concatenate_2[0][0]              \n",
      "==================================================================================================\n",
      "Total params: 18,801,971\n",
      "Trainable params: 18,801,971\n",
      "Non-trainable params: 0\n",
      "__________________________________________________________________________________________________\n",
      "None\n"
     ]
    }
   ],
   "source": [
    "input_new = Input(shape=(img_heights,img_rows,img_cols,number_features))\n",
    "\n",
    "output = Lambda(lambda x: cnn_model(x))(input_new)\n",
    "\n",
    "model = Dropout(0.5)(output)\n",
    "model = Dense(512)(model)\n",
    "model = LeakyReLU(alpha = 0.01)(model)\n",
    "model = Dropout(0.5)(model)\n",
    "model = Dense(512)(model)\n",
    "model = LeakyReLU(alpha = 0.01)(model)\n",
    "\n",
    "input_new_prime = Flatten()(input_new)\n",
    "model = Concatenate(axis=-1)([model, input_new_prime])\n",
    "\n",
    "predictions = Dense(3)(model)\n",
    "\n",
    "model = Model(inputs=input_new,outputs=predictions)\n",
    "opt = keras.optimizers.Adam(lr=0.0001, beta_1=0.9, beta_2=0.999, epsilon=1e-8, decay=1e-5, amsgrad=False)\n",
    "model.compile(optimizer=opt , loss = loss_space_angle)\n",
    "print(model.summary())"
   ]
  },
  {
   "cell_type": "code",
   "execution_count": 11,
   "metadata": {
    "scrolled": true
   },
   "outputs": [
    {
     "name": "stderr",
     "output_type": "stream",
     "text": [
      "W0730 16:42:03.357635 46957112829248 deprecation_wrapper.py:119] From /users/PAS1495/amedina/.local/lib/python2.7/site-packages/keras/backend/tensorflow_backend.py:986: The name tf.assign_add is deprecated. Please use tf.compat.v1.assign_add instead.\n",
      "\n"
     ]
    },
    {
     "name": "stdout",
     "output_type": "stream",
     "text": [
      "Train on 4509 samples, validate on 1128 samples\n",
      "Epoch 1/40\n",
      "4509/4509 [==============================] - 6s 1ms/step - loss: 0.7811 - val_loss: 0.6971\n",
      "Epoch 2/40\n",
      "4509/4509 [==============================] - 5s 1ms/step - loss: 0.6196 - val_loss: 0.6116\n",
      "Epoch 3/40\n",
      "4509/4509 [==============================] - 5s 1ms/step - loss: 0.5385 - val_loss: 0.5583\n",
      "Epoch 4/40\n",
      "4509/4509 [==============================] - 5s 1ms/step - loss: 0.4740 - val_loss: 0.4892\n",
      "Epoch 5/40\n",
      "4509/4509 [==============================] - 5s 1ms/step - loss: 0.4133 - val_loss: 0.4475\n",
      "Epoch 6/40\n",
      "4509/4509 [==============================] - 5s 1ms/step - loss: 0.3673 - val_loss: 0.4156\n",
      "Epoch 7/40\n",
      "4509/4509 [==============================] - 5s 1ms/step - loss: 0.3279 - val_loss: 0.3804\n",
      "Epoch 8/40\n",
      "4509/4509 [==============================] - 5s 1ms/step - loss: 0.2900 - val_loss: 0.3601\n",
      "Epoch 9/40\n",
      "4509/4509 [==============================] - 5s 1ms/step - loss: 0.2686 - val_loss: 0.3358\n",
      "Epoch 10/40\n",
      "4509/4509 [==============================] - 5s 1ms/step - loss: 0.2405 - val_loss: 0.3110\n",
      "Epoch 11/40\n",
      "4509/4509 [==============================] - 5s 1ms/step - loss: 0.2160 - val_loss: 0.2868\n",
      "Epoch 12/40\n",
      "4509/4509 [==============================] - 5s 1ms/step - loss: 0.1966 - val_loss: 0.2662\n",
      "Epoch 13/40\n",
      "4509/4509 [==============================] - 5s 1ms/step - loss: 0.1813 - val_loss: 0.2535\n",
      "Epoch 14/40\n",
      "4509/4509 [==============================] - 5s 1ms/step - loss: 0.1642 - val_loss: 0.2360\n",
      "Epoch 15/40\n",
      "4509/4509 [==============================] - 5s 1ms/step - loss: 0.1531 - val_loss: 0.2277\n",
      "Epoch 16/40\n",
      "4509/4509 [==============================] - 5s 1ms/step - loss: 0.1424 - val_loss: 0.2170\n",
      "Epoch 17/40\n",
      "4509/4509 [==============================] - 5s 1ms/step - loss: 0.1360 - val_loss: 0.2013\n",
      "Epoch 18/40\n",
      "4509/4509 [==============================] - 5s 1ms/step - loss: 0.1244 - val_loss: 0.1924\n",
      "Epoch 19/40\n",
      "4509/4509 [==============================] - 5s 1ms/step - loss: 0.1151 - val_loss: 0.1820\n",
      "Epoch 20/40\n",
      "4509/4509 [==============================] - 5s 1ms/step - loss: 0.1108 - val_loss: 0.1755\n",
      "Epoch 21/40\n",
      "4509/4509 [==============================] - 5s 1ms/step - loss: 0.1061 - val_loss: 0.1663\n",
      "Epoch 22/40\n",
      "4509/4509 [==============================] - 5s 1ms/step - loss: 0.0989 - val_loss: 0.1622\n",
      "Epoch 23/40\n",
      "4509/4509 [==============================] - 5s 1ms/step - loss: 0.0930 - val_loss: 0.1632\n",
      "Epoch 24/40\n",
      "4509/4509 [==============================] - 5s 1ms/step - loss: 0.0892 - val_loss: 0.1503\n",
      "Epoch 25/40\n",
      "4509/4509 [==============================] - 5s 1ms/step - loss: 0.0834 - val_loss: 0.1444\n",
      "Epoch 26/40\n",
      "4509/4509 [==============================] - 5s 1ms/step - loss: 0.0787 - val_loss: 0.1441\n",
      "Epoch 27/40\n",
      "4509/4509 [==============================] - 5s 1ms/step - loss: 0.0793 - val_loss: 0.1397\n",
      "Epoch 28/40\n",
      "4509/4509 [==============================] - 5s 1ms/step - loss: 0.0764 - val_loss: 0.1346\n",
      "Epoch 29/40\n",
      "4509/4509 [==============================] - 5s 1ms/step - loss: 0.0727 - val_loss: 0.1297\n",
      "Epoch 30/40\n",
      "4509/4509 [==============================] - 5s 1ms/step - loss: 0.0683 - val_loss: 0.1308\n",
      "Epoch 31/40\n",
      "4509/4509 [==============================] - 5s 1ms/step - loss: 0.0662 - val_loss: 0.1292\n",
      "Epoch 32/40\n",
      "4509/4509 [==============================] - 5s 1ms/step - loss: 0.0641 - val_loss: 0.1223\n",
      "Epoch 33/40\n",
      "4509/4509 [==============================] - 5s 1ms/step - loss: 0.0629 - val_loss: 0.1227\n",
      "Epoch 34/40\n",
      "4509/4509 [==============================] - 5s 1ms/step - loss: 0.0608 - val_loss: 0.1197\n",
      "Epoch 35/40\n",
      "4509/4509 [==============================] - 5s 1ms/step - loss: 0.0603 - val_loss: 0.1222\n",
      "Epoch 36/40\n",
      "4509/4509 [==============================] - 5s 1ms/step - loss: 0.0554 - val_loss: 0.1168\n",
      "Epoch 37/40\n",
      "4509/4509 [==============================] - 5s 1ms/step - loss: 0.0554 - val_loss: 0.1127\n",
      "Epoch 38/40\n",
      "4509/4509 [==============================] - 5s 1ms/step - loss: 0.0543 - val_loss: 0.1147\n",
      "Epoch 39/40\n",
      "4509/4509 [==============================] - 5s 1ms/step - loss: 0.0525 - val_loss: 0.1129\n",
      "Epoch 40/40\n",
      "4509/4509 [==============================] - 5s 1ms/step - loss: 0.0527 - val_loss: 0.1120\n"
     ]
    }
   ],
   "source": [
    "history=model.fit(x_train, y_train,\n",
    "                  batch_size=batch_size,\n",
    "                  epochs=epochs,\n",
    "                  verbose=1,\n",
    "                  validation_data=(x_test, y_test))"
   ]
  },
  {
   "cell_type": "code",
   "execution_count": 13,
   "metadata": {},
   "outputs": [
    {
     "name": "stdout",
     "output_type": "stream",
     "text": [
      "['loss', 'val_loss']\n"
     ]
    },
    {
     "data": {
      "image/png": "[encoded data removed]",
      "text/plain": [
       "<Figure size 432x288 with 1 Axes>"
      ]
     },
     "metadata": {},
     "output_type": "display_data"
    }
   ],
   "source": [
    "import matplotlib.pyplot as plt\n",
    "history_dict = history.history\n",
    "print(history_dict.keys())\n",
    "loss_values = history_dict['loss']\n",
    "val_loss_values = history_dict['val_loss']\n",
    "\n",
    "epochs = range(1, len(loss_values)+1)\n",
    "\n",
    "start = 2\n",
    "\n",
    "plt.plot(epochs[start:len(epochs)],loss_values[start:len(loss_values)],'bo',label='Training loss')\n",
    "plt.plot(epochs[start:len(epochs)],val_loss_values[start:len(val_loss_values)],'b',label='Validation loss')\n",
    "plt.title('Training and validation loss')\n",
    "plt.xlabel('Epochs')\n",
    "plt.ylabel('Loss')\n",
    "plt.legend()\n",
    "\n",
    "plt.show()"
   ]
  },
  {
   "cell_type": "code",
   "execution_count": 14,
   "metadata": {},
   "outputs": [],
   "source": [
    "np.savetxt('file2.txt',[epochs,loss_values,val_loss_values])"
   ]
  },
  {
   "cell_type": "code",
   "execution_count": null,
   "metadata": {},
   "outputs": [],
   "source": []
  }
 ],
 "metadata": {
  "kernelspec": {
   "display_name": "Python 2.7 (Conda 5.2) [python/2.7-conda5.2]",
   "language": "python",
   "name": "sys_python27conda"
  },
  "language_info": {
   "codemirror_mode": {
    "name": "ipython",
    "version": 2
   },
   "file_extension": ".py",
   "mimetype": "text/x-python",
   "name": "python",
   "nbconvert_exporter": "python",
   "pygments_lexer": "ipython2",
   "version": "2.7.15"
  }
 },
 "nbformat": 4,
 "nbformat_minor": 2
}
