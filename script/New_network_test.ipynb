{
 "cells": [
  {
   "cell_type": "code",
   "execution_count": 1,
   "metadata": {},
   "outputs": [],
   "source": [
    "import numpy as np\n",
    "import pandas as pd\n",
    "import sys,os\n",
    "\n",
    "def load_files(batch):\n",
    "    images = []\n",
    "    labels = []\n",
    "    for i in batch:\n",
    "        print('Loading File: ' + i)\n",
    "        x = np.load(i,encoding = 'latin1').item()\n",
    "        keys = x.keys()\n",
    "        for key in keys:\n",
    "            images.append(x[key][0])\n",
    "            labels.append(x[key][1])\n",
    "    return np.array(images),np.array(labels)\n",
    "\n",
    "def get_feature(labels,feature):\n",
    "    feature_values = []\n",
    "    for i in labels:\n",
    "        feature_values.append(i[feature])\n",
    "    feature_values = np.array(feature_values)\n",
    "    return feature_values\n",
    "\n",
    "def get_cos_values(zenith,azimuth):\n",
    "    cos1 = []\n",
    "    cos2 = []\n",
    "    cos3 = []\n",
    "    for i,j in zip(zenith,azimuth):\n",
    "        cos1.append(np.sin(i) * np.cos(j))\n",
    "        cos2.append(np.sin(i) * np.sin(j))\n",
    "        cos3.append(np.cos(i))\n",
    "    return np.array(cos1),np.array(cos2),np.array(cos3)"
   ]
  },
  {
   "cell_type": "code",
   "execution_count": 3,
   "metadata": {},
   "outputs": [
    {
     "ename": "FileNotFoundError",
     "evalue": "[WinError 3] The system cannot find the path specified: '/fs/scratch/PAS1495/amedina/processed_new'",
     "output_type": "error",
     "traceback": [
      "\u001b[1;31m---------------------------------------------------------------------------\u001b[0m",
      "\u001b[1;31mFileNotFoundError\u001b[0m                         Traceback (most recent call last)",
      "\u001b[1;32m<ipython-input-3-537c00afadbb>\u001b[0m in \u001b[0;36m<module>\u001b[1;34m\u001b[0m\n\u001b[0;32m      1\u001b[0m \u001b[0mfile_path\u001b[0m \u001b[1;33m=\u001b[0m \u001b[1;34m'/fs/scratch/PAS1495/amedina/'\u001b[0m\u001b[1;33m\u001b[0m\u001b[1;33m\u001b[0m\u001b[0m\n\u001b[1;32m----> 2\u001b[1;33m \u001b[0my\u001b[0m \u001b[1;33m=\u001b[0m \u001b[0mos\u001b[0m\u001b[1;33m.\u001b[0m\u001b[0mlistdir\u001b[0m\u001b[1;33m(\u001b[0m\u001b[0mfile_path\u001b[0m\u001b[1;33m+\u001b[0m\u001b[1;34m'processed_new'\u001b[0m\u001b[1;33m)\u001b[0m\u001b[1;33m\u001b[0m\u001b[1;33m\u001b[0m\u001b[0m\n\u001b[0m\u001b[0;32m      3\u001b[0m \u001b[1;33m\u001b[0m\u001b[0m\n\u001b[0;32m      4\u001b[0m \u001b[0mfile_names\u001b[0m \u001b[1;33m=\u001b[0m \u001b[1;33m[\u001b[0m\u001b[1;33m]\u001b[0m\u001b[1;33m\u001b[0m\u001b[1;33m\u001b[0m\u001b[0m\n\u001b[0;32m      5\u001b[0m \u001b[1;33m\u001b[0m\u001b[0m\n",
      "\u001b[1;31mFileNotFoundError\u001b[0m: [WinError 3] The system cannot find the path specified: '/fs/scratch/PAS1495/amedina/processed_new'"
     ]
    }
   ],
   "source": [
    "file_path = '/fs/scratch/PAS1495/amedina/'\n",
    "y = os.listdir(file_path+'processed_new')\n",
    "\n",
    "file_names = []\n",
    "\n",
    "for i in y:\n",
    "    file_names.append(file_path+'processed_new/'+i)\n",
    "\n",
    "file_names_batched = list(np.array_split(file_names,400))"
   ]
  },
  {
   "cell_type": "code",
   "execution_count": null,
   "metadata": {
    "scrolled": true
   },
   "outputs": [],
   "source": [
    "images,labels = load_files(file_names_batched[0])\n",
    "\n",
    "zenith_values = get_feature(labels,1)\n",
    "azimuth_values = get_feature(labels,2)\n",
    "\n",
    "cos1,cos2,cos3 = get_cos_values(zenith_values,azimuth_values)"
   ]
  },
  {
   "cell_type": "code",
   "execution_count": null,
   "metadata": {},
   "outputs": [],
   "source": [
    "import keras\n",
    "from keras.models import Sequential,load_model\n",
    "from keras.layers import Dense, Dropout, Flatten\n",
    "from keras.layers import Conv2D, MaxPooling2D , SeparableConv2D , GlobalAveragePooling2D, BatchNormalization\n",
    "from keras import backend as K\n",
    "from sklearn.model_selection import train_test_split,KFold\n",
    "from keras.layers import LeakyReLU, PReLU\n",
    "from keras import regularizers"
   ]
  },
  {
   "cell_type": "code",
   "execution_count": null,
   "metadata": {},
   "outputs": [],
   "source": [
    "cos_values = np.array(zip(cos1,cos2,cos3))"
   ]
  },
  {
   "cell_type": "code",
   "execution_count": null,
   "metadata": {},
   "outputs": [],
   "source": [
    "def get_data(images,true_values):\n",
    "    x_train, x_test , y_train , y_test = train_test_split(images,true_values,test_size = 0.2 , random_state=42)\n",
    "    x_train = x_train.reshape([x_train.shape[0],x_train.shape[1],x_train.shape[2],1])\n",
    "    x_test = x_test.reshape([x_test.shape[0],x_test.shape[1],x_test.shape[2],1])\n",
    "    return x_train,x_test,y_train,y_test\n",
    "\n",
    "x_train,x_test,y_train,y_test = get_data(images,cos_values)"
   ]
  },
  {
   "cell_type": "code",
   "execution_count": null,
   "metadata": {},
   "outputs": [],
   "source": [
    "import tensorflow as tf\n",
    "\n",
    "sess = tf.Session()\n",
    "\n",
    "def loss_space_angle(y_true,y_pred):\n",
    "    subtraction = tf.math.subtract(y_true,y_pred)\n",
    "    y = tf.matrix_diag_part(K.dot(subtraction,K.transpose(subtraction)))\n",
    "    loss = tf.math.reduce_mean(y)\n",
    "    return loss\n",
    "\n",
    "y = loss_space_angle(y_train[0:166],y_test)\n",
    "print(y.eval(session=sess))"
   ]
  },
  {
   "cell_type": "code",
   "execution_count": null,
   "metadata": {},
   "outputs": [],
   "source": [
    "batch_size = 128\n",
    "epochs=20\n",
    "\n",
    "img_rows, img_cols = 300,342\n",
    "input_shape = (img_rows, img_cols)\n",
    "\n",
    "kernel = 3\n",
    "kernel2 = 2\n",
    "\n",
    "model = Sequential()\n",
    "model.add(SeparableConv2D(16,kernel,\n",
    "                          input_shape = (img_rows,img_cols,1)))\n",
    "model.add(LeakyReLU(alpha = 0.01))\n",
    "model.add(SeparableConv2D(16,kernel))\n",
    "model.add(LeakyReLU(alpha = 0.01))\n",
    "model.add(SeparableConv2D(16,kernel))\n",
    "model.add(LeakyReLU(alpha = 0.01))\n",
    "model.add(MaxPooling2D(kernel2))\n",
    "\n",
    "model.add(Dropout(0.1))\n",
    "\n",
    "model.add(SeparableConv2D(16,kernel))\n",
    "model.add(LeakyReLU(alpha = 0.01))\n",
    "model.add(SeparableConv2D(16,kernel))\n",
    "model.add(LeakyReLU(alpha = 0.01))\n",
    "model.add(SeparableConv2D(16,kernel))\n",
    "model.add(LeakyReLU(alpha = 0.01))\n",
    "model.add(MaxPooling2D(kernel2))\n",
    "\n",
    "model.add(Dropout(0.1))\n",
    "\n",
    "model.add(SeparableConv2D(16,kernel))\n",
    "model.add(LeakyReLU(alpha = 0.01))\n",
    "model.add(SeparableConv2D(16,kernel))\n",
    "model.add(LeakyReLU(alpha = 0.01))\n",
    "model.add(SeparableConv2D(16,kernel))\n",
    "model.add(LeakyReLU(alpha = 0.01))\n",
    "model.add(MaxPooling2D(kernel2))\n",
    "\n",
    "model.add(SeparableConv2D(16,kernel))\n",
    "model.add(LeakyReLU(alpha = 0.01))\n",
    "model.add(SeparableConv2D(16,kernel))\n",
    "model.add(LeakyReLU(alpha = 0.01))\n",
    "model.add(SeparableConv2D(16,kernel))\n",
    "model.add(LeakyReLU(alpha = 0.01))\n",
    "model.add(MaxPooling2D(kernel2))\n",
    "\n",
    "model.add(Dropout(0.1))\n",
    "\n",
    "model.add(Flatten())\n",
    "\n",
    "model.add(Dense(32,activation='linear'))\n",
    "model.add(LeakyReLU(alpha = 0.01))\n",
    "model.add(Dense(3))\n",
    "\n",
    "opt = keras.optimizers.SGD(lr=0.01, decay=1e-6, momentum=.09, nesterov=True)\n",
    "model.compile(optimizer=opt , loss = loss_space_angle)"
   ]
  },
  {
   "cell_type": "code",
   "execution_count": null,
   "metadata": {},
   "outputs": [],
   "source": [
    "history=model.fit(x_train, y_train,\n",
    "          batch_size=batch_size,\n",
    "          epochs=epochs,\n",
    "          verbose=1,\n",
    "          validation_data=(x_test, y_test))"
   ]
  },
  {
   "cell_type": "code",
   "execution_count": null,
   "metadata": {},
   "outputs": [],
   "source": [
    "import matplotlib.pyplot as plt\n",
    "history_dict = history.history\n",
    "print(history_dict.keys())\n",
    "loss_values = history_dict['loss']\n",
    "val_loss_values = history_dict['val_loss']\n",
    "\n",
    "epochs = range(1, len(loss_values)+1)\n",
    "\n",
    "plt.plot(epochs,loss_values,'bo',label='Training loss')\n",
    "plt.plot(epochs,val_loss_values,'b',label='Validation loss')\n",
    "plt.title('Training and validation loss')\n",
    "plt.xlabel('Epochs')\n",
    "plt.ylabel('Loss')\n",
    "plt.legend()\n",
    "\n",
    "plt.show()"
   ]
  },
  {
   "cell_type": "code",
   "execution_count": null,
   "metadata": {},
   "outputs": [],
   "source": []
  }
 ],
 "metadata": {
  "kernelspec": {
   "display_name": "Python 3",
   "language": "python",
   "name": "python3"
  },
  "language_info": {
   "codemirror_mode": {
    "name": "ipython",
    "version": 3
   },
   "file_extension": ".py",
   "mimetype": "text/x-python",
   "name": "python",
   "nbconvert_exporter": "python",
   "pygments_lexer": "ipython3",
   "version": "3.7.3"
  }
 },
 "nbformat": 4,
 "nbformat_minor": 2
}
