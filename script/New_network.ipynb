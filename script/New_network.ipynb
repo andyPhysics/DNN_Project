{
 "cells": [
  {
   "cell_type": "code",
   "execution_count": 1,
   "metadata": {},
   "outputs": [],
   "source": [
    "import numpy as np\n",
    "import pandas as pd\n",
    "import sys,os\n",
    "\n",
    "def load_files(batch):\n",
    "    images = []\n",
    "    labels = []\n",
    "    for i in batch:\n",
    "        print('Loading File: ' + i)\n",
    "        x = np.load(i).item()\n",
    "        keys = x.keys()\n",
    "        for key in keys:\n",
    "            images.append(x[key][0])\n",
    "            labels.append(x[key][1])\n",
    "    return np.array(images),np.array(labels)\n",
    "\n",
    "def get_feature(labels,feature):\n",
    "    feature_values = []\n",
    "    for i in labels:\n",
    "        feature_values.append(i[feature])\n",
    "    feature_values = np.array(feature_values)\n",
    "    return feature_values\n",
    "\n",
    "def get_cos_values(zenith,azimuth):\n",
    "    cos1 = []\n",
    "    cos2 = []\n",
    "    cos3 = []\n",
    "    for i,j in zip(zenith,azimuth):\n",
    "        cos1.append(np.sin(i) * np.cos(j))\n",
    "        cos2.append(np.sin(i) * np.sin(j))\n",
    "        cos3.append(np.cos(i))\n",
    "    return np.array(cos1),np.array(cos2),np.array(cos3)"
   ]
  },
  {
   "cell_type": "code",
   "execution_count": 2,
   "metadata": {},
   "outputs": [],
   "source": [
    "file_path = '/fs/scratch/PAS1495/amedina/'\n",
    "y = os.listdir(file_path+'processed_new')\n",
    "\n",
    "file_names = []\n",
    "\n",
    "for i in y:\n",
    "    file_names.append(file_path+'processed_new/'+i)\n",
    "\n",
    "file_names_batched = list(np.array_split(file_names,400))"
   ]
  },
  {
   "cell_type": "code",
   "execution_count": 3,
   "metadata": {
    "scrolled": true
   },
   "outputs": [
    {
     "name": "stdout",
     "output_type": "stream",
     "text": [
      "Loading File: /fs/scratch/PAS1495/amedina/processed_new/images_5958.npy\n",
      "Loading File: /fs/scratch/PAS1495/amedina/processed_new/images_207.npy\n",
      "Loading File: /fs/scratch/PAS1495/amedina/processed_new/images_5774.npy\n",
      "Loading File: /fs/scratch/PAS1495/amedina/processed_new/images_5256.npy\n",
      "Loading File: /fs/scratch/PAS1495/amedina/processed_new/images_4768.npy\n",
      "Loading File: /fs/scratch/PAS1495/amedina/processed_new/images_2519.npy\n",
      "Loading File: /fs/scratch/PAS1495/amedina/processed_new/images_4632.npy\n",
      "Loading File: /fs/scratch/PAS1495/amedina/processed_new/images_5356.npy\n",
      "Loading File: /fs/scratch/PAS1495/amedina/processed_new/images_4155.npy\n",
      "Loading File: /fs/scratch/PAS1495/amedina/processed_new/images_5633.npy\n",
      "Loading File: /fs/scratch/PAS1495/amedina/processed_new/images_4163.npy\n",
      "Loading File: /fs/scratch/PAS1495/amedina/processed_new/images_7039.npy\n",
      "Loading File: /fs/scratch/PAS1495/amedina/processed_new/images_6819.npy\n",
      "Loading File: /fs/scratch/PAS1495/amedina/processed_new/images_3831.npy\n",
      "Loading File: /fs/scratch/PAS1495/amedina/processed_new/images_2088.npy\n",
      "Loading File: /fs/scratch/PAS1495/amedina/processed_new/images_1612.npy\n",
      "Loading File: /fs/scratch/PAS1495/amedina/processed_new/images_7526.npy\n",
      "Loading File: /fs/scratch/PAS1495/amedina/processed_new/images_3090.npy\n",
      "Loading File: /fs/scratch/PAS1495/amedina/processed_new/images_2302.npy\n",
      "Loading File: /fs/scratch/PAS1495/amedina/processed_new/images_678.npy\n"
     ]
    }
   ],
   "source": [
    "images,labels = load_files(file_names_batched[0])\n",
    "\n",
    "zenith_values = get_feature(labels,1)\n",
    "azimuth_values = get_feature(labels,2)\n",
    "\n",
    "cos1,cos2,cos3 = get_cos_values(zenith_values,azimuth_values)"
   ]
  },
  {
   "cell_type": "code",
   "execution_count": 4,
   "metadata": {},
   "outputs": [
    {
     "name": "stderr",
     "output_type": "stream",
     "text": [
      "Using TensorFlow backend.\n"
     ]
    }
   ],
   "source": [
    "import keras\n",
    "from keras.models import Sequential,load_model\n",
    "from keras.layers import Dense, Dropout, Flatten\n",
    "from keras.layers import Conv2D, MaxPooling2D , SeparableConv2D , GlobalAveragePooling2D, BatchNormalization\n",
    "from keras import backend as K\n",
    "from sklearn.model_selection import train_test_split,KFold\n",
    "from keras.layers import LeakyReLU, PReLU\n",
    "from keras import regularizers"
   ]
  },
  {
   "cell_type": "code",
   "execution_count": 5,
   "metadata": {},
   "outputs": [],
   "source": [
    "cos_values = np.array(zip(cos1,cos2,cos3))"
   ]
  },
  {
   "cell_type": "code",
   "execution_count": 6,
   "metadata": {},
   "outputs": [],
   "source": [
    "def get_data(images,true_values):\n",
    "    x_train, x_test , y_train , y_test = train_test_split(images,true_values,test_size = 0.2 , random_state=42)\n",
    "    x_train = x_train.reshape([x_train.shape[0],x_train.shape[1],x_train.shape[2],1])\n",
    "    x_test = x_test.reshape([x_test.shape[0],x_test.shape[1],x_test.shape[2],1])\n",
    "    return x_train,x_test,y_train,y_test\n",
    "\n",
    "x_train,x_test,y_train,y_test = get_data(images,cos_values)"
   ]
  },
  {
   "cell_type": "code",
   "execution_count": 7,
   "metadata": {},
   "outputs": [
    {
     "name": "stdout",
     "output_type": "stream",
     "text": [
      "1.5575252582720704\n"
     ]
    }
   ],
   "source": [
    "import itertools\n",
    "import tensorflow as tf\n",
    "\n",
    "sess = tf.Session()\n",
    "\n",
    "def loss_space_angle(y_true,y_pred):\n",
    "    subtraction = tf.math.subtract(y_true,y_pred)\n",
    "    y = tf.matrix_diag_part(K.dot(subtraction,K.transpose(subtraction)))\n",
    "    loss = tf.math.reduce_mean(y)\n",
    "    return loss\n",
    "\n",
    "y = loss_space_angle(y_train[0:166],y_test)\n",
    "print(y.eval(session=sess))"
   ]
  },
  {
   "cell_type": "code",
   "execution_count": 8,
   "metadata": {},
   "outputs": [
    {
     "name": "stdout",
     "output_type": "stream",
     "text": [
      "WARNING:tensorflow:From /users/PAS1495/amedina/.local/lib/python2.7/site-packages/tensorflow/python/framework/op_def_library.py:263: colocate_with (from tensorflow.python.framework.ops) is deprecated and will be removed in a future version.\n",
      "Instructions for updating:\n",
      "Colocations handled automatically by placer.\n",
      "WARNING:tensorflow:From /users/PAS1495/amedina/.local/lib/python2.7/site-packages/keras/backend/tensorflow_backend.py:3445: calling dropout (from tensorflow.python.ops.nn_ops) with keep_prob is deprecated and will be removed in a future version.\n",
      "Instructions for updating:\n",
      "Please use `rate` instead of `keep_prob`. Rate should be set to `rate = 1 - keep_prob`.\n"
     ]
    }
   ],
   "source": [
    "batch_size = 128\n",
    "epochs=10\n",
    "\n",
    "img_rows, img_cols = 300,342\n",
    "input_shape = (img_rows, img_cols)\n",
    "\n",
    "kernel = 3\n",
    "kernel2 = 2\n",
    "\n",
    "model = Sequential()\n",
    "model.add(SeparableConv2D(32,kernel,\n",
    "                          input_shape = (img_rows,img_cols,1),kernel_regularizer = regularizers.l2(0.01)))\n",
    "model.add(LeakyReLU(alpha = 0.01))\n",
    "model.add(SeparableConv2D(32,kernel,kernel_regularizer = regularizers.l2(0.01)))\n",
    "model.add(LeakyReLU(alpha = 0.01))\n",
    "model.add(SeparableConv2D(32,kernel,kernel_regularizer = regularizers.l2(0.01)))\n",
    "model.add(LeakyReLU(alpha = 0.01))\n",
    "model.add(MaxPooling2D(kernel2))\n",
    "\n",
    "model.add(Dropout(0.25))\n",
    "\n",
    "model.add(SeparableConv2D(32,kernel,kernel_regularizer = regularizers.l2(0.01)))\n",
    "model.add(LeakyReLU(alpha = 0.01))\n",
    "model.add(SeparableConv2D(32,kernel,kernel_regularizer = regularizers.l2(0.01)))\n",
    "model.add(LeakyReLU(alpha = 0.01))\n",
    "model.add(SeparableConv2D(32,kernel,kernel_regularizer = regularizers.l2(0.01)))\n",
    "model.add(LeakyReLU(alpha = 0.01))\n",
    "model.add(MaxPooling2D(kernel2))\n",
    "\n",
    "model.add(Dropout(0.25))\n",
    "\n",
    "model.add(SeparableConv2D(32,kernel,kernel_regularizer = regularizers.l2(0.01)))\n",
    "model.add(LeakyReLU(alpha = 0.01))\n",
    "model.add(SeparableConv2D(32,kernel,kernel_regularizer = regularizers.l2(0.01)))\n",
    "model.add(LeakyReLU(alpha = 0.01))\n",
    "model.add(SeparableConv2D(32,kernel,kernel_regularizer = regularizers.l2(0.01)))\n",
    "model.add(LeakyReLU(alpha = 0.01))\n",
    "model.add(MaxPooling2D(kernel2))\n",
    "\n",
    "model.add(Dropout(0.25))\n",
    "\n",
    "model.add(Flatten())\n",
    "\n",
    "model.add(Dense(32,activation='linear'))\n",
    "model.add(LeakyReLU(alpha = 0.01))\n",
    "model.add(Dense(3))\n",
    "\n",
    "\n",
    "model.compile(optimizer='adam' , loss = loss_space_angle)"
   ]
  },
  {
   "cell_type": "code",
   "execution_count": 9,
   "metadata": {},
   "outputs": [
    {
     "name": "stdout",
     "output_type": "stream",
     "text": [
      "Train on 664 samples, validate on 166 samples\n",
      "Epoch 1/10\n",
      "664/664 [==============================] - 28s 42ms/step - loss: 0.9128 - val_loss: 0.7823\n",
      "Epoch 2/10\n",
      "664/664 [==============================] - 27s 41ms/step - loss: 0.7774 - val_loss: 0.7711\n",
      "Epoch 3/10\n",
      "664/664 [==============================] - 27s 41ms/step - loss: 0.7600 - val_loss: 0.7640\n",
      "Epoch 4/10\n",
      "664/664 [==============================] - 27s 41ms/step - loss: 0.7704 - val_loss: 0.7585\n",
      "Epoch 5/10\n",
      "664/664 [==============================] - 27s 41ms/step - loss: 0.7599 - val_loss: 0.7571\n",
      "Epoch 6/10\n",
      "664/664 [==============================] - 26s 40ms/step - loss: 0.7587 - val_loss: 0.7537\n",
      "Epoch 7/10\n",
      "664/664 [==============================] - 27s 40ms/step - loss: 0.7598 - val_loss: 0.7562\n",
      "Epoch 8/10\n",
      "664/664 [==============================] - 27s 40ms/step - loss: 0.7594 - val_loss: 0.7630\n",
      "Epoch 9/10\n",
      "664/664 [==============================] - 26s 40ms/step - loss: 0.7596 - val_loss: 0.7541\n",
      "Epoch 10/10\n",
      "664/664 [==============================] - 27s 41ms/step - loss: 0.7626 - val_loss: 0.7578\n"
     ]
    }
   ],
   "source": [
    "history=model.fit(x_train, y_train,\n",
    "          batch_size=batch_size,\n",
    "          epochs=epochs,\n",
    "          verbose=1,\n",
    "          validation_data=(x_test, y_test))"
   ]
  },
  {
   "cell_type": "code",
   "execution_count": 13,
   "metadata": {},
   "outputs": [
    {
     "name": "stdout",
     "output_type": "stream",
     "text": [
      "['loss', 'val_loss']\n"
     ]
    },
    {
     "data": {
      "image/png": "[encoded data removed]",
      "text/plain": [
       "<Figure size 432x288 with 1 Axes>"
      ]
     },
     "metadata": {},
     "output_type": "display_data"
    }
   ],
   "source": [
    "import matplotlib.pyplot as plt\n",
    "history_dict = history.history\n",
    "print(history_dict.keys())\n",
    "loss_values = history_dict['loss']\n",
    "val_loss_values = history_dict['val_loss']\n",
    "\n",
    "epochs = range(1, len(loss_values)+1)\n",
    "\n",
    "plt.plot(epochs,loss_values,'bo',label='Training loss')\n",
    "plt.plot(epochs,val_loss_values,'b',label='Validation loss')\n",
    "plt.title('Training and validation loss')\n",
    "plt.xlabel('Epochs')\n",
    "plt.ylabel('Loss')\n",
    "plt.legend()\n",
    "\n",
    "plt.show()"
   ]
  },
  {
   "cell_type": "code",
   "execution_count": null,
   "metadata": {},
   "outputs": [],
   "source": []
  }
 ],
 "metadata": {
  "kernelspec": {
   "display_name": "Python 2.7 (Conda 5.2) [python/2.7-conda5.2]",
   "language": "python",
   "name": "sys_python27conda"
  },
  "language_info": {
   "codemirror_mode": {
    "name": "ipython",
    "version": 2
   },
   "file_extension": ".py",
   "mimetype": "text/x-python",
   "name": "python",
   "nbconvert_exporter": "python",
   "pygments_lexer": "ipython2",
   "version": "2.7.15"
  }
 },
 "nbformat": 4,
 "nbformat_minor": 2
}
