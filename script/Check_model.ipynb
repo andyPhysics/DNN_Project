{
 "cells": [
  {
   "cell_type": "markdown",
   "metadata": {},
   "source": [
    "## Analysis of model\n",
    "\n",
    "Here I produce the plots that were necessary for this analysis. It takes quite some time to run but it shows the histogram of the error and also the zenith distribution. It also produces predicted values using the model that was best up till now. "
   ]
  },
  {
   "cell_type": "code",
   "execution_count": 1,
   "metadata": {},
   "outputs": [],
   "source": [
    "import numpy as np"
   ]
  },
  {
   "cell_type": "code",
   "execution_count": 2,
   "metadata": {},
   "outputs": [],
   "source": [
    "import pandas as pd\n",
    "import sys,os"
   ]
  },
  {
   "cell_type": "code",
   "execution_count": 3,
   "metadata": {},
   "outputs": [],
   "source": [
    "def load_files(batch):\n",
    "    images = []\n",
    "    labels = []\n",
    "    for i in batch:\n",
    "        print('Loading File: ' + i)\n",
    "        x = np.load(i).item()\n",
    "        keys = x.keys()\n",
    "        for key in keys:\n",
    "            images.append(x[key][0])\n",
    "            labels.append(x[key][1])\n",
    "    return np.array(images),np.array(labels)\n",
    "\n",
    "def get_zenith(labels):\n",
    "    zenith_values = []\n",
    "    for i in labels:\n",
    "        zenith_values.append(i[1])\n",
    "    zenith_values = np.array(zenith_values)\n",
    "    return zenith_values"
   ]
  },
  {
   "cell_type": "code",
   "execution_count": 4,
   "metadata": {},
   "outputs": [],
   "source": [
    "output_best = 'test_best4.h5'\n",
    "file_path = '/fs/scratch/PAS1495/amedina/'\n",
    "y = os.listdir(file_path+'processed_new')\n",
    "\n",
    "file_names = []\n",
    "\n",
    "for i in y:\n",
    "    file_names.append(file_path+'processed_new/'+i)\n",
    "\n",
    "file_names_batched = list(np.array_split(file_names,5))"
   ]
  },
  {
   "cell_type": "code",
   "execution_count": 5,
   "metadata": {},
   "outputs": [
    {
     "name": "stdout",
     "output_type": "stream",
     "text": [
      "Loading File: /fs/scratch/PAS1495/amedina/processed_new/images_2437.npy\n",
      "Loading File: /fs/scratch/PAS1495/amedina/processed_new/images_2128.npy\n",
      "Loading File: /fs/scratch/PAS1495/amedina/processed_new/images_2922.npy\n",
      "Loading File: /fs/scratch/PAS1495/amedina/processed_new/images_3648.npy\n",
      "Loading File: /fs/scratch/PAS1495/amedina/processed_new/images_4774.npy\n",
      "Loading File: /fs/scratch/PAS1495/amedina/processed_new/images_67.npy\n",
      "Loading File: /fs/scratch/PAS1495/amedina/processed_new/images_3786.npy\n",
      "Loading File: /fs/scratch/PAS1495/amedina/processed_new/images_1949.npy\n",
      "Loading File: /fs/scratch/PAS1495/amedina/processed_new/images_4297.npy\n",
      "Loading File: /fs/scratch/PAS1495/amedina/processed_new/images_5086.npy\n",
      "Loading File: /fs/scratch/PAS1495/amedina/processed_new/images_1870.npy\n",
      "Loading File: /fs/scratch/PAS1495/amedina/processed_new/images_218.npy\n",
      "Loading File: /fs/scratch/PAS1495/amedina/processed_new/images_99.npy\n",
      "Loading File: /fs/scratch/PAS1495/amedina/processed_new/images_1982.npy\n",
      "Loading File: /fs/scratch/PAS1495/amedina/processed_new/images_2192.npy\n",
      "Loading File: /fs/scratch/PAS1495/amedina/processed_new/images_1936.npy\n",
      "Loading File: /fs/scratch/PAS1495/amedina/processed_new/images_2427.npy\n",
      "Loading File: /fs/scratch/PAS1495/amedina/processed_new/images_281.npy\n",
      "Loading File: /fs/scratch/PAS1495/amedina/processed_new/images_840.npy\n",
      "Loading File: /fs/scratch/PAS1495/amedina/processed_new/images_2811.npy\n",
      "Loading File: /fs/scratch/PAS1495/amedina/processed_new/images_3475.npy\n",
      "Loading File: /fs/scratch/PAS1495/amedina/processed_new/images_979.npy\n",
      "Loading File: /fs/scratch/PAS1495/amedina/processed_new/images_4152.npy\n",
      "Loading File: /fs/scratch/PAS1495/amedina/processed_new/images_1650.npy\n",
      "Loading File: /fs/scratch/PAS1495/amedina/processed_new/images_7413.npy\n",
      "Loading File: /fs/scratch/PAS1495/amedina/processed_new/images_6546.npy\n",
      "Loading File: /fs/scratch/PAS1495/amedina/processed_new/images_3507.npy\n",
      "Loading File: /fs/scratch/PAS1495/amedina/processed_new/images_6129.npy\n",
      "Loading File: /fs/scratch/PAS1495/amedina/processed_new/images_4804.npy\n",
      "Loading File: /fs/scratch/PAS1495/amedina/processed_new/images_7733.npy\n",
      "Loading File: /fs/scratch/PAS1495/amedina/processed_new/images_4922.npy\n",
      "Loading File: /fs/scratch/PAS1495/amedina/processed_new/images_2141.npy\n",
      "Loading File: /fs/scratch/PAS1495/amedina/processed_new/images_3712.npy\n",
      "Loading File: /fs/scratch/PAS1495/amedina/processed_new/images_2194.npy\n",
      "Loading File: /fs/scratch/PAS1495/amedina/processed_new/images_1920.npy\n",
      "Loading File: /fs/scratch/PAS1495/amedina/processed_new/images_7973.npy\n",
      "Loading File: /fs/scratch/PAS1495/amedina/processed_new/images_178.npy\n",
      "Loading File: /fs/scratch/PAS1495/amedina/processed_new/images_7945.npy\n",
      "Loading File: /fs/scratch/PAS1495/amedina/processed_new/images_72.npy\n",
      "Loading File: /fs/scratch/PAS1495/amedina/processed_new/images_5482.npy\n",
      "Loading File: /fs/scratch/PAS1495/amedina/processed_new/images_6627.npy\n",
      "Loading File: /fs/scratch/PAS1495/amedina/processed_new/images_6070.npy\n",
      "Loading File: /fs/scratch/PAS1495/amedina/processed_new/images_892.npy\n",
      "Loading File: /fs/scratch/PAS1495/amedina/processed_new/images_4933.npy\n",
      "Loading File: /fs/scratch/PAS1495/amedina/processed_new/images_6382.npy\n",
      "Loading File: /fs/scratch/PAS1495/amedina/processed_new/images_6857.npy\n",
      "Loading File: /fs/scratch/PAS1495/amedina/processed_new/images_7377.npy\n",
      "Loading File: /fs/scratch/PAS1495/amedina/processed_new/images_4594.npy\n",
      "Loading File: /fs/scratch/PAS1495/amedina/processed_new/images_3817.npy\n",
      "Loading File: /fs/scratch/PAS1495/amedina/processed_new/images_7306.npy\n",
      "Loading File: /fs/scratch/PAS1495/amedina/processed_new/images_4289.npy\n",
      "Loading File: /fs/scratch/PAS1495/amedina/processed_new/images_6612.npy\n",
      "Loading File: /fs/scratch/PAS1495/amedina/processed_new/images_5771.npy\n",
      "Loading File: /fs/scratch/PAS1495/amedina/processed_new/images_4863.npy\n",
      "Loading File: /fs/scratch/PAS1495/amedina/processed_new/images_2717.npy\n",
      "Loading File: /fs/scratch/PAS1495/amedina/processed_new/images_5449.npy\n",
      "Loading File: /fs/scratch/PAS1495/amedina/processed_new/images_7221.npy\n",
      "Loading File: /fs/scratch/PAS1495/amedina/processed_new/images_5271.npy\n",
      "Loading File: /fs/scratch/PAS1495/amedina/processed_new/images_7065.npy\n",
      "Loading File: /fs/scratch/PAS1495/amedina/processed_new/images_3627.npy\n",
      "Loading File: /fs/scratch/PAS1495/amedina/processed_new/images_3286.npy\n",
      "Loading File: /fs/scratch/PAS1495/amedina/processed_new/images_2740.npy\n",
      "Loading File: /fs/scratch/PAS1495/amedina/processed_new/images_2558.npy\n",
      "Loading File: /fs/scratch/PAS1495/amedina/processed_new/images_2457.npy\n",
      "Loading File: /fs/scratch/PAS1495/amedina/processed_new/images_7467.npy\n",
      "Loading File: /fs/scratch/PAS1495/amedina/processed_new/images_5584.npy\n",
      "Loading File: /fs/scratch/PAS1495/amedina/processed_new/images_6713.npy\n",
      "Loading File: /fs/scratch/PAS1495/amedina/processed_new/images_7743.npy\n",
      "Loading File: /fs/scratch/PAS1495/amedina/processed_new/images_5553.npy\n",
      "Loading File: /fs/scratch/PAS1495/amedina/processed_new/images_4020.npy\n",
      "Loading File: /fs/scratch/PAS1495/amedina/processed_new/images_934.npy\n",
      "Loading File: /fs/scratch/PAS1495/amedina/processed_new/images_6168.npy\n",
      "Loading File: /fs/scratch/PAS1495/amedina/processed_new/images_7896.npy\n",
      "Loading File: /fs/scratch/PAS1495/amedina/processed_new/images_6269.npy\n",
      "Loading File: /fs/scratch/PAS1495/amedina/processed_new/images_5122.npy\n",
      "Loading File: /fs/scratch/PAS1495/amedina/processed_new/images_1215.npy\n",
      "Loading File: /fs/scratch/PAS1495/amedina/processed_new/images_1767.npy\n",
      "Loading File: /fs/scratch/PAS1495/amedina/processed_new/images_1707.npy\n",
      "Loading File: /fs/scratch/PAS1495/amedina/processed_new/images_1822.npy\n",
      "Loading File: /fs/scratch/PAS1495/amedina/processed_new/images_3692.npy\n",
      "Loading File: /fs/scratch/PAS1495/amedina/processed_new/images_4509.npy\n",
      "Loading File: /fs/scratch/PAS1495/amedina/processed_new/images_3345.npy\n",
      "Loading File: /fs/scratch/PAS1495/amedina/processed_new/images_772.npy\n",
      "Loading File: /fs/scratch/PAS1495/amedina/processed_new/images_3163.npy\n",
      "Loading File: /fs/scratch/PAS1495/amedina/processed_new/images_1860.npy\n",
      "Loading File: /fs/scratch/PAS1495/amedina/processed_new/images_620.npy\n",
      "Loading File: /fs/scratch/PAS1495/amedina/processed_new/images_2431.npy\n",
      "Loading File: /fs/scratch/PAS1495/amedina/processed_new/images_6427.npy\n",
      "Loading File: /fs/scratch/PAS1495/amedina/processed_new/images_2452.npy\n",
      "Loading File: /fs/scratch/PAS1495/amedina/processed_new/images_2330.npy\n",
      "Loading File: /fs/scratch/PAS1495/amedina/processed_new/images_1756.npy\n",
      "Loading File: /fs/scratch/PAS1495/amedina/processed_new/images_6465.npy\n",
      "Loading File: /fs/scratch/PAS1495/amedina/processed_new/images_6090.npy\n",
      "Loading File: /fs/scratch/PAS1495/amedina/processed_new/images_4686.npy\n",
      "Loading File: /fs/scratch/PAS1495/amedina/processed_new/images_5561.npy\n",
      "Loading File: /fs/scratch/PAS1495/amedina/processed_new/images_2722.npy\n",
      "Loading File: /fs/scratch/PAS1495/amedina/processed_new/images_3024.npy\n",
      "Loading File: /fs/scratch/PAS1495/amedina/processed_new/images_3976.npy\n",
      "Loading File: /fs/scratch/PAS1495/amedina/processed_new/images_2743.npy\n",
      "Loading File: /fs/scratch/PAS1495/amedina/processed_new/images_795.npy\n",
      "Loading File: /fs/scratch/PAS1495/amedina/processed_new/images_6917.npy\n",
      "Loading File: /fs/scratch/PAS1495/amedina/processed_new/images_7759.npy\n",
      "Loading File: /fs/scratch/PAS1495/amedina/processed_new/images_2176.npy\n",
      "Loading File: /fs/scratch/PAS1495/amedina/processed_new/images_1336.npy\n",
      "Loading File: /fs/scratch/PAS1495/amedina/processed_new/images_6672.npy\n",
      "Loading File: /fs/scratch/PAS1495/amedina/processed_new/images_4878.npy\n",
      "Loading File: /fs/scratch/PAS1495/amedina/processed_new/images_677.npy\n",
      "Loading File: /fs/scratch/PAS1495/amedina/processed_new/images_7014.npy\n",
      "Loading File: /fs/scratch/PAS1495/amedina/processed_new/images_7229.npy\n",
      "Loading File: /fs/scratch/PAS1495/amedina/processed_new/images_1512.npy\n",
      "Loading File: /fs/scratch/PAS1495/amedina/processed_new/images_4873.npy\n",
      "Loading File: /fs/scratch/PAS1495/amedina/processed_new/images_1796.npy\n",
      "Loading File: /fs/scratch/PAS1495/amedina/processed_new/images_4575.npy\n",
      "Loading File: /fs/scratch/PAS1495/amedina/processed_new/images_3335.npy\n",
      "Loading File: /fs/scratch/PAS1495/amedina/processed_new/images_7095.npy\n",
      "Loading File: /fs/scratch/PAS1495/amedina/processed_new/images_5975.npy\n"
     ]
    },
    {
     "name": "stdout",
     "output_type": "stream",
     "text": [
      "Loading File: /fs/scratch/PAS1495/amedina/processed_new/images_6439.npy\n",
      "Loading File: /fs/scratch/PAS1495/amedina/processed_new/images_850.npy\n",
      "Loading File: /fs/scratch/PAS1495/amedina/processed_new/images_4874.npy\n",
      "Loading File: /fs/scratch/PAS1495/amedina/processed_new/images_6824.npy\n",
      "Loading File: /fs/scratch/PAS1495/amedina/processed_new/images_1093.npy\n",
      "Loading File: /fs/scratch/PAS1495/amedina/processed_new/images_799.npy\n",
      "Loading File: /fs/scratch/PAS1495/amedina/processed_new/images_3502.npy\n",
      "Loading File: /fs/scratch/PAS1495/amedina/processed_new/images_1783.npy\n",
      "Loading File: /fs/scratch/PAS1495/amedina/processed_new/images_3864.npy\n",
      "Loading File: /fs/scratch/PAS1495/amedina/processed_new/images_682.npy\n",
      "Loading File: /fs/scratch/PAS1495/amedina/processed_new/images_345.npy\n",
      "Loading File: /fs/scratch/PAS1495/amedina/processed_new/images_5411.npy\n",
      "Loading File: /fs/scratch/PAS1495/amedina/processed_new/images_5650.npy\n",
      "Loading File: /fs/scratch/PAS1495/amedina/processed_new/images_340.npy\n",
      "Loading File: /fs/scratch/PAS1495/amedina/processed_new/images_2524.npy\n",
      "Loading File: /fs/scratch/PAS1495/amedina/processed_new/images_3603.npy\n",
      "Loading File: /fs/scratch/PAS1495/amedina/processed_new/images_1708.npy\n",
      "Loading File: /fs/scratch/PAS1495/amedina/processed_new/images_929.npy\n",
      "Loading File: /fs/scratch/PAS1495/amedina/processed_new/images_285.npy\n",
      "Loading File: /fs/scratch/PAS1495/amedina/processed_new/images_2824.npy\n",
      "Loading File: /fs/scratch/PAS1495/amedina/processed_new/images_6958.npy\n",
      "Loading File: /fs/scratch/PAS1495/amedina/processed_new/images_2803.npy\n",
      "Loading File: /fs/scratch/PAS1495/amedina/processed_new/images_4865.npy\n",
      "Loading File: /fs/scratch/PAS1495/amedina/processed_new/images_557.npy\n",
      "Loading File: /fs/scratch/PAS1495/amedina/processed_new/images_5135.npy\n",
      "Loading File: /fs/scratch/PAS1495/amedina/processed_new/images_2189.npy\n",
      "Loading File: /fs/scratch/PAS1495/amedina/processed_new/images_1845.npy\n",
      "Loading File: /fs/scratch/PAS1495/amedina/processed_new/images_7418.npy\n",
      "Loading File: /fs/scratch/PAS1495/amedina/processed_new/images_5200.npy\n",
      "Loading File: /fs/scratch/PAS1495/amedina/processed_new/images_6167.npy\n",
      "Loading File: /fs/scratch/PAS1495/amedina/processed_new/images_222.npy\n",
      "Loading File: /fs/scratch/PAS1495/amedina/processed_new/images_3073.npy\n",
      "Loading File: /fs/scratch/PAS1495/amedina/processed_new/images_2744.npy\n",
      "Loading File: /fs/scratch/PAS1495/amedina/processed_new/images_6133.npy\n",
      "Loading File: /fs/scratch/PAS1495/amedina/processed_new/images_7461.npy\n",
      "Loading File: /fs/scratch/PAS1495/amedina/processed_new/images_4259.npy\n",
      "Loading File: /fs/scratch/PAS1495/amedina/processed_new/images_1823.npy\n",
      "Loading File: /fs/scratch/PAS1495/amedina/processed_new/images_1279.npy\n",
      "Loading File: /fs/scratch/PAS1495/amedina/processed_new/images_4272.npy\n",
      "Loading File: /fs/scratch/PAS1495/amedina/processed_new/images_765.npy\n",
      "Loading File: /fs/scratch/PAS1495/amedina/processed_new/images_6973.npy\n",
      "Loading File: /fs/scratch/PAS1495/amedina/processed_new/images_3735.npy\n",
      "Loading File: /fs/scratch/PAS1495/amedina/processed_new/images_741.npy\n",
      "Loading File: /fs/scratch/PAS1495/amedina/processed_new/images_5440.npy\n",
      "Loading File: /fs/scratch/PAS1495/amedina/processed_new/images_4967.npy\n",
      "Loading File: /fs/scratch/PAS1495/amedina/processed_new/images_7675.npy\n",
      "Loading File: /fs/scratch/PAS1495/amedina/processed_new/images_446.npy\n",
      "Loading File: /fs/scratch/PAS1495/amedina/processed_new/images_4389.npy\n",
      "Loading File: /fs/scratch/PAS1495/amedina/processed_new/images_1142.npy\n",
      "Loading File: /fs/scratch/PAS1495/amedina/processed_new/images_5338.npy\n",
      "Loading File: /fs/scratch/PAS1495/amedina/processed_new/images_5379.npy\n",
      "Loading File: /fs/scratch/PAS1495/amedina/processed_new/images_1981.npy\n",
      "Loading File: /fs/scratch/PAS1495/amedina/processed_new/images_5006.npy\n",
      "Loading File: /fs/scratch/PAS1495/amedina/processed_new/images_7453.npy\n",
      "Loading File: /fs/scratch/PAS1495/amedina/processed_new/images_5192.npy\n",
      "Loading File: /fs/scratch/PAS1495/amedina/processed_new/images_855.npy\n",
      "Loading File: /fs/scratch/PAS1495/amedina/processed_new/images_1489.npy\n",
      "Loading File: /fs/scratch/PAS1495/amedina/processed_new/images_7211.npy\n",
      "Loading File: /fs/scratch/PAS1495/amedina/processed_new/images_265.npy\n",
      "Loading File: /fs/scratch/PAS1495/amedina/processed_new/images_6106.npy\n",
      "Loading File: /fs/scratch/PAS1495/amedina/processed_new/images_4997.npy\n",
      "Loading File: /fs/scratch/PAS1495/amedina/processed_new/images_7255.npy\n",
      "Loading File: /fs/scratch/PAS1495/amedina/processed_new/images_7164.npy\n",
      "Loading File: /fs/scratch/PAS1495/amedina/processed_new/images_7594.npy\n",
      "Loading File: /fs/scratch/PAS1495/amedina/processed_new/images_277.npy\n",
      "Loading File: /fs/scratch/PAS1495/amedina/processed_new/images_5180.npy\n",
      "Loading File: /fs/scratch/PAS1495/amedina/processed_new/images_4537.npy\n",
      "Loading File: /fs/scratch/PAS1495/amedina/processed_new/images_4805.npy\n",
      "Loading File: /fs/scratch/PAS1495/amedina/processed_new/images_4354.npy\n",
      "Loading File: /fs/scratch/PAS1495/amedina/processed_new/images_1791.npy\n",
      "Loading File: /fs/scratch/PAS1495/amedina/processed_new/images_7685.npy\n",
      "Loading File: /fs/scratch/PAS1495/amedina/processed_new/images_4762.npy\n",
      "Loading File: /fs/scratch/PAS1495/amedina/processed_new/images_724.npy\n",
      "Loading File: /fs/scratch/PAS1495/amedina/processed_new/images_1573.npy\n",
      "Loading File: /fs/scratch/PAS1495/amedina/processed_new/images_2473.npy\n",
      "Loading File: /fs/scratch/PAS1495/amedina/processed_new/images_4827.npy\n",
      "Loading File: /fs/scratch/PAS1495/amedina/processed_new/images_6299.npy\n",
      "Loading File: /fs/scratch/PAS1495/amedina/processed_new/images_5562.npy\n",
      "Loading File: /fs/scratch/PAS1495/amedina/processed_new/images_4838.npy\n",
      "Loading File: /fs/scratch/PAS1495/amedina/processed_new/images_2391.npy\n",
      "Loading File: /fs/scratch/PAS1495/amedina/processed_new/images_7257.npy\n",
      "Loading File: /fs/scratch/PAS1495/amedina/processed_new/images_576.npy\n",
      "Loading File: /fs/scratch/PAS1495/amedina/processed_new/images_5330.npy\n",
      "Loading File: /fs/scratch/PAS1495/amedina/processed_new/images_3632.npy\n"
     ]
    }
   ],
   "source": [
    "images,labels = load_files(file_names_batched[4][0:200])\n",
    "\n",
    "zenith_values = get_zenith(labels)"
   ]
  },
  {
   "cell_type": "code",
   "execution_count": 6,
   "metadata": {},
   "outputs": [
    {
     "name": "stderr",
     "output_type": "stream",
     "text": [
      "Using TensorFlow backend.\n"
     ]
    }
   ],
   "source": [
    "from keras.models import load_model"
   ]
  },
  {
   "cell_type": "code",
   "execution_count": 7,
   "metadata": {},
   "outputs": [],
   "source": [
    "def predict_images(model_name,images):\n",
    "    model = load_model(model_name)\n",
    "    predicted_zenith = model.predict(images)\n",
    "    return predicted_zenith"
   ]
  },
  {
   "cell_type": "code",
   "execution_count": 8,
   "metadata": {},
   "outputs": [
    {
     "name": "stdout",
     "output_type": "stream",
     "text": [
      "WARNING:tensorflow:From /users/PAS1495/amedina/.local/lib/python2.7/site-packages/tensorflow/python/framework/op_def_library.py:263: colocate_with (from tensorflow.python.framework.ops) is deprecated and will be removed in a future version.\n",
      "Instructions for updating:\n",
      "Colocations handled automatically by placer.\n",
      "WARNING:tensorflow:From /users/PAS1495/amedina/.local/lib/python2.7/site-packages/keras/backend/tensorflow_backend.py:3445: calling dropout (from tensorflow.python.ops.nn_ops) with keep_prob is deprecated and will be removed in a future version.\n",
      "Instructions for updating:\n",
      "Please use `rate` instead of `keep_prob`. Rate should be set to `rate = 1 - keep_prob`.\n",
      "WARNING:tensorflow:From /users/PAS1495/amedina/.local/lib/python2.7/site-packages/tensorflow/python/ops/math_ops.py:3066: to_int32 (from tensorflow.python.ops.math_ops) is deprecated and will be removed in a future version.\n",
      "Instructions for updating:\n",
      "Use tf.cast instead.\n"
     ]
    }
   ],
   "source": [
    "images = images.reshape([images.shape[0],images.shape[1],images.shape[2],1])\n",
    "zenith_1 = predict_images('/users/PAS1495/amedina/work/project/script/Network/'+output_best,images)"
   ]
  },
  {
   "cell_type": "code",
   "execution_count": 9,
   "metadata": {},
   "outputs": [],
   "source": [
    "true_energy = []\n",
    "for i in labels:\n",
    "    true_energy.append(i[0])\n",
    "delta_zenith1 = list([abs(i-j) for i,j in zip(zenith_1,np.cos(zenith_values))])\n",
    "true_energy_1 = [np.log10(x) for x in true_energy]"
   ]
  },
  {
   "cell_type": "code",
   "execution_count": 28,
   "metadata": {},
   "outputs": [],
   "source": [
    "import matplotlib.pylab as plt\n",
    "import matplotlib\n",
    "\n",
    "def plot_zenith(figure_number,x,y,plot_name):\n",
    "    plt.figure(figure_number)\n",
    "    plt.hist2d(x,y,\n",
    "               bins=100,\n",
    "               norm=matplotlib.colors.LogNorm())\n",
    "    #plt.xscale('log')\n",
    "    plt.colorbar()\n",
    "    plt.xlabel('Energy (GeV)')\n",
    "    plt.ylabel('Zenith Error (Rad)')\n",
    "    plt.savefig(plot_name)"
   ]
  },
  {
   "cell_type": "markdown",
   "metadata": {},
   "source": [
    "## Energy Distribution"
   ]
  },
  {
   "cell_type": "code",
   "execution_count": 30,
   "metadata": {},
   "outputs": [
    {
     "data": {
      "image/png": "[encoded data removed]",
      "text/plain": [
       "<Figure size 432x288 with 2 Axes>"
      ]
     },
     "metadata": {},
     "output_type": "display_data"
    }
   ],
   "source": [
    "zenith_plotting = zip(delta_zenith1,zenith_values)\n",
    "zenith_plot = [i[0]/np.sin(j) for i,j in zenith_plotting]\n",
    "plot_zenith(1,true_energy_1,zenith_plot,'final_heat_3.png')"
   ]
  },
  {
   "cell_type": "markdown",
   "metadata": {},
   "source": [
    "## Zenith Distribution"
   ]
  },
  {
   "cell_type": "code",
   "execution_count": 31,
   "metadata": {},
   "outputs": [
    {
     "name": "stdout",
     "output_type": "stream",
     "text": [
      "8606\n",
      "8606\n"
     ]
    },
    {
     "data": {
      "image/png": "[encoded data removed]",
      "text/plain": [
       "<Figure size 432x288 with 1 Axes>"
      ]
     },
     "metadata": {},
     "output_type": "display_data"
    }
   ],
   "source": [
    "plt.figure(5)\n",
    "plt.hist(zenith_1,bins=100,label='Predicted',edgecolor='blue', facecolor=\"None\")\n",
    "plt.hist(np.cos(zenith_values),bins=100,label='True',edgecolor='red', facecolor=\"None\")\n",
    "plt.xlabel('Zenith (Rad)')\n",
    "plt.ylabel('Count')\n",
    "plt.legend()\n",
    "plt.savefig('Histogram_3.png')\n",
    "print(len(zenith_1))\n",
    "print(len(zenith_values))"
   ]
  },
  {
   "cell_type": "markdown",
   "metadata": {},
   "source": [
    "## Zenith Error Distribution"
   ]
  },
  {
   "cell_type": "code",
   "execution_count": null,
   "metadata": {},
   "outputs": [],
   "source": [
    "plt.figure(6)\n",
    "plt.hist(zenith_plot,bins=1000)\n",
    "plt.xlabel('Zenith Error (Rad)')\n",
    "plt.ylabel('Count')\n",
    "plt.xlim(0,2)\n",
    "plt.savefig('Zenith_error_hist_3.png')"
   ]
  },
  {
   "cell_type": "code",
   "execution_count": 14,
   "metadata": {},
   "outputs": [
    {
     "name": "stdout",
     "output_type": "stream",
     "text": [
      "[0.07038142]\n"
     ]
    }
   ],
   "source": [
    "mean_square = [((i)**2.0) for i in delta_zenith1]\n",
    "print((sum(mean_square)/len(mean_square)))"
   ]
  },
  {
   "cell_type": "markdown",
   "metadata": {},
   "source": [
    "## Conclusions\n",
    "\n",
    "The mean squared error being 11.3 shows that we have quite a bit to go before we can actually use this model"
   ]
  },
  {
   "cell_type": "code",
   "execution_count": null,
   "metadata": {},
   "outputs": [],
   "source": []
  }
 ],
 "metadata": {
  "kernelspec": {
   "display_name": "Python 2.7 (Conda 5.2) [python/2.7-conda5.2]",
   "language": "python",
   "name": "sys_python27conda"
  },
  "language_info": {
   "codemirror_mode": {
    "name": "ipython",
    "version": 2
   },
   "file_extension": ".py",
   "mimetype": "text/x-python",
   "name": "python",
   "nbconvert_exporter": "python",
   "pygments_lexer": "ipython2",
   "version": "2.7.15"
  }
 },
 "nbformat": 4,
 "nbformat_minor": 2
}
